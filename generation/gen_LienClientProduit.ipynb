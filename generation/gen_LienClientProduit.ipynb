{
 "cells": [
  {
   "cell_type": "code",
   "execution_count": null,
   "metadata": {},
   "outputs": [],
   "source": []
  },
  {
   "cell_type": "code",
   "execution_count": 1,
   "metadata": {},
   "outputs": [
    {
     "data": {
      "text/plain": [
       "['homme_ouvrier',\n",
       " 'homme_cadre',\n",
       " 'homme_cadre_sup',\n",
       " 'femme_ouvrier',\n",
       " 'femme_cadre',\n",
       " 'femme_cadre_sup',\n",
       " 'couple_ouvrier',\n",
       " 'couple_cadre',\n",
       " 'couple_cadre_sup',\n",
       " 'couple_enfant_ouvrier',\n",
       " 'couple_enfant_cadre',\n",
       " 'couple_enfant_cadre_sup']"
      ]
     },
     "execution_count": 1,
     "metadata": {},
     "output_type": "execute_result"
    }
   ],
   "source": [
    "liste_genre = [\"homme\",\n",
    "        \"femme\",\n",
    "         \"couple\",\n",
    "         \"couple_enfant\",\n",
    "         ]\n",
    "\n",
    "liste_situation = [\"ouvrier\",\n",
    "            \"cadre\",\n",
    "            \"cadre_sup\"]\n",
    "\n",
    "liste_client =  []\n",
    "for genre in liste_genre :\n",
    "    for situation in liste_situation :\n",
    "        ID = '_'.join([genre, situation,])\n",
    "        liste_client.append (ID)\n",
    "        continue\n",
    "\n",
    "liste_client        "
   ]
  },
  {
   "cell_type": "code",
   "execution_count": 2,
   "metadata": {},
   "outputs": [
    {
     "data": {
      "text/plain": [
       "['bargain_bas_standart',\n",
       " 'bargain_bas_bio',\n",
       " 'bargain_moyen_standart',\n",
       " 'bargain_moyen_bio',\n",
       " 'bargain_haut_standart',\n",
       " 'bargain_haut_bio',\n",
       " 'normal_bas_standart',\n",
       " 'normal_bas_bio',\n",
       " 'normal_moyen_standart',\n",
       " 'normal_moyen_bio',\n",
       " 'normal_haut_standart',\n",
       " 'normal_haut_bio']"
      ]
     },
     "execution_count": 2,
     "metadata": {},
     "output_type": "execute_result"
    }
   ],
   "source": [
    "\n",
    "\n",
    "liste_bargain = ['bargain',\n",
    "          'normal',]\n",
    "liste_bio = ['standart','bio',\n",
    "      ]\n",
    "\n",
    "liste_gamme = ['bas',\n",
    "         'moyen',\n",
    "         'haut',\n",
    "         ]\n",
    "liste_situation_par_niveau = []\n",
    "for bargain in liste_bargain :\n",
    "    for gamme in liste_gamme :\n",
    "        for bio in liste_bio :\n",
    "            r = '_'.join ([bargain, gamme, bio])\n",
    "            liste_situation_par_niveau.append (r)\n",
    "            continue\n",
    "\n",
    "liste_situation_par_niveau\n"
   ]
  },
  {
   "cell_type": "code",
   "execution_count": 7,
   "metadata": {},
   "outputs": [
    {
     "data": {
      "text/plain": [
       "{'homme_ouvrier': ['bargain_bas_standart'],\n",
       " 'homme_cadre': ['bargain_bas_bio'],\n",
       " 'homme_cadre_sup': ['bargain_moyen_standart'],\n",
       " 'femme_ouvrier': ['bargain_moyen_bio'],\n",
       " 'femme_cadre': ['bargain_haut_standart'],\n",
       " 'femme_cadre_sup': ['bargain_haut_bio'],\n",
       " 'couple_ouvrier': ['normal_bas_standart'],\n",
       " 'couple_cadre': ['normal_bas_bio'],\n",
       " 'couple_cadre_sup': ['normal_moyen_standart'],\n",
       " 'couple_enfant_ouvrier': ['normal_moyen_bio'],\n",
       " 'couple_enfant_cadre': ['normal_haut_standart'],\n",
       " 'couple_enfant_cadre_sup': ['normal_haut_bio']}"
      ]
     },
     "execution_count": 7,
     "metadata": {},
     "output_type": "execute_result"
    }
   ],
   "source": [
    "lien = {}\n",
    "i = 0\n",
    "for ID in liste_client :\n",
    "    niveau = liste_situation_par_niveau [i]\n",
    "    lien [ID] = [niveau,]\n",
    "    i += 1\n",
    "    continue\n",
    "\n",
    "\n",
    "\n",
    "\n",
    "lien  \n"
   ]
  },
  {
   "cell_type": "code",
   "execution_count": null,
   "metadata": {},
   "outputs": [],
   "source": []
  },
  {
   "cell_type": "code",
   "execution_count": 8,
   "metadata": {},
   "outputs": [
    {
     "name": "stdout",
     "output_type": "stream",
     "text": [
      "#### verification\n",
      "\n",
      "\n",
      "\n",
      "##  homme_ouvrier\n",
      "    bargain_bas_standart\n",
      "\n",
      "##  homme_cadre\n",
      "    bargain_bas_bio\n",
      "\n",
      "##  homme_cadre_sup\n",
      "    bargain_moyen_standart\n",
      "\n",
      "##  femme_ouvrier\n",
      "    bargain_moyen_bio\n",
      "\n",
      "##  femme_cadre\n",
      "    bargain_haut_standart\n",
      "\n",
      "##  femme_cadre_sup\n",
      "    bargain_haut_bio\n",
      "\n",
      "##  couple_ouvrier\n",
      "    normal_bas_standart\n",
      "\n",
      "##  couple_cadre\n",
      "    normal_bas_bio\n",
      "\n",
      "##  couple_cadre_sup\n",
      "    normal_moyen_standart\n",
      "\n",
      "##  couple_enfant_ouvrier\n",
      "    normal_moyen_bio\n",
      "\n",
      "##  couple_enfant_cadre\n",
      "    normal_haut_standart\n",
      "\n",
      "##  couple_enfant_cadre_sup\n",
      "    normal_haut_bio\n",
      "\n"
     ]
    }
   ],
   "source": [
    "import json\n",
    "\n",
    "\n",
    "\n",
    "lienSaisi = {'homme_ouvrier': ['bargain_bas_standart'],\n",
    "             'homme_cadre': ['bargain_bas_bio'],\n",
    "             'homme_cadre_sup': ['bargain_moyen_standart'],\n",
    "             'femme_ouvrier': ['bargain_moyen_bio'],\n",
    "             'femme_cadre': ['bargain_haut_standart'],\n",
    "             'femme_cadre_sup': ['bargain_haut_bio'],\n",
    "             'couple_ouvrier': ['normal_bas_standart'],\n",
    "             'couple_cadre': ['normal_bas_bio'],\n",
    "             'couple_cadre_sup': ['normal_moyen_standart'],\n",
    "             'couple_enfant_ouvrier': ['normal_moyen_bio'],\n",
    "             'couple_enfant_cadre': ['normal_haut_standart'],\n",
    "             'couple_enfant_cadre_sup': ['normal_haut_bio'],\n",
    "            }\n",
    "\n",
    "\n",
    "# on sauve en json\n",
    "data = json.dumps (lienSaisi)\n",
    "nomFile = \"../data/generation/lienClientProduit.json\"\n",
    "f = open (nomFile , 'w')\n",
    "f.write (data)\n",
    "f.close()\n",
    "\n",
    "# on verifie\n",
    "\n",
    "nomFile = \"../data/generation/lienClientProduit.json\"\n",
    "f = open (nomFile , 'r')\n",
    "dicoLu = json.loads(f.read ())\n",
    "f.close()\n",
    "\n",
    "print (\"#### verification\")\n",
    "print ('\\n\\n')\n",
    "for categorie in dicoLu.keys () :\n",
    "    liste_produit = dicoLu [categorie]\n",
    "    print (\"## \", categorie)\n",
    "    for produit in liste_produit :\n",
    "        print (\"   \",produit)\n",
    "        continue\n",
    "    print ()\n",
    "    continue"
   ]
  },
  {
   "cell_type": "code",
   "execution_count": null,
   "metadata": {},
   "outputs": [],
   "source": []
  }
 ],
 "metadata": {
  "kernelspec": {
   "display_name": "Python 3",
   "language": "python",
   "name": "python3"
  },
  "language_info": {
   "codemirror_mode": {
    "name": "ipython",
    "version": 3
   },
   "file_extension": ".py",
   "mimetype": "text/x-python",
   "name": "python",
   "nbconvert_exporter": "python",
   "pygments_lexer": "ipython3",
   "version": "3.8.3"
  }
 },
 "nbformat": 4,
 "nbformat_minor": 4
}
