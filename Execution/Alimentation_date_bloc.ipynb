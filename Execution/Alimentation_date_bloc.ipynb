{
 "cells": [
  {
   "cell_type": "code",
   "execution_count": 74,
   "id": "electrical-momentum",
   "metadata": {},
   "outputs": [],
   "source": [
    "#%save Alimentation_date_bloc.py 69"
   ]
  },
  {
   "cell_type": "code",
   "execution_count": 69,
   "id": "optical-residence",
   "metadata": {},
   "outputs": [],
   "source": [
    "import  os, sys, json, luigi, time, copy\n",
    "from datetime import datetime\n",
    "\n",
    "path = \"../Calcul\"\n",
    "if path not in sys.path : \n",
    "    sys.path.append (path)\n",
    "\n",
    "class Alimentation_date_bloc () :\n",
    "    \n",
    "    def __init__ (self, arg ):\n",
    "        \n",
    "        self.arg_travail_data = arg\n",
    "        self.dico_systeme = arg ['pathDico_systeme']\n",
    "        self.format_date_standard= self.dico_systeme ['calcul']['format_date_standard']\n",
    "        #print (self.format_date_standard)\n",
    "        \n",
    "    def get_liste_date_bloc (self,) :\n",
    "        \n",
    "        date_debut = self.arg_travail_data ['variable_min']\n",
    "        date_fin = self.arg_travail_data ['variable_max']\n",
    "        \n",
    "        \n",
    "        date_debut_timestamp = self.timestamp (date_debut)\n",
    "        date_fin_timestamp = self.timestamp (date_fin)\n",
    "        \n",
    "        nombre_bloc_date = self.dico_systeme ['calcul'] ['nombre_bloc_date']\n",
    "        \n",
    "        timedelta = (date_fin_timestamp - date_debut_timestamp) / nombre_bloc_date\n",
    "        \n",
    "        resultat = []\n",
    "        time_debut = date_debut_timestamp\n",
    "        time_fin = date_debut_timestamp + timedelta\n",
    "        \n",
    "        while (True) :\n",
    "            if time_fin >= date_fin_timestamp :\n",
    "                d1  = self.fromtimestamp(time_debut) \n",
    "                d2 =  self.fromtimestamp(time_fin) \n",
    "                resultat.append ([d1, d2])\n",
    "                break\n",
    "            d1  = self.fromtimestamp(time_debut) \n",
    "            d2 =  self.fromtimestamp(time_fin)\n",
    "            resultat.append ([d1, d2])\n",
    "            \n",
    "            time_debut = time_fin\n",
    "            time_fin = time_fin + timedelta\n",
    "            continue\n",
    "        return resultat\n",
    "    \n",
    "    def timestamp (self, date) :\n",
    "        d = datetime.strptime(date, self.format_date_standard)\n",
    "        return datetime.timestamp(d)\n",
    "    \n",
    "    def fromtimestamp (self, timestamp) :\n",
    "        d = datetime.fromtimestamp(timestamp)\n",
    "        return datetime.strftime(d, self.format_date_standard)\n",
    "        \n",
    "        "
   ]
  },
  {
   "cell_type": "code",
   "execution_count": 3,
   "id": "dietary-fisher",
   "metadata": {},
   "outputs": [],
   "source": [
    "#%save test_alimentation_date_bloc.py 1"
   ]
  },
  {
   "cell_type": "code",
   "execution_count": 1,
   "id": "three-depression",
   "metadata": {},
   "outputs": [
    {
     "name": "stdout",
     "output_type": "stream",
     "text": [
      "fin test_alimentation_date_bloc \n"
     ]
    }
   ],
   "source": [
    "import time, json, os, json, sys\n",
    "from datetime import datetime\n",
    "\n",
    "\n",
    "from pprint import PrettyPrinter \n",
    "def P (stuff , pp = PrettyPrinter(indent=4)) :\n",
    "    return pp.pprint(stuff)\n",
    "\n",
    "path = \"../outils\"\n",
    "if path not in sys.path : \n",
    "    sys.path.append (path)\n",
    "    \n",
    "from Entree_sortie_lock import Entree_sortie_lock\n",
    "\n",
    "from Alimentation_date_bloc import Alimentation_date_bloc\n",
    "\n",
    "def test_alimentation_date_bloc () :\n",
    "    \n",
    "    arg = {}\n",
    "\n",
    "\n",
    "    #  variable pour alimentation bloc\n",
    "\n",
    "    arg ['ID_reference_min'] = 0\n",
    "    arg ['ID_reference_max'] = 100000000\n",
    "    arg ['ID_reference_sort'] = 'asc'\n",
    "    arg ['isReference'] = False\n",
    "    \n",
    "    arg ['isVariable'] =  True\n",
    "    arg ['nom_variableQuery'] = \"date_evenement\"\n",
    "    arg ['variable_min'] = '2021-02-01 00:00:00.00000'\n",
    "    arg ['variable_max'] = '2021-02-08 00:00:00.00000'\n",
    "    arg ['variable_sort'] = 'asc'\n",
    "\n",
    "    arg ['isID'] = False\n",
    "    arg ['ID_min'] = \"couple_cadre_0\"\n",
    "    arg ['ID_max']  = \"homme_ouvrier_1\"\n",
    "    arg ['ID_sort']  = 'asc'\n",
    "    \n",
    "    arg ['isTrace'] = False\n",
    "    \n",
    "    arg ['pathListe_ID'] =  \"../data/listeID.txt\"\n",
    "    arg ['pathDico_evenements'] = '../data/dico_evenements_2.txt'\n",
    "    arg ['pathDico_systeme'] = '../data/dico_systeme_2.txt'\n",
    "\n",
    "\n",
    "    nom_environnement = 'test'\n",
    "    arg ['nom_environnement'] =  'nom_environnement'\n",
    "\n",
    "\n",
    "    pathFile_evenements = '/dico_evenements_2.json'\n",
    "    pathFile_systeme = '/dico_systeme_2.json'\n",
    "\n",
    "    arg_entree_sortie_lock = {} \n",
    "    arg_entree_sortie_lock ['nom_environnement'] = nom_environnement\n",
    "    arg_entree_sortie_lock['pathFile'] = pathFile_evenements\n",
    "    Entree_sortie_evenements = Entree_sortie_lock (arg_entree_sortie_lock)\n",
    "    dico_evenements, etat = Entree_sortie_evenements.lire()\n",
    "    arg ['pathDico_evenements'] = dico_evenements\n",
    "\n",
    "\n",
    "    arg_entree_sortie_lock ['pathFile'] = pathFile_systeme\n",
    "    Entree_sortie_systeme = Entree_sortie_lock (arg_entree_sortie_lock)\n",
    "    dico_systeme, etat = Entree_sortie_systeme.lire()\n",
    "    arg ['pathDico_systeme'] = dico_systeme\n",
    "\n",
    "    pas_date = '2021-02-04 00:00:00'.replace (':', '.').replace (' ', '_')\n",
    "    arg ['pathLuigi_file'] = '../data/test/data/' + pas_date + '/'\n",
    "    \n",
    "    A = Alimentation_date_bloc (arg)\n",
    "    resultat = A.get_liste_date_bloc ()\n",
    "    \n",
    "    \n",
    "    #P(resultat)\n",
    "    voulu = [   ['2021-02-01 00:00:00.000000', '2021-02-03 08:00:00.000000'],\n",
    "                ['2021-02-03 08:00:00.000000', '2021-02-05 16:00:00.000000'],\n",
    "                ['2021-02-05 16:00:00.000000', '2021-02-08 00:00:00.000000']]\n",
    "    \n",
    "    assert voulu == resultat\n",
    "    \n",
    "    \n",
    "    \n",
    "    \n",
    "if __name__ == '__main__' :\n",
    "    \n",
    "    test_alimentation_date_bloc  ()\n",
    "    print ('fin test_alimentation_date_bloc ', )      \n",
    "    "
   ]
  },
  {
   "cell_type": "code",
   "execution_count": 11,
   "id": "serious-engineer",
   "metadata": {},
   "outputs": [
    {
     "data": {
      "text/plain": [
       "False"
      ]
     },
     "execution_count": 11,
     "metadata": {},
     "output_type": "execute_result"
    }
   ],
   "source": [
    "'2021-02-01 00:00:00.000' == '2021-02-01 00:00:00'"
   ]
  },
  {
   "cell_type": "code",
   "execution_count": 57,
   "id": "paperback-debut",
   "metadata": {},
   "outputs": [
    {
     "name": "stdout",
     "output_type": "stream",
     "text": [
      "date = 2021-02-09 00:00:00.000000\n",
      "datetime.strptime(date, format_date_standard) = 2021-02-09 00:00:00\n",
      "time_debut = 1612825200.0\n",
      "<class 'float'>\n"
     ]
    },
    {
     "data": {
      "text/plain": [
       "'2021-02-09 00:00:00.000000'"
      ]
     },
     "execution_count": 57,
     "metadata": {},
     "output_type": "execute_result"
    }
   ],
   "source": [
    "from datetime import datetime\n",
    "\n",
    "format_date_standard = '%Y-%m-%d %H:%M:%S.%f'\n",
    "\n",
    "date = str(datetime.now())\n",
    "\n",
    "date = '2021-02-09 00:00:00.000000'\n",
    "print ('date =', date)\n",
    "\n",
    "d = datetime.strptime(date, format_date_standard)\n",
    "print ('datetime.strptime(date, format_date_standard) =', d )\n",
    "\n",
    "time_debut = datetime.timestamp(d)\n",
    "print ('time_debut =', time_debut)\n",
    "print (type(time_debut))\n",
    "\n",
    "\n",
    "\n",
    "d1  = datetime.fromtimestamp(time_debut) \n",
    "\n",
    "datetime.strftime(d1, format_date_standard)"
   ]
  },
  {
   "cell_type": "code",
   "execution_count": 2,
   "id": "conceptual-milton",
   "metadata": {},
   "outputs": [
    {
     "data": {
      "text/plain": [
       "datetime.datetime(2021, 5, 2, 19, 6, 53, 872908)"
      ]
     },
     "execution_count": 2,
     "metadata": {},
     "output_type": "execute_result"
    }
   ],
   "source": [
    "from datetime import datetime\n",
    "\n",
    "datetime.now()"
   ]
  },
  {
   "cell_type": "code",
   "execution_count": 23,
   "id": "restricted-broadway",
   "metadata": {},
   "outputs": [
    {
     "data": {
      "text/plain": [
       "'2021-05-02 19:42:37.856632'"
      ]
     },
     "execution_count": 23,
     "metadata": {},
     "output_type": "execute_result"
    }
   ],
   "source": [
    "str(datetime.fromtimestamp(time.time()))"
   ]
  },
  {
   "cell_type": "code",
   "execution_count": null,
   "id": "median-pride",
   "metadata": {},
   "outputs": [],
   "source": []
  }
 ],
 "metadata": {
  "kernelspec": {
   "display_name": "Python 3",
   "language": "python",
   "name": "python3"
  },
  "language_info": {
   "codemirror_mode": {
    "name": "ipython",
    "version": 3
   },
   "file_extension": ".py",
   "mimetype": "text/x-python",
   "name": "python",
   "nbconvert_exporter": "python",
   "pygments_lexer": "ipython3",
   "version": "3.9.1"
  }
 },
 "nbformat": 4,
 "nbformat_minor": 5
}
