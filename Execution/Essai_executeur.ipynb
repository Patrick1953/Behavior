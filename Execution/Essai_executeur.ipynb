{
 "cells": [
  {
   "cell_type": "code",
   "execution_count": 6,
   "id": "different-northwest",
   "metadata": {},
   "outputs": [],
   "source": []
  },
  {
   "cell_type": "code",
   "execution_count": 2,
   "id": "internal-discrimination",
   "metadata": {},
   "outputs": [],
   "source": [
    "import sys,  time, os, json\n",
    "from datetime import datetime\n",
    "import subprocess\n",
    "from pprint import PrettyPrinter \n",
    "def PP (stuff , pp = PrettyPrinter(indent=4)) :\n",
    "    return pp.pprint(stuff)\n",
    "\n",
    "from Executeur import Executeur\n",
    "\n",
    "path = \"../outils\"\n",
    "if path not in sys.path : \n",
    "    sys.path.append (path)\n",
    "    \n",
    "from Gestion_commandes import Gestion_commandes\n",
    "from Gestion_reponses import  Gestion_reponses\n",
    "\n",
    "from lire_dico_json import lire_dico_json\n",
    "\n",
    "\n",
    "\n",
    "\n",
    "def clean () :\n",
    "    def detruire (pathFile,) :\n",
    "        if os.path.exists(pathFile) :\n",
    "            os.remove(pathFile)\n",
    "            print ('fichier detruit en ', pathFile)\n",
    "        else: \n",
    "            print ('n existe pas = ', pathFile)\n",
    "\n",
    "    def verif_vide (pathFile) :\n",
    "        try:\n",
    "            f = open (pathFile, 'r')\n",
    "            data = f.read ()\n",
    "            resultat = json.loads (data)\n",
    "            assert resultat == {} , \"fichier \" + pathFile + \" non vide ?\"\n",
    "        except :\n",
    "            assert False, \"fichier \" + pathFile + \" n'existe pas ?\"\n",
    "        return\n",
    "\n",
    "\n",
    "    # initialisation à zero des messages    \n",
    "    nom_environnement = 'general'\n",
    "\n",
    "    path = '../data/'+ nom_environnement + '/parametres/'\n",
    "    pathReponses = path + 'dico_reponses.json'\n",
    "    dico_reponses = lire_dico_json (pathReponses)\n",
    "\n",
    "    pathFile = path + dico_reponses ['pathFile']\n",
    "    pathFile_lock = pathFile + \".lock\"\n",
    "\n",
    "    detruire (pathFile_lock)\n",
    "    detruire (pathFile,)\n",
    "\n",
    "\n",
    "\n",
    "    pathCommandes = path + 'dico_commandes.json'\n",
    "    dico_commandes = lire_dico_json (pathCommandes)\n",
    "    pathFile = path + dico_commandes ['pathFile']\n",
    "    pathFile_lock = pathFile + \".lock\"\n",
    "    detruire (pathFile_lock,)\n",
    "    detruire (pathFile,)\n",
    "\n",
    "    # test init on test en réel le demarrage avec mise à vide de la liste des messages\n",
    "\n",
    "    E = Executeur()\n",
    "\n",
    "\n",
    "\n",
    "\n",
    "    path = '../data/'+ nom_environnement + '/parametres/'\n",
    "    pathReponses = path + 'dico_reponses.json'\n",
    "    dico_reponses = lire_dico_json (pathReponses)\n",
    "\n",
    "    pathFile = path + dico_reponses ['pathFile']\n",
    "    verif_vide (pathFile)\n",
    "\n",
    "    pathCommandes = path + 'dico_commandes.json'\n",
    "    dico_commandes = lire_dico_json (pathCommandes)\n",
    "    pathFile = path + dico_commandes ['pathFile']\n",
    "    verif_vide (pathFile)\n",
    "\n",
    "    return\n",
    "\n"
   ]
  },
  {
   "cell_type": "code",
   "execution_count": null,
   "id": "missing-parish",
   "metadata": {},
   "outputs": [],
   "source": []
  },
  {
   "cell_type": "code",
   "execution_count": 6,
   "id": "standing-turtle",
   "metadata": {},
   "outputs": [
    {
     "name": "stdout",
     "output_type": "stream",
     "text": [
      "fichier detruit en  ../data/general/parametres/echanges/reponses.json.lock\n",
      "fichier detruit en  ../data/general/parametres/echanges/reponses.json\n",
      "fichier detruit en  ../data/general/parametres/echanges/commandes.json.lock\n",
      "fichier detruit en  ../data/general/parametres/echanges/commandes.json\n"
     ]
    },
    {
     "data": {
      "text/plain": [
       "{}"
      ]
     },
     "execution_count": 6,
     "metadata": {},
     "output_type": "execute_result"
    }
   ],
   "source": [
    "import sys,  time, os, json\n",
    "from datetime import datetime\n",
    "import subprocess\n",
    "from pprint import PrettyPrinter \n",
    "def PP (stuff , pp = PrettyPrinter(indent=4)) :\n",
    "    return pp.pprint(stuff)\n",
    "\n",
    "from Executeur import Executeur\n",
    "\n",
    "path = \"../outils\"\n",
    "if path not in sys.path : \n",
    "    sys.path.append (path)\n",
    "    \n",
    "from Gestion_commandes import Gestion_commandes\n",
    "from Gestion_reponses import  Gestion_reponses\n",
    "\n",
    "from lire_dico_json import lire_dico_json\n",
    "\n",
    "\n",
    "\n",
    "def lancement_executeur () :\n",
    "    bashCommand = \"python lancement_executeur.py\"\n",
    "    process = subprocess.Popen(bashCommand.split(), stdout=subprocess.PIPE)\n",
    "    \"\"\"\n",
    "    output, error = process.communicate()\n",
    "    if not error is None :\n",
    "        raise ValueError\n",
    "    \"\"\"\n",
    "    return process\n",
    "\n",
    "def arret_executeur (process) :\n",
    "    process.terminate ()\n",
    "    return\n",
    "\n",
    "clean ()\n",
    "G = Gestion_commandes ()\n",
    "R = Gestion_reponses ()\n",
    "\n",
    "\n",
    "\n",
    "message = {\n",
    "       'parametres' : {'arg' : {'test' : 'hello world nouveau'}, 'nom_appel' : 'test1'}}\n",
    "\n",
    "\n",
    "dico, numero_commande = G.put_new_message (message)\n",
    "dico, resultat = R.get_dico_reponses_done ()\n",
    "\n",
    "\n",
    "resultat"
   ]
  },
  {
   "cell_type": "code",
   "execution_count": 27,
   "id": "charitable-messaging",
   "metadata": {},
   "outputs": [],
   "source": []
  },
  {
   "cell_type": "code",
   "execution_count": 24,
   "id": "documentary-finding",
   "metadata": {},
   "outputs": [
    {
     "data": {
      "text/plain": [
       "{}"
      ]
     },
     "execution_count": 24,
     "metadata": {},
     "output_type": "execute_result"
    }
   ],
   "source": []
  },
  {
   "cell_type": "code",
   "execution_count": 8,
   "id": "better-florence",
   "metadata": {},
   "outputs": [
    {
     "name": "stdout",
     "output_type": "stream",
     "text": [
      "20\n",
      "\n",
      "temps execution = 2.0038883686065674\n",
      "\n"
     ]
    },
    {
     "data": {
      "text/plain": [
       "20"
      ]
     },
     "execution_count": 8,
     "metadata": {},
     "output_type": "execute_result"
    }
   ],
   "source": [
    "# on lance 10 executeurs\n",
    "liste = []\n",
    "for i in range(0, 1):\n",
    "    process = lancement_executeur ()\n",
    "    liste.append(process)\n",
    "\n",
    "    \n",
    "    \n",
    "\n",
    "\n",
    "\n",
    "\n",
    "message = {'nb_max_worker' : 1, 'nb_max_erreur' : 1, 'date_voulu' : date_voulu, 'nom_appel' : 'test1',\n",
    "       'parametres' : {'arg' : {'test' : 'hello world nouveau'}, 'nom_appel' : 'test1'}}\n",
    "\n",
    "dico_envoie = {}\n",
    "nombre = 20\n",
    "\n",
    "for i in range(0,nombre):\n",
    "    dico, numero_commande = G.put_new_message (message)\n",
    "    dico_envoie [numero_commande] = i\n",
    "    continue\n",
    "    \n",
    "print (len(dico_envoie))\n",
    "\n",
    "\n",
    "\n",
    "dico_reponses  = {}\n",
    "n = 100\n",
    "t = time.time()\n",
    "while (n > 0) :\n",
    "    time.sleep (1)\n",
    "    dico, resultat = R.get_dico_reponses_done ()\n",
    "    l = [numero for numero in resultat.keys()]\n",
    "    n = n - 1\n",
    "    if len(l) > 1 :\n",
    "        for numero in l :\n",
    "            dico_reponses [numero] = None\n",
    "    else :\n",
    "        break\n",
    "    continue\n",
    "print ()    \n",
    "print ('temps execution =', time.time() - t)\n",
    "    \n",
    "\n",
    "for process in liste:\n",
    "    process.terminate ()        \n",
    "    \n",
    "print ()\n",
    "\n",
    "len(dico_reponses)\n",
    "\n",
    "    \n",
    "\n",
    "    \n",
    "\n"
   ]
  },
  {
   "cell_type": "code",
   "execution_count": null,
   "id": "smooth-reading",
   "metadata": {},
   "outputs": [],
   "source": []
  },
  {
   "cell_type": "code",
   "execution_count": null,
   "id": "departmental-commonwealth",
   "metadata": {},
   "outputs": [],
   "source": []
  },
  {
   "cell_type": "code",
   "execution_count": 69,
   "id": "diverse-little",
   "metadata": {},
   "outputs": [
    {
     "name": "stdout",
     "output_type": "stream",
     "text": [
      "temps execution = 2.0044126510620117\n"
     ]
    },
    {
     "data": {
      "text/plain": [
       "100"
      ]
     },
     "execution_count": 69,
     "metadata": {},
     "output_type": "execute_result"
    }
   ],
   "source": [
    "dico_reponses  = {}\n",
    "n = 10\n",
    "t = time.time()\n",
    "while (n > 0) :\n",
    "    time.sleep (1)\n",
    "    dico, resultat = R.get_dico_reponses_done ()\n",
    "    l = [numero for numero in resultat.keys()]\n",
    "    n = n - 1\n",
    "    if len(l) > 1 :\n",
    "        for numero in l :\n",
    "            dico_reponses [numero] = None\n",
    "    else :\n",
    "        break\n",
    "    continue\n",
    "    \n",
    "print ('temps execution =', time.time() - t)\n",
    "    \n",
    "\n",
    "for process in liste:\n",
    "    process.terminate ()        \n",
    "    \n",
    "       \n",
    "len(dico_reponses)"
   ]
  },
  {
   "cell_type": "code",
   "execution_count": 70,
   "id": "processed-lafayette",
   "metadata": {},
   "outputs": [],
   "source": [
    "\n",
    "for process in liste:\n",
    "    process.terminate ()\n",
    "\n",
    "    "
   ]
  },
  {
   "cell_type": "code",
   "execution_count": null,
   "id": "pretty-miami",
   "metadata": {},
   "outputs": [],
   "source": []
  }
 ],
 "metadata": {
  "kernelspec": {
   "display_name": "Python 3",
   "language": "python",
   "name": "python3"
  },
  "language_info": {
   "codemirror_mode": {
    "name": "ipython",
    "version": 3
   },
   "file_extension": ".py",
   "mimetype": "text/x-python",
   "name": "python",
   "nbconvert_exporter": "python",
   "pygments_lexer": "ipython3",
   "version": "3.9.1"
  }
 },
 "nbformat": 4,
 "nbformat_minor": 5
}
