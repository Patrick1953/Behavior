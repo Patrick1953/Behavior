{
 "cells": [
  {
   "cell_type": "code",
   "execution_count": null,
   "id": "perceived-transport",
   "metadata": {},
   "outputs": [],
   "source": []
  },
  {
   "cell_type": "code",
   "execution_count": null,
   "id": "searching-impression",
   "metadata": {},
   "outputs": [],
   "source": [
    "# on cree le programme qui teste le demarage de l executeur"
   ]
  },
  {
   "cell_type": "code",
   "execution_count": 5,
   "id": "joined-stuff",
   "metadata": {},
   "outputs": [],
   "source": [
    "#%save essai_execution.py 3"
   ]
  },
  {
   "cell_type": "code",
   "execution_count": 3,
   "id": "excited-avatar",
   "metadata": {},
   "outputs": [
    {
     "name": "stderr",
     "output_type": "stream",
     "text": [
      "usage: ipykernel_launcher.py [-h] nom_environnement\n",
      "ipykernel_launcher.py: error: unrecognized arguments: -f\n"
     ]
    },
    {
     "ename": "SystemExit",
     "evalue": "2",
     "output_type": "error",
     "traceback": [
      "An exception has occurred, use %tb to see the full traceback.\n",
      "\u001b[0;31mSystemExit\u001b[0m\u001b[0;31m:\u001b[0m 2\n"
     ]
    },
    {
     "name": "stderr",
     "output_type": "stream",
     "text": [
      "/home/patrick/anaconda3/envs/patrick/lib/python3.9/site-packages/IPython/core/interactiveshell.py:3435: UserWarning: To exit: use 'exit', 'quit', or Ctrl-D.\n",
      "  warn(\"To exit: use 'exit', 'quit', or Ctrl-D.\", stacklevel=1)\n"
     ]
    }
   ],
   "source": [
    "\n"
   ]
  },
  {
   "cell_type": "code",
   "execution_count": 11,
   "id": "lovely-contrast",
   "metadata": {},
   "outputs": [
    {
     "name": "stdout",
     "output_type": "stream",
     "text": [
      "Traceback (most recent call last):\r\n",
      "  File \"/home/patrick/Bureau/Behavior_engine/code/Execution/essai_execution.py\", line 8, in <module>\r\n",
      "    nom_environnement = args.params\r\n",
      "AttributeError: 'Namespace' object has no attribute 'params'\r\n"
     ]
    }
   ],
   "source": [
    "!python essai_execution.py 'test'"
   ]
  },
  {
   "cell_type": "code",
   "execution_count": 10,
   "id": "formal-evolution",
   "metadata": {},
   "outputs": [
    {
     "name": "stdout",
     "output_type": "stream",
     "text": [
      "['python', 'essai_execution.py', 'test']\n",
      "\n"
     ]
    }
   ],
   "source": [
    "import subprocess\n",
    "\n",
    "def test_lancement_essai_execution () :\n",
    "    \n",
    "    nom_environnement = \"test\"        \n",
    "       \n",
    "    bashCommand = \"python essai_execution.py \" + nom_environnement\n",
    "    print (bashCommand.split())\n",
    "    process = subprocess.Popen(bashCommand.split(), stdout=subprocess.PIPE)\n",
    "    output, error = process.communicate()\n",
    "    print (output.decode('utf-8')[:-1])\n",
    "    if not error is None :\n",
    "        print (error.decode('utf-8')[:-1])\n",
    "    \n",
    "    \n",
    "if __name__ == '__main__' :\n",
    "    test_lancement_essai_execution ()\n",
    "    "
   ]
  },
  {
   "cell_type": "code",
   "execution_count": null,
   "id": "caroline-advertiser",
   "metadata": {},
   "outputs": [],
   "source": []
  },
  {
   "cell_type": "code",
   "execution_count": 9,
   "id": "exceptional-zambia",
   "metadata": {},
   "outputs": [
    {
     "name": "stdout",
     "output_type": "stream",
     "text": [
      "Creation.ipynb\n",
      "Creation_paragraphe.py\n",
      "Creation.py\n",
      "essai_execution.py\n",
      "Executeur.ipynb\n",
      "Executeur.py\n",
      "Execution.ipynb\n",
      "execution.py\n",
      "Execution.py\n",
      "Execution_quantile.ipynb\n",
      "Execution_quantile.py\n",
      "Execution_test.py\n",
      "Lancement_executeur.py\n",
      "__pycache__\n",
      "Receveur.ipynb\n",
      "Reunion.ipynb\n",
      "Reunion.py\n",
      "Reunion_vecteur.ipynb\n",
      "Test_executeur.ipynb\n",
      "test_executeur.py\n",
      "test_execution_quantile.py\n",
      "Test_lancement_process.ipynb\n"
     ]
    }
   ],
   "source": [
    "import subprocess\n",
    "\n",
    "    \n",
    "       \n",
    "bashCommand = \"ls\" \n",
    "process = subprocess.Popen(bashCommand, stdout=subprocess.PIPE)\n",
    "output, error = process.communicate()\n",
    "print (output.decode('utf-8')[:-1])\n",
    "if not error is None :\n",
    "    print (error.decode('utf-8')[:-1])\n",
    "    \n",
    "    \n"
   ]
  },
  {
   "cell_type": "code",
   "execution_count": null,
   "id": "plain-purchase",
   "metadata": {},
   "outputs": [],
   "source": []
  }
 ],
 "metadata": {
  "kernelspec": {
   "display_name": "Python 3",
   "language": "python",
   "name": "python3"
  },
  "language_info": {
   "codemirror_mode": {
    "name": "ipython",
    "version": 3
   },
   "file_extension": ".py",
   "mimetype": "text/x-python",
   "name": "python",
   "nbconvert_exporter": "python",
   "pygments_lexer": "ipython3",
   "version": "3.9.1"
  }
 },
 "nbformat": 4,
 "nbformat_minor": 5
}
