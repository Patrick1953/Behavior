{
 "cells": [
  {
   "cell_type": "code",
   "execution_count": 8,
   "id": "adjustable-kennedy",
   "metadata": {},
   "outputs": [],
   "source": [
    "#%save Rangement_bloc_ID.py 6"
   ]
  },
  {
   "cell_type": "code",
   "execution_count": 6,
   "id": "sticky-outdoors",
   "metadata": {},
   "outputs": [],
   "source": [
    "\n",
    "\n",
    "class   Rangement_bloc_ID () :\n",
    "    def __init__ (self,) :\n",
    "        \n",
    "        \n",
    "        self.nombre_ID_par_bloc = 2\n",
    "        \n",
    "        self.resultat = []\n",
    "        \n",
    "    def memorisation_blocs (self,liste) :\n",
    "        \n",
    "        for sous_liste in liste :\n",
    "            self.resultat.extend(sous_liste)\n",
    "        return\n",
    "    \n",
    "    def get_resultat (self,) :\n",
    "        \n",
    "        \n",
    "        \n",
    "        self.resultat.sort()\n",
    "        memoire = {}\n",
    "        isDebut_bloc = True\n",
    "        resultat = []\n",
    "        nombre_en_cours = self.nombre_ID_par_bloc\n",
    "        ID_courant = \"\"\n",
    "        for ID in self.resultat :\n",
    "            \n",
    "            if ID in memoire :\n",
    "                continue\n",
    "            \n",
    "            ID_courant = ID\n",
    "            memoire [ID] = None\n",
    "            nombre_en_cours -= 1\n",
    "            \n",
    "            if isDebut_bloc :\n",
    "                \n",
    "                debut_bloc = ID\n",
    "                isDebut_bloc = False\n",
    "                continue\n",
    "            if nombre_en_cours <= 0 :\n",
    "                # on recommence avec parametres equivallent du debut \n",
    "                resultat.append ([debut_bloc, ID])\n",
    "                isDebut_bloc = True\n",
    "                nombre_en_cours = self.nombre_ID_par_bloc\n",
    "                \n",
    "                continue\n",
    "            \n",
    "            continue\n",
    "        \n",
    "        if nombre_en_cours != self.nombre_ID_par_bloc :\n",
    "            resultat.append ([debut_bloc, ID,])\n",
    "            \n",
    "        return resultat\n",
    "        \n",
    "    \n",
    "            \n",
    "            \n",
    "        \n",
    "        \n",
    "    \n",
    "    "
   ]
  },
  {
   "cell_type": "code",
   "execution_count": 3,
   "id": "operating-drinking",
   "metadata": {},
   "outputs": [],
   "source": [
    "#%save test_rangement_bloc_ID.py 1"
   ]
  },
  {
   "cell_type": "code",
   "execution_count": 1,
   "id": "willing-vienna",
   "metadata": {},
   "outputs": [
    {
     "name": "stdout",
     "output_type": "stream",
     "text": [
      "fin test_rangement_bloc_ID ()\n"
     ]
    }
   ],
   "source": [
    "import random ,  copy\n",
    "\n",
    "from  Rangement_bloc_ID import  Rangement_bloc_ID\n",
    "\n",
    "def test_rangement_bloc_ID () :\n",
    "    liste = []\n",
    "    for i in range (0, 10, 2) :\n",
    "        liste.append([i, i+1])\n",
    "        \n",
    "    voulu = copy.copy (liste)    \n",
    "    random.shuffle (liste)\n",
    "       \n",
    "    R = Rangement_bloc_ID ()\n",
    "    \n",
    "    \n",
    "    R.memorisation_blocs (liste)\n",
    "        \n",
    "    resultat = R.get_resultat ()\n",
    "    \n",
    "    assert resultat == voulu\n",
    "    \n",
    "    liste = []\n",
    "    for i in range (0, 10, 2) :\n",
    "        liste.append([i, i+1])\n",
    "        \n",
    "    liste.extend ([[11, 12], [13,13]])\n",
    "        \n",
    "    voulu = copy.copy (liste)\n",
    "    \n",
    "    R = Rangement_bloc_ID ()\n",
    "       \n",
    "    R.memorisation_blocs (liste)\n",
    "        \n",
    "    resultat = R.get_resultat ()\n",
    "    \n",
    "    assert resultat == voulu\n",
    "    \n",
    "        \n",
    "    \n",
    "        \n",
    "        \n",
    "    \n",
    "    \n",
    "if __name__ == '__main__' :\n",
    "    test_rangement_bloc_ID ()\n",
    "    print ('fin test_rangement_bloc_ID ()')    \n",
    "    "
   ]
  },
  {
   "cell_type": "code",
   "execution_count": 15,
   "id": "compact-chile",
   "metadata": {},
   "outputs": [
    {
     "data": {
      "text/plain": [
       "[1, 2]"
      ]
     },
     "execution_count": 15,
     "metadata": {},
     "output_type": "execute_result"
    }
   ],
   "source": [
    "r = []\n",
    "r.extend ([1,2])\n",
    "r"
   ]
  },
  {
   "cell_type": "code",
   "execution_count": null,
   "id": "improved-salvation",
   "metadata": {},
   "outputs": [],
   "source": []
  }
 ],
 "metadata": {
  "kernelspec": {
   "display_name": "Python 3",
   "language": "python",
   "name": "python3"
  },
  "language_info": {
   "codemirror_mode": {
    "name": "ipython",
    "version": 3
   },
   "file_extension": ".py",
   "mimetype": "text/x-python",
   "name": "python",
   "nbconvert_exporter": "python",
   "pygments_lexer": "ipython3",
   "version": "3.9.1"
  }
 },
 "nbformat": 4,
 "nbformat_minor": 5
}
