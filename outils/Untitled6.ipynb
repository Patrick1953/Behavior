{
 "cells": [
  {
   "cell_type": "code",
   "execution_count": null,
   "id": "rocky-coach",
   "metadata": {},
   "outputs": [],
   "source": []
  },
  {
   "cell_type": "code",
   "execution_count": 1,
   "id": "eastern-lucas",
   "metadata": {},
   "outputs": [],
   "source": [
    "import fcntl\n",
    "x = open('foo1', 'w+')\n",
    "fcntl.flock(x, fcntl.LOCK_EX | fcntl.LOCK_NB)\n",
    "\n",
    "\n",
    "        \n",
    "        \n",
    "    \n",
    "\n"
   ]
  },
  {
   "cell_type": "code",
   "execution_count": 2,
   "id": "healthy-portrait",
   "metadata": {},
   "outputs": [],
   "source": [
    "import fcntl\n",
    "fcntl.flock(x, fcntl.LOCK_EX | fcntl.LOCK_NB)"
   ]
  },
  {
   "cell_type": "code",
   "execution_count": null,
   "id": "integral-friend",
   "metadata": {},
   "outputs": [],
   "source": [
    "fcntl.flock(x, fcntl.LOCK_UN)"
   ]
  },
  {
   "cell_type": "code",
   "execution_count": 3,
   "id": "suspected-enhancement",
   "metadata": {},
   "outputs": [],
   "source": [
    "import struct, fcntl, os\n",
    "\n",
    "f = open (\"essai1.lock\", 'w+')\n",
    "rv = fcntl.fcntl(f, fcntl.F_SETFL, os.O_NDELAY)\n",
    "\n",
    "lockdata = struct.pack('hhllhh', fcntl.F_WRLCK, 0, 0, 0, 0, 0)\n",
    "rv = fcntl.fcntl(f, fcntl.F_SETLKW, lockdata)"
   ]
  },
  {
   "cell_type": "code",
   "execution_count": 4,
   "id": "dangerous-ready",
   "metadata": {},
   "outputs": [],
   "source": [
    "rv = fcntl.fcntl(f, fcntl.F_SETLKW, lockdata)"
   ]
  },
  {
   "cell_type": "code",
   "execution_count": 12,
   "id": "attempted-position",
   "metadata": {},
   "outputs": [
    {
     "name": "stdout",
     "output_type": "stream",
     "text": [
      "No error\n"
     ]
    }
   ],
   "source": [
    "import fcntl\n",
    "f = open(\"essai1.lock\", \"r\")\n",
    "fcntl.flock(f, fcntl.LOCK_EX)\n",
    "\n",
    "try:\n",
    "    fcntl.flock(open(\"file\", \"w\"), fcntl.LOCK_EX | fcntl.LOCK_NB)\n",
    "except IOError:\n",
    "    print (\"can't immediately write-lock the file ($!), blocking ...\")\n",
    "else:\n",
    "    print (\"No error\")"
   ]
  },
  {
   "cell_type": "code",
   "execution_count": 13,
   "id": "settled-spell",
   "metadata": {},
   "outputs": [
    {
     "name": "stdout",
     "output_type": "stream",
     "text": [
      "No error\n"
     ]
    }
   ],
   "source": [
    "try:\n",
    "    fcntl.flock(open(\"file\", \"w\"), fcntl.LOCK_EX | fcntl.LOCK_NB)\n",
    "except IOError:\n",
    "    print (\"can't immediately write-lock the file ($!), blocking ...\")\n",
    "else:\n",
    "    print (\"No error\")"
   ]
  },
  {
   "cell_type": "code",
   "execution_count": 4,
   "id": "ahead-excitement",
   "metadata": {},
   "outputs": [
    {
     "name": "stdout",
     "output_type": "stream",
     "text": [
      "demo.lock  is locked.\n"
     ]
    }
   ],
   "source": [
    "from lockfile import LockFile\n",
    "\n",
    "f = open (\"demo.lock\", 'w')\n",
    "f.close ()\n",
    "\n",
    "\n",
    "lock = LockFile(\"demo.lock\")\n",
    "with lock:\n",
    "    print (lock.path, ' is locked.')"
   ]
  },
  {
   "cell_type": "code",
   "execution_count": 5,
   "id": "opposite-supplement",
   "metadata": {},
   "outputs": [],
   "source": [
    "lock = LockFile(\"demo.lock\")"
   ]
  },
  {
   "cell_type": "code",
   "execution_count": 6,
   "id": "integrated-connecticut",
   "metadata": {},
   "outputs": [
    {
     "name": "stdout",
     "output_type": "stream",
     "text": [
      "Collecting locket\n",
      "  Downloading locket-0.2.1-py2.py3-none-any.whl (4.1 kB)\n",
      "Installing collected packages: locket\n",
      "Successfully installed locket-0.2.1\n"
     ]
    }
   ],
   "source": [
    "!pip install locket"
   ]
  },
  {
   "cell_type": "code",
   "execution_count": 3,
   "id": "passive-suicide",
   "metadata": {},
   "outputs": [
    {
     "name": "stdout",
     "output_type": "stream",
     "text": [
      "stade = 1\n",
      "stade = 2\n",
      "stade = 3\n",
      "stade = 4\n"
     ]
    }
   ],
   "source": [
    "import locket\n",
    "\n",
    "def perform_action (i) :\n",
    "    print ('stade =',i)\n",
    "i = 0\n",
    "# Wait for lock\n",
    "pathFile = 'demo.lock'\n",
    "with locket.lock_file(pathFile):\n",
    "    i = i + 1\n",
    "    perform_action(i)\n",
    "\n",
    "# Raise error if lock cannot be acquired immediately\n",
    "try :\n",
    "    with locket.lock_file(pathFile, timeout=0):\n",
    "        i = i + 1\n",
    "        perform_action(i)\n",
    "except:\n",
    "    print ('not in 0 seconde')\n",
    "\n",
    "# Raise error if lock cannot be acquired after thirty seconds\n",
    "try :\n",
    "    with locket.lock_file(pathFile, timeout= 30):\n",
    "        i = i + 1\n",
    "        perform_action(i)\n",
    "except:\n",
    "    print ('not in 30 seconde')\n",
    "\n",
    "# Without context managers:\n",
    "lock = locket.lock_file(pathFile)\n",
    "try:\n",
    "    lock.acquire()\n",
    "    i = i + 1\n",
    "    perform_action(i)\n",
    "finally:\n",
    "    lock.release()"
   ]
  },
  {
   "cell_type": "code",
   "execution_count": 4,
   "id": "recorded-upset",
   "metadata": {},
   "outputs": [
    {
     "name": "stderr",
     "output_type": "stream",
     "text": [
      "(Thread-4 ) Sleeping 0.48\n",
      "(Thread-5 ) Sleeping 0.63\n",
      "(MainThread) Waiting for worker threads\n",
      "(Thread-4 ) Waiting for a lock\n",
      "(Thread-4 ) Acquired a lock\n",
      "(Thread-4 ) Released a lock\n",
      "(Thread-4 ) Sleeping 0.31\n",
      "(Thread-5 ) Waiting for a lock\n",
      "(Thread-5 ) Acquired a lock\n",
      "(Thread-5 ) Released a lock\n",
      "(Thread-5 ) Sleeping 0.18\n",
      "(Thread-4 ) Waiting for a lock\n",
      "(Thread-4 ) Acquired a lock\n",
      "(Thread-4 ) Released a lock\n",
      "(Thread-4 ) Done\n",
      "(Thread-5 ) Waiting for a lock\n",
      "(Thread-5 ) Acquired a lock\n",
      "(Thread-5 ) Released a lock\n",
      "(Thread-5 ) Done\n"
     ]
    },
    {
     "ename": "KeyboardInterrupt",
     "evalue": "",
     "output_type": "error",
     "traceback": [
      "\u001b[0;31m---------------------------------------------------------------------------\u001b[0m",
      "\u001b[0;31mKeyboardInterrupt\u001b[0m                         Traceback (most recent call last)",
      "\u001b[0;32m<ipython-input-4-b8702987cfa3>\u001b[0m in \u001b[0;36m<module>\u001b[0;34m\u001b[0m\n\u001b[1;32m     40\u001b[0m     \u001b[0;32mfor\u001b[0m \u001b[0mt\u001b[0m \u001b[0;32min\u001b[0m \u001b[0mthreading\u001b[0m\u001b[0;34m.\u001b[0m\u001b[0menumerate\u001b[0m\u001b[0;34m(\u001b[0m\u001b[0;34m)\u001b[0m\u001b[0;34m:\u001b[0m\u001b[0;34m\u001b[0m\u001b[0;34m\u001b[0m\u001b[0m\n\u001b[1;32m     41\u001b[0m         \u001b[0;32mif\u001b[0m \u001b[0mt\u001b[0m \u001b[0;32mis\u001b[0m \u001b[0;32mnot\u001b[0m \u001b[0mmain_thread\u001b[0m\u001b[0;34m:\u001b[0m\u001b[0;34m\u001b[0m\u001b[0;34m\u001b[0m\u001b[0m\n\u001b[0;32m---> 42\u001b[0;31m             \u001b[0mt\u001b[0m\u001b[0;34m.\u001b[0m\u001b[0mjoin\u001b[0m\u001b[0;34m(\u001b[0m\u001b[0;34m)\u001b[0m\u001b[0;34m\u001b[0m\u001b[0;34m\u001b[0m\u001b[0m\n\u001b[0m\u001b[1;32m     43\u001b[0m     \u001b[0mlogging\u001b[0m\u001b[0;34m.\u001b[0m\u001b[0mdebug\u001b[0m\u001b[0;34m(\u001b[0m\u001b[0;34m'Counter: %d'\u001b[0m\u001b[0;34m,\u001b[0m \u001b[0mcounter\u001b[0m\u001b[0;34m.\u001b[0m\u001b[0mvalue\u001b[0m\u001b[0;34m)\u001b[0m\u001b[0;34m\u001b[0m\u001b[0;34m\u001b[0m\u001b[0m\n",
      "\u001b[0;32m~/anaconda3/envs/patrick/lib/python3.9/threading.py\u001b[0m in \u001b[0;36mjoin\u001b[0;34m(self, timeout)\u001b[0m\n\u001b[1;32m   1031\u001b[0m \u001b[0;34m\u001b[0m\u001b[0m\n\u001b[1;32m   1032\u001b[0m         \u001b[0;32mif\u001b[0m \u001b[0mtimeout\u001b[0m \u001b[0;32mis\u001b[0m \u001b[0;32mNone\u001b[0m\u001b[0;34m:\u001b[0m\u001b[0;34m\u001b[0m\u001b[0;34m\u001b[0m\u001b[0m\n\u001b[0;32m-> 1033\u001b[0;31m             \u001b[0mself\u001b[0m\u001b[0;34m.\u001b[0m\u001b[0m_wait_for_tstate_lock\u001b[0m\u001b[0;34m(\u001b[0m\u001b[0;34m)\u001b[0m\u001b[0;34m\u001b[0m\u001b[0;34m\u001b[0m\u001b[0m\n\u001b[0m\u001b[1;32m   1034\u001b[0m         \u001b[0;32melse\u001b[0m\u001b[0;34m:\u001b[0m\u001b[0;34m\u001b[0m\u001b[0;34m\u001b[0m\u001b[0m\n\u001b[1;32m   1035\u001b[0m             \u001b[0;31m# the behavior of a negative timeout isn't documented, but\u001b[0m\u001b[0;34m\u001b[0m\u001b[0;34m\u001b[0m\u001b[0;34m\u001b[0m\u001b[0m\n",
      "\u001b[0;32m~/anaconda3/envs/patrick/lib/python3.9/threading.py\u001b[0m in \u001b[0;36m_wait_for_tstate_lock\u001b[0;34m(self, block, timeout)\u001b[0m\n\u001b[1;32m   1047\u001b[0m         \u001b[0;32mif\u001b[0m \u001b[0mlock\u001b[0m \u001b[0;32mis\u001b[0m \u001b[0;32mNone\u001b[0m\u001b[0;34m:\u001b[0m  \u001b[0;31m# already determined that the C code is done\u001b[0m\u001b[0;34m\u001b[0m\u001b[0;34m\u001b[0m\u001b[0m\n\u001b[1;32m   1048\u001b[0m             \u001b[0;32massert\u001b[0m \u001b[0mself\u001b[0m\u001b[0;34m.\u001b[0m\u001b[0m_is_stopped\u001b[0m\u001b[0;34m\u001b[0m\u001b[0;34m\u001b[0m\u001b[0m\n\u001b[0;32m-> 1049\u001b[0;31m         \u001b[0;32melif\u001b[0m \u001b[0mlock\u001b[0m\u001b[0;34m.\u001b[0m\u001b[0macquire\u001b[0m\u001b[0;34m(\u001b[0m\u001b[0mblock\u001b[0m\u001b[0;34m,\u001b[0m \u001b[0mtimeout\u001b[0m\u001b[0;34m)\u001b[0m\u001b[0;34m:\u001b[0m\u001b[0;34m\u001b[0m\u001b[0;34m\u001b[0m\u001b[0m\n\u001b[0m\u001b[1;32m   1050\u001b[0m             \u001b[0mlock\u001b[0m\u001b[0;34m.\u001b[0m\u001b[0mrelease\u001b[0m\u001b[0;34m(\u001b[0m\u001b[0;34m)\u001b[0m\u001b[0;34m\u001b[0m\u001b[0;34m\u001b[0m\u001b[0m\n\u001b[1;32m   1051\u001b[0m             \u001b[0mself\u001b[0m\u001b[0;34m.\u001b[0m\u001b[0m_stop\u001b[0m\u001b[0;34m(\u001b[0m\u001b[0;34m)\u001b[0m\u001b[0;34m\u001b[0m\u001b[0;34m\u001b[0m\u001b[0m\n",
      "\u001b[0;31mKeyboardInterrupt\u001b[0m: "
     ]
    }
   ],
   "source": [
    "import threading\n",
    "import time\n",
    "import logging\n",
    "import random\n",
    "\n",
    "logging.basicConfig(level=logging.DEBUG,\n",
    "                    format='(%(threadName)-9s) %(message)s',)\n",
    "\n",
    "\n",
    "class Counter(object):\n",
    "    def __init__(self, start = 0):\n",
    "        self.lock = threading.Lock()\n",
    "        self.value = start\n",
    "    def increment(self):\n",
    "        logging.debug('Waiting for a lock')\n",
    "        self.lock.acquire()\n",
    "        try:\n",
    "            logging.debug('Acquired a lock')\n",
    "            self.value = self.value + 1\n",
    "        finally:\n",
    "            logging.debug('Released a lock')\n",
    "            self.lock.release()\n",
    "\n",
    "def worker(c):\n",
    "    for i in range(2):\n",
    "        r = random.random()\n",
    "        logging.debug('Sleeping %0.02f', r)\n",
    "        time.sleep(r)\n",
    "        c.increment()\n",
    "    logging.debug('Done')\n",
    "\n",
    "if __name__ == '__main__':\n",
    "    counter = Counter()\n",
    "    for i in range(2):\n",
    "        t = threading.Thread(target=worker, args=(counter,))\n",
    "        t.start()\n",
    "\n",
    "    logging.debug('Waiting for worker threads')\n",
    "    main_thread = threading.currentThread()\n",
    "    for t in threading.enumerate():\n",
    "        if t is not main_thread:\n",
    "            t.join()\n",
    "    logging.debug('Counter: %d', counter.value)"
   ]
  },
  {
   "cell_type": "code",
   "execution_count": 5,
   "id": "conceptual-following",
   "metadata": {},
   "outputs": [],
   "source": [
    "import threading\n",
    "import time\n",
    "\n",
    "class Lock (object):\n",
    "    def __init__(self, ):\n",
    "        self.lock = threading.Lock()\n",
    "        \n",
    "    def acquire (self):\n",
    "        self.lock.acquire()\n",
    "        \n",
    "    def release () :\n",
    "        self.lock.release()\n",
    "        \n",
    "\n",
    "        \n",
    "        \n"
   ]
  },
  {
   "cell_type": "code",
   "execution_count": null,
   "id": "outside-indianapolis",
   "metadata": {},
   "outputs": [],
   "source": []
  },
  {
   "cell_type": "code",
   "execution_count": 6,
   "id": "reverse-shopping",
   "metadata": {},
   "outputs": [],
   "source": [
    "L = Lock()\n",
    "\n",
    "L.acquire()"
   ]
  },
  {
   "cell_type": "code",
   "execution_count": null,
   "id": "august-disclosure",
   "metadata": {},
   "outputs": [],
   "source": [
    "L.acquire()"
   ]
  },
  {
   "cell_type": "code",
   "execution_count": null,
   "id": "synthetic-subscription",
   "metadata": {},
   "outputs": [],
   "source": []
  }
 ],
 "metadata": {
  "kernelspec": {
   "display_name": "Patrick",
   "language": "python",
   "name": "patrick"
  },
  "language_info": {
   "codemirror_mode": {
    "name": "ipython",
    "version": 3
   },
   "file_extension": ".py",
   "mimetype": "text/x-python",
   "name": "python",
   "nbconvert_exporter": "python",
   "pygments_lexer": "ipython3",
   "version": "3.9.1"
  }
 },
 "nbformat": 4,
 "nbformat_minor": 5
}
