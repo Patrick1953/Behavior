{
 "cells": [
  {
   "cell_type": "code",
   "execution_count": 25,
   "id": "complex-synthetic",
   "metadata": {},
   "outputs": [],
   "source": [
    "#%save validationPath.py 23\n"
   ]
  },
  {
   "cell_type": "code",
   "execution_count": 1,
   "id": "permanent-hypothetical",
   "metadata": {},
   "outputs": [],
   "source": [
    "from pathlib import Path\n",
    "import os\n",
    "import shutil\n",
    " \n",
    "\n",
    "\n",
    "def validationPath (path, suffix = {'.txt' : None,\n",
    "                                '.json':None,\n",
    "                                \".model\": None,\n",
    "                                    \".lock\" : None,\n",
    "                               },\n",
    "               ) :\n",
    "    \n",
    "    \n",
    "    path = os.path.realpath (path)\n",
    "    if os.path.exists (path):\n",
    "        return path\n",
    "    monPath = Path (path)\n",
    "    liste = monPath.parts\n",
    "    \n",
    "    if monPath.suffix in suffix :\n",
    "        liste = liste [:-1]\n",
    "    newPath = \"/\".join(liste)\n",
    "    \n",
    "    if os.path.exists (newPath):\n",
    "        return path\n",
    "    \n",
    "    os.makedirs (newPath)\n",
    "    return path\n",
    "\n",
    "\n",
    "\n",
    "\n",
    "    \n",
    "    \n",
    "    \n",
    "    \n",
    "    "
   ]
  },
  {
   "cell_type": "code",
   "execution_count": 5,
   "id": "composite-consumption",
   "metadata": {},
   "outputs": [],
   "source": [
    "import os\n",
    "from validationPath import validationPath\n",
    "\n",
    "path = \"../data/tmp/year/month/week/day/\"\n",
    "assert not os.path.exists(path) \n",
    "\n",
    "path = validationPath (path)\n",
    "assert os.path.exists(path) "
   ]
  },
  {
   "cell_type": "code",
   "execution_count": null,
   "id": "catholic-growing",
   "metadata": {},
   "outputs": [],
   "source": []
  },
  {
   "cell_type": "code",
   "execution_count": 5,
   "id": "acute-perry",
   "metadata": {},
   "outputs": [],
   "source": [
    "\n",
    "#%save detruirePath.py 2"
   ]
  },
  {
   "cell_type": "code",
   "execution_count": 2,
   "id": "religious-thumbnail",
   "metadata": {},
   "outputs": [],
   "source": [
    "import shutil\n",
    "\n",
    "def detruirePath(dir_path ) :\n",
    "    try:\n",
    "        shutil.rmtree(dir_path)\n",
    "    except OSError as e:\n",
    "        print(\"Error: %s : %s\" % (dir_path, e.strerror))\n"
   ]
  },
  {
   "cell_type": "code",
   "execution_count": 8,
   "id": "indian-creek",
   "metadata": {},
   "outputs": [
    {
     "data": {
      "text/plain": [
       "'/home/patrick/Bureau/Behavior_engine/code/data/tmp/year/month/week/day1'"
      ]
     },
     "execution_count": 8,
     "metadata": {},
     "output_type": "execute_result"
    }
   ],
   "source": [
    "\n"
   ]
  },
  {
   "cell_type": "code",
   "execution_count": 1,
   "id": "double-wholesale",
   "metadata": {},
   "outputs": [],
   "source": [
    "import os\n",
    "\n",
    "from validationPath import validationPath\n",
    "from detruirePath import detruirePath\n",
    "\n",
    "path = \"../data/tmp/year/month/week/day/\"\n",
    "assert not os.path.exists(path)\n",
    "path = validationPath (path)\n",
    "assert os.path.exists(path)\n",
    "\n",
    "detruirePath(path )\n",
    "\n",
    "assert not os.path.exists(path)\n",
    "\n"
   ]
  },
  {
   "cell_type": "code",
   "execution_count": 18,
   "id": "frank-cowboy",
   "metadata": {},
   "outputs": [],
   "source": []
  },
  {
   "cell_type": "code",
   "execution_count": 14,
   "id": "every-fundamental",
   "metadata": {},
   "outputs": [],
   "source": []
  },
  {
   "cell_type": "code",
   "execution_count": 13,
   "id": "frozen-cincinnati",
   "metadata": {},
   "outputs": [],
   "source": [
    "#%save get_list_filename.py 10"
   ]
  },
  {
   "cell_type": "code",
   "execution_count": 8,
   "id": "surgical-meditation",
   "metadata": {},
   "outputs": [],
   "source": [
    "import glob\n",
    "\n",
    "def get_list_filename (mypath,expansion):\n",
    "    return glob.glob(mypath+ expansion)"
   ]
  },
  {
   "cell_type": "code",
   "execution_count": 10,
   "id": "handed-ontario",
   "metadata": {},
   "outputs": [
    {
     "data": {
      "text/plain": [
       "['./test.json']"
      ]
     },
     "execution_count": 10,
     "metadata": {},
     "output_type": "execute_result"
    }
   ],
   "source": [
    "path = './'\n",
    "expansion = \"*.json\"\n",
    "\n",
    "get_list_filename (path,expansion)"
   ]
  },
  {
   "cell_type": "code",
   "execution_count": 1,
   "id": "related-michael",
   "metadata": {},
   "outputs": [],
   "source": [
    "from pathlib import Path\n",
    "import os\n",
    "import shutil\n",
    "\n",
    "\n",
    "def destruction (pathDepart, path_ok = \"../tmp/year/month/\") :\n",
    "    # supprime toute les directory et fichiers qui sont dans pathDepart\n",
    "    # danger #######\n",
    "    \n",
    "    if not os.path.exists (pathDepart):\n",
    "        raise ValueError\n",
    "        \n",
    "    monPath = Path (pathDepart)\n",
    "    liste = monPath.parts [:-1]\n",
    "    \n",
    "    monPath_ok = Path (path_ok)\n",
    "    liste_ok = monPath_ok.parts\n",
    "    \n",
    "    if liste != liste_ok :\n",
    "        print (liste )\n",
    "        print (liste_ok)\n",
    "        raise ValueError\n",
    "    \n",
    "    \n",
    "\n",
    "    for root, dirs, files in os.walk(pathDepart, topdown=False):\n",
    "        for name in files:\n",
    "            print (\"remove\", name)\n",
    "            #os.remove(os.path.join(root, name))\n",
    "        for name in dirs:\n",
    "            print (\"rmdir \", os.path.join(root, name))\n",
    "            #os.rmdir(os.path.join(root, name))\n",
    "        \n",
    "        \n",
    "    \n"
   ]
  },
  {
   "cell_type": "code",
   "execution_count": 4,
   "id": "dedicated-surveillance",
   "metadata": {},
   "outputs": [
    {
     "name": "stdout",
     "output_type": "stream",
     "text": [
      "remove toto1.txt\n",
      "remove toto.txt\n",
      "rmdir  ../tmp/year/month/week/day\n"
     ]
    }
   ],
   "source": [
    "from validationPath import validationPath\n",
    "pathLib = \"../tmp/year/month/week/day/\"\n",
    "validationPath (pathLib)\n",
    "\n",
    "path = \"../tmp/year/month/week/day/toto1.txt\"\n",
    "f = open(path, 'w')\n",
    "f.write ('test')\n",
    "f.close\n",
    "\n",
    "path = \"../tmp/year/month/week/day/toto.txt\"\n",
    "f = open(path, 'w')\n",
    "f.write ('test')\n",
    "f.close\n",
    "pathDepart = \"../tmp/year/month/week/\"\n",
    "\n",
    "destruction (pathDepart)\n",
    "\n"
   ]
  },
  {
   "cell_type": "code",
   "execution_count": 65,
   "id": "checked-building",
   "metadata": {},
   "outputs": [
    {
     "name": "stdout",
     "output_type": "stream",
     "text": [
      "remove toto1.txt\n",
      "remove toto.txt\n",
      "rmdir  ../tmp/year/month/week/day\n"
     ]
    }
   ],
   "source": [
    "pathDepart = \"../tmp/year/month/week/\"\n",
    "\n",
    "destruction (pathDepart)"
   ]
  },
  {
   "cell_type": "code",
   "execution_count": 14,
   "id": "palestinian-advertising",
   "metadata": {},
   "outputs": [],
   "source": [
    "#%save lire_dico_json.py 5\n",
    "\n"
   ]
  },
  {
   "cell_type": "code",
   "execution_count": 5,
   "id": "developing-naples",
   "metadata": {},
   "outputs": [],
   "source": [
    "import json\n",
    "\n",
    "def lire_dico_json (pathFile) :\n",
    "    f = open (pathFile, \"r\")\n",
    "    data = f.read()\n",
    "    f.close()\n",
    "    dico = json.loads (data)\n",
    "    return dico\n"
   ]
  },
  {
   "cell_type": "code",
   "execution_count": null,
   "id": "bibliographic-humor",
   "metadata": {},
   "outputs": [],
   "source": []
  },
  {
   "cell_type": "code",
   "execution_count": 12,
   "id": "great-impact",
   "metadata": {},
   "outputs": [],
   "source": [
    "\n",
    "\n",
    "nom_environnement = \"test\"        \n",
    "path = '../data/'+ nom_environnement + '/parametres/'\n",
    "pathFile = path+'dico_lock.json'\n",
    "dico = lire_dico_json (pathFile)\n",
    "assert isinstance (dico, type({}) )"
   ]
  },
  {
   "cell_type": "code",
   "execution_count": null,
   "id": "capable-three",
   "metadata": {},
   "outputs": [],
   "source": []
  }
 ],
 "metadata": {
  "kernelspec": {
   "display_name": "Python 3",
   "language": "python",
   "name": "python3"
  },
  "language_info": {
   "codemirror_mode": {
    "name": "ipython",
    "version": 3
   },
   "file_extension": ".py",
   "mimetype": "text/x-python",
   "name": "python",
   "nbconvert_exporter": "python",
   "pygments_lexer": "ipython3",
   "version": "3.9.1"
  }
 },
 "nbformat": 4,
 "nbformat_minor": 5
}
