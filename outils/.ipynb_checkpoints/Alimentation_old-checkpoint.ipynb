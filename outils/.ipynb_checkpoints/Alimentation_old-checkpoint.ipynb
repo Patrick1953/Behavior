{
 "cells": [
  {
   "cell_type": "code",
   "execution_count": null,
   "id": "foster-columbus",
   "metadata": {},
   "outputs": [],
   "source": []
  },
  {
   "cell_type": "code",
   "execution_count": null,
   "id": "illegal-spring",
   "metadata": {},
   "outputs": [],
   "source": [
    "\n",
    "from Indexation_evenements import Indexation_evenements\n",
    "\n",
    "class Alimentation (Indexation_evenements) :\n",
    "    \n",
    "    def __init__ (self, arg) :\n",
    "        \n",
    "        nom_environnement = arg ['nom_environnement']   \n",
    "        arg_entree = dico_systeme ['environnement'][nom_environnement]\n",
    "        \n",
    "        K = Kernel_entree (arg_entree)\n",
    "        K.init_lecture()\n",
    "        iterateur = K.readIterator\n",
    "        self.isPurge_existing_index = arg ['isPurge_existing_index']\n",
    "        super ().__init__( arg, iterateur)\n",
    "        \n",
    "\n",
    "    def run (self,) :\n",
    "        \n",
    "        self.indexation (isPurge_existing_index = self.isPurge_existing_index)\n",
    "        \n",
    "        \n",
    "        "
   ]
  },
  {
   "cell_type": "code",
   "execution_count": null,
   "id": "tribal-bolivia",
   "metadata": {},
   "outputs": [],
   "source": []
  },
  {
   "cell_type": "code",
   "execution_count": 1,
   "id": "intellectual-evolution",
   "metadata": {},
   "outputs": [
    {
     "ename": "ModuleNotFoundError",
     "evalue": "No module named 'Indexation_evenements'",
     "output_type": "error",
     "traceback": [
      "\u001b[0;31m---------------------------------------------------------------------------\u001b[0m",
      "\u001b[0;31mModuleNotFoundError\u001b[0m                       Traceback (most recent call last)",
      "\u001b[0;32m<ipython-input-1-14516b0d1011>\u001b[0m in \u001b[0;36m<module>\u001b[0;34m\u001b[0m\n\u001b[1;32m      5\u001b[0m     \u001b[0;32mreturn\u001b[0m \u001b[0mpp\u001b[0m\u001b[0;34m.\u001b[0m\u001b[0mpprint\u001b[0m\u001b[0;34m(\u001b[0m\u001b[0mstuff\u001b[0m\u001b[0;34m)\u001b[0m\u001b[0;34m\u001b[0m\u001b[0;34m\u001b[0m\u001b[0m\n\u001b[1;32m      6\u001b[0m \u001b[0;34m\u001b[0m\u001b[0m\n\u001b[0;32m----> 7\u001b[0;31m \u001b[0;32mfrom\u001b[0m \u001b[0mIndexation_evenements\u001b[0m \u001b[0;32mimport\u001b[0m \u001b[0mIndexation_evenements\u001b[0m\u001b[0;34m\u001b[0m\u001b[0;34m\u001b[0m\u001b[0m\n\u001b[0m\u001b[1;32m      8\u001b[0m \u001b[0mpath\u001b[0m \u001b[0;34m=\u001b[0m \u001b[0;34m\"../outils\"\u001b[0m\u001b[0;34m\u001b[0m\u001b[0;34m\u001b[0m\u001b[0m\n\u001b[1;32m      9\u001b[0m \u001b[0;32mif\u001b[0m \u001b[0mpath\u001b[0m \u001b[0;32mnot\u001b[0m \u001b[0;32min\u001b[0m \u001b[0msys\u001b[0m\u001b[0;34m.\u001b[0m\u001b[0mpath\u001b[0m \u001b[0;34m:\u001b[0m\u001b[0;34m\u001b[0m\u001b[0;34m\u001b[0m\u001b[0m\n",
      "\u001b[0;31mModuleNotFoundError\u001b[0m: No module named 'Indexation_evenements'"
     ]
    }
   ],
   "source": [
    "import json, sys\n",
    "from datetime import datetime\n",
    "from pprint import PrettyPrinter \n",
    "def PP (stuff , pp = PrettyPrinter(indent=4)) :\n",
    "    return pp.pprint(stuff)\n",
    "\n",
    "from Indexation_evenements import Indexation_evenements\n",
    "path = \"../outils\"\n",
    "if path not in sys.path :\n",
    "    sys.path.append (path)\n",
    "    \n",
    "#from Alimentation import Alimentation\n",
    "\n",
    "\n",
    "\n",
    "\n",
    "def test_alimentation () :\n",
    "    \n",
    "    def lire_file (pathFile) :\n",
    "        f = open (pathFile, 'r')\n",
    "        data = f.read()\n",
    "        return json.loads (data)\n",
    "    \n",
    "    pathEvenements = '../data/test/parametres/dico_evenements_2.json'\n",
    "    pathSysteme = '../data/test/parametres/dico_systeme_2.json'\n",
    "    nom_environnement = 'test'\n",
    "    \n",
    "    dico_evenements = lire_file (pathEvenements)\n",
    "    dico_systeme = lire_file (pathSysteme)\n",
    "    #PP (dico_evenements)\n",
    "    \n",
    "    arg = {}\n",
    "    arg ['dico_evenements'] = dico_evenements\n",
    "    arg ['dico_systeme'] = dico_systeme\n",
    "    arg ['nom_environnement'] = nom_environnement\n",
    "    arg ['isPurge_existing_index'] = True\n",
    "    \n",
    "    \n",
    "    \n",
    "if __name__ == '__main__' :\n",
    "    test_alimentation ()\n",
    "    print ('fin test_Indexation_evenements')      "
   ]
  },
  {
   "cell_type": "code",
   "execution_count": null,
   "id": "alpine-giving",
   "metadata": {},
   "outputs": [],
   "source": []
  }
 ],
 "metadata": {
  "kernelspec": {
   "display_name": "Python 3",
   "language": "python",
   "name": "python3"
  },
  "language_info": {
   "codemirror_mode": {
    "name": "ipython",
    "version": 3
   },
   "file_extension": ".py",
   "mimetype": "text/x-python",
   "name": "python",
   "nbconvert_exporter": "python",
   "pygments_lexer": "ipython3",
   "version": "3.9.1"
  }
 },
 "nbformat": 4,
 "nbformat_minor": 5
}
