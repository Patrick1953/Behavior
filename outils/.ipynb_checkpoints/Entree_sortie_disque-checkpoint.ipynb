{
 "cells": [
  {
   "cell_type": "code",
   "execution_count": 6,
   "id": "iraqi-change",
   "metadata": {},
   "outputs": [],
   "source": [
    "#%save Entree_sortie_disque.py 4"
   ]
  },
  {
   "cell_type": "code",
   "execution_count": 4,
   "id": "clear-blowing",
   "metadata": {},
   "outputs": [],
   "source": [
    "import json\n",
    "\n",
    "\n",
    "class Entree_sortie_disque () :\n",
    "    \n",
    "    \n",
    "    def __init__ (self,pathParametres ) :\n",
    "        \"\"\"\n",
    "        Warning lecture ecriture par une seule tache........à faire si necessaire\n",
    "        sinon faire lecture en lock, modif rapide puis ecriture\n",
    "        \"\"\"\n",
    "        \n",
    "        self.pathParametres = pathParametres\n",
    "        \n",
    "        \n",
    "    \n",
    "    def readParametres (self,) :\n",
    "        #modif pour executeur simplifie\n",
    "        \n",
    "        f = open (self.pathParametres, \"r\")\n",
    "        data = f.read()\n",
    "        f.close()\n",
    "                \n",
    "        return json.loads (data)\n",
    "    \n",
    "    def saveParametres (self, dico ) :\n",
    "        #modif pour executeur simplifie  ne fait rien\n",
    "        \n",
    "        data = json.dumps(dico)\n",
    "        f = open(self.pathParametres, 'w')\n",
    "        f.write (data)\n",
    "        f.close()\n",
    "        \n",
    "        \n",
    "        return"
   ]
  },
  {
   "cell_type": "code",
   "execution_count": null,
   "id": "developed-olive",
   "metadata": {},
   "outputs": [],
   "source": []
  }
 ],
 "metadata": {
  "kernelspec": {
   "display_name": "Python 3",
   "language": "python",
   "name": "python3"
  },
  "language_info": {
   "codemirror_mode": {
    "name": "ipython",
    "version": 3
   },
   "file_extension": ".py",
   "mimetype": "text/x-python",
   "name": "python",
   "nbconvert_exporter": "python",
   "pygments_lexer": "ipython3",
   "version": "3.9.1"
  }
 },
 "nbformat": 4,
 "nbformat_minor": 5
}
