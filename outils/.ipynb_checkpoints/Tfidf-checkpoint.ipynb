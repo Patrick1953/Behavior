{
 "cells": [
  {
   "cell_type": "code",
   "execution_count": 15,
   "metadata": {},
   "outputs": [],
   "source": [
    "#%save Tfidf.py 13"
   ]
  },
  {
   "cell_type": "code",
   "execution_count": 13,
   "metadata": {},
   "outputs": [],
   "source": [
    "from sklearn.feature_extraction.text import TfidfVectorizer\n",
    "import pickle\n",
    "\n",
    "\n",
    "def apprentissage (liste, namefilePickle, max_features) :\n",
    "    vectorizer = TfidfVectorizer(\n",
    "                                analyzer='word', \n",
    "                                sublinear_tf=True,\n",
    "                                strip_accents='unicode',\n",
    "                                token_pattern=r'\\w{1,}',\n",
    "                                ngram_range=(1, 1),\n",
    "                                max_features=max_features)\n",
    "    # on sauve\n",
    "    tfidf = vectorizer.fit(liste)\n",
    "    pickle.dump(tfidf, open(namefilePickle, \"wb\"))\n",
    "    return\n",
    "\n",
    "\n",
    "\n",
    "class vectorisationStrings():\n",
    "    def __init__ (self,namefilePickle) :\n",
    "        self.new_tfidf = pickle.load  (open(\"tfidf.pickle\", \"rb\"))\n",
    "        \n",
    "    def vectorisationListStrings (self, liste) :\n",
    "        resultat_xparseArray = self.new_tfidf.transform(liste)\n",
    "        return resultat_xparseArray.toarray().tolist()\n",
    "        \n",
    "        \n",
    "    def vectorisationString (self , ligne ) :\n",
    "        liste = [ligne]\n",
    "        resultat_xparseArray = self.new_tfidf.transform(liste)\n",
    "        return resultat_xparseArray.toarray().tolist() [0]\n",
    "    \n",
    "    def getFeatures (self,) :\n",
    "        return self.new_tfidf.get_feature_names()\n",
    "\n",
    "\n",
    "    "
   ]
  },
  {
   "cell_type": "code",
   "execution_count": 3,
   "metadata": {},
   "outputs": [
    {
     "data": {
      "text/plain": [
       "'3.9.1 (default, Dec 11 2020, 14:32:07) \\n[GCC 7.3.0]'"
      ]
     },
     "execution_count": 3,
     "metadata": {},
     "output_type": "execute_result"
    }
   ],
   "source": [
    "\n",
    "\n",
    "\n",
    "\n"
   ]
  },
  {
   "cell_type": "code",
   "execution_count": 6,
   "metadata": {},
   "outputs": [
    {
     "name": "stdout",
     "output_type": "stream",
     "text": [
      "vectorisationStrings## ok\n",
      "vectorisationString ## ok\n",
      "getFeatures ## ok\n",
      "temps d'execution appentissage pour  100000  mots : 2.402376174926758\n",
      "ce qui donne un temps de vectorization = 0.0023937225341796875\n",
      "fin test\n"
     ]
    }
   ],
   "source": [
    "from sklearn.feature_extraction.text import TfidfVectorizer\n",
    "from Tfidf import apprentissage,vectorisationStrings\n",
    "import time, random\n",
    "\n",
    "liste = [\n",
    "    \n",
    "    'patrick aime le beurre',\n",
    "    'merlin aime la confiture',\n",
    "     ]\n",
    "\n",
    "namefilePickle = \"tfidf.pickle\"\n",
    "max_features = 100\n",
    "apprentissage (liste, namefilePickle, max_features)\n",
    "\n",
    "\n",
    "\n",
    "\n",
    "voulu = [[0.4494364165239821,\n",
    "          0.0,\n",
    "          0.6316672017376245,\n",
    "          0.6316672017376245,\n",
    "          0.0,\n",
    "          0.0,\n",
    "          0.0]]\n",
    "\n",
    "test_ligne = ['paul aime la bleu confiture rouge']\n",
    "\n",
    "namefilePickle = \"tfidf.pickle\"\n",
    "\n",
    "V = vectorisationStrings(namefilePickle)\n",
    "\n",
    "r = V.vectorisationListStrings (test_ligne)\n",
    "\n",
    "if r == voulu :\n",
    "    print ('vectorisationStrings## ok')\n",
    "else:\n",
    "    print (\"vectorisationStrings ############### KO\")\n",
    "    print (\"voulu =\", voulu)\n",
    "    print (\"resultat =\",r)\n",
    "    \n",
    "r = V.vectorisationString (test_ligne[0])\n",
    "\n",
    "if r == voulu[0] :\n",
    "    print ('vectorisationString ## ok')\n",
    "else:\n",
    "    print (\"vectorisationString ############### KO\")\n",
    "    print (\"voulu =\", voulu[0])\n",
    "    print (\"resultat =\",r)\n",
    "    print ()\n",
    "    \n",
    "voulu = ['aime', 'beurre', 'confiture', 'la', 'le', 'merlin', 'patrick']\n",
    "r = V.getFeatures ()\n",
    "\n",
    "if r == voulu :\n",
    "    print ('getFeatures ## ok')\n",
    "else:\n",
    "    print (\"getFeatures ############### KO\")\n",
    "    print (\"voulu =\", voulu)\n",
    "    print (\"resultat =\",r)\n",
    "\n",
    "nombre_ligne  = 100000\n",
    "nombre_mot = 40\n",
    "\n",
    "tableau_ligne = []\n",
    "for nl in range(0,nombre_ligne):\n",
    "    ligne = []\n",
    "    for i in range(0, nombre_mot) :\n",
    "        alea = random.randint(0, nombre_ligne)\n",
    "        ligne.append('test'+str (alea))\n",
    "        continue\n",
    "    texte = ' '.join(ligne)\n",
    "    tableau_ligne.append (texte)\n",
    "    continue\n",
    "\n",
    "#print (len(tableau_ligne))\n",
    "t = time.time ()\n",
    "namefilePickle = \"tfidf.pickle\"\n",
    "max_features = nombre_ligne*nombre_mot\n",
    "apprentissage (tableau_ligne, namefilePickle, max_features)    \n",
    "print (\"temps d'execution appentissage pour \",nombre_ligne, \" mots :\", time.time() - t)\n",
    "\n",
    "#print (texte)\n",
    "namefilePickle = \"tfidf.pickle\"\n",
    "V = vectorisationStrings(namefilePickle)\n",
    "t = time.time ()\n",
    "V.vectorisationString (texte)\n",
    "print (\"ce qui donne un temps de vectorization =\", time.time() - t)\n",
    "print (\"fin test\")\n"
   ]
  },
  {
   "cell_type": "code",
   "execution_count": 12,
   "metadata": {},
   "outputs": [],
   "source": [
    "#!pip3 install -U scikit-learn"
   ]
  },
  {
   "cell_type": "code",
   "execution_count": null,
   "metadata": {},
   "outputs": [],
   "source": []
  },
  {
   "cell_type": "code",
   "execution_count": 6,
   "metadata": {},
   "outputs": [
    {
     "data": {
      "text/plain": [
       "[0.37997836159100784,\n",
       " 0.0,\n",
       " 0.534046329052269,\n",
       " 0.534046329052269,\n",
       " 0.0,\n",
       " 0.534046329052269,\n",
       " 0.0]"
      ]
     },
     "execution_count": 6,
     "metadata": {},
     "output_type": "execute_result"
    }
   ],
   "source": []
  },
  {
   "cell_type": "code",
   "execution_count": null,
   "metadata": {},
   "outputs": [],
   "source": []
  },
  {
   "cell_type": "code",
   "execution_count": null,
   "metadata": {},
   "outputs": [],
   "source": []
  },
  {
   "cell_type": "code",
   "execution_count": null,
   "metadata": {},
   "outputs": [],
   "source": []
  }
 ],
 "metadata": {
  "kernelspec": {
   "display_name": "Python 3",
   "language": "python",
   "name": "python3"
  },
  "language_info": {
   "codemirror_mode": {
    "name": "ipython",
    "version": 3
   },
   "file_extension": ".py",
   "mimetype": "text/x-python",
   "name": "python",
   "nbconvert_exporter": "python",
   "pygments_lexer": "ipython3",
   "version": "3.9.1"
  }
 },
 "nbformat": 4,
 "nbformat_minor": 4
}
