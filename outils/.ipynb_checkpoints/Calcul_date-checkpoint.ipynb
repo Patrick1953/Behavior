{
 "cells": [
  {
   "cell_type": "code",
   "execution_count": 7,
   "id": "hydraulic-advocacy",
   "metadata": {},
   "outputs": [],
   "source": [
    "#%save Calcul_date.py 1"
   ]
  },
  {
   "cell_type": "code",
   "execution_count": 1,
   "id": "dutch-headline",
   "metadata": {},
   "outputs": [],
   "source": [
    "from gestionDate import gestionDate\n",
    "\n",
    "class Calcul_date (gestionDate ) :\n",
    "    \n",
    "    def __init__ (self,) :\n",
    "        \n",
    "        super ().__init__ ()\n",
    "        \n",
    "        return\n",
    "    \n",
    "    def Demi_jour (self,date) :\n",
    "        \n",
    "        self.dateCourante = date\n",
    "        resultat = self.isMatin ()\n",
    "        if resultat :\n",
    "            return 'bpm'\n",
    "        else:\n",
    "            return 'apm'\n",
    "    def Jour (self, date) :\n",
    "        self.dateCourante = date\n",
    "        return self.getJour ()\n",
    "    \n",
    "    def Semaine (self,date) :\n",
    "        self.dateCourante = date\n",
    "        return str(date.isocalendar()[1])\n",
    "    \n",
    "    def Mois (self, date) :\n",
    "        self.dateCourante = date\n",
    "        return self.getMois ()\n",
    "    \n",
    "    def Annee (self,date) :\n",
    "        self.dateCourante = date\n",
    "        return str(self.getAnnee() )\n",
    "        \n",
    "        \n",
    "    \n",
    "    "
   ]
  },
  {
   "cell_type": "code",
   "execution_count": null,
   "id": "decreased-brazil",
   "metadata": {},
   "outputs": [],
   "source": []
  },
  {
   "cell_type": "code",
   "execution_count": 1,
   "id": "assisted-meter",
   "metadata": {},
   "outputs": [
    {
     "name": "stdout",
     "output_type": "stream",
     "text": [
      "test_paragraphe_quantile OK\n"
     ]
    }
   ],
   "source": [
    "from datetime import datetime\n",
    "from Entree_sortie_lock import Entree_sortie_lock\n",
    "from Calcul_date import Calcul_date\n",
    "\n",
    "def test_calcul_date () :\n",
    "    arg = {}\n",
    "    nom_environnement = 'test'\n",
    "    arg ['nom_environnement'] =  'nom_environnement'\n",
    "        \n",
    "    pathFile_systeme = '/dico_systeme_2.json'\n",
    "\n",
    "    arg_entree_sortie_lock = {} \n",
    "    arg_entree_sortie_lock ['nom_environnement'] = nom_environnement\n",
    "    \n",
    "    arg_entree_sortie_lock ['pathFile'] = pathFile_systeme\n",
    "    Entree_sortie_systeme = Entree_sortie_lock (arg_entree_sortie_lock)\n",
    "    dico_systeme, etat = Entree_sortie_systeme.lire()\n",
    "    arg ['pathDico_systeme'] = dico_systeme\n",
    "    \n",
    "    formatDate = dico_systeme ['calcul'] ['format_date_standard']\n",
    "    date_string = \"2021-04-27 19:45:00.000000\"\n",
    "    date = datetime.strptime(date_string, formatDate)\n",
    "    \n",
    "    C = Calcul_date ()\n",
    "    \n",
    "    \n",
    "    dico = {\n",
    "        \n",
    "        'demi_jour' :C.Demi_jour,\n",
    "        'jour' : C.Jour,\n",
    "        'semaine' : C.Semaine,\n",
    "        'mois' : C.Mois,\n",
    "        'annee' : C.Annee,\n",
    "    }\n",
    "    \n",
    "    voulu = {\n",
    "        \n",
    "        'demi_jour' :'apm',\n",
    "        'jour' : 'mardi',\n",
    "        'semaine' : '17',\n",
    "        'mois' : 'avril',\n",
    "        'annee' : '2021',\n",
    "        \n",
    "        }\n",
    "    \n",
    "    for type_calcul in dico.keys () :\n",
    "        r = dico [type_calcul] (date)\n",
    "        v = voulu [type_calcul]\n",
    "        assert r == v\n",
    "        continue\n",
    "        \n",
    "if __name__ == '__main__' :\n",
    "    test_calcul_date ()\n",
    "    print ('test_paragraphe_quantile OK')   "
   ]
  },
  {
   "cell_type": "code",
   "execution_count": null,
   "id": "nearby-hunger",
   "metadata": {},
   "outputs": [],
   "source": []
  }
 ],
 "metadata": {
  "kernelspec": {
   "display_name": "Python 3",
   "language": "python",
   "name": "python3"
  },
  "language_info": {
   "codemirror_mode": {
    "name": "ipython",
    "version": 3
   },
   "file_extension": ".py",
   "mimetype": "text/x-python",
   "name": "python",
   "nbconvert_exporter": "python",
   "pygments_lexer": "ipython3",
   "version": "3.9.1"
  }
 },
 "nbformat": 4,
 "nbformat_minor": 5
}
