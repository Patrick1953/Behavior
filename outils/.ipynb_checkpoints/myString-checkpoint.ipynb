{
 "cells": [
  {
   "cell_type": "code",
   "execution_count": 3,
   "id": "standing-ridge",
   "metadata": {},
   "outputs": [],
   "source": [
    "#%save myString.py 1"
   ]
  },
  {
   "cell_type": "code",
   "execution_count": 1,
   "id": "academic-happiness",
   "metadata": {},
   "outputs": [],
   "source": [
    "from datetime import datetime\n",
    "\n",
    "import sys\n",
    "path = \"../outils\"\n",
    "if path not in sys.path :\n",
    "    sys.path.append (path)\n",
    "\n",
    "from Parametres import Parametres\n",
    "\n",
    "\n",
    "\n",
    "\n",
    "class myString () :\n",
    "    def __init__ (self, dico_systeme ) :\n",
    "        \n",
    "        dico = Parametres (dico_systeme, listeData = ['calcul'])\n",
    "                      \n",
    "        self.formatStandard = dico ['format_string_standard']\n",
    "                \n",
    "        return\n",
    "    \n",
    "    def test_string (self, val, formatEntree) :\n",
    "        if formatEntree == 'standard' :\n",
    "            if isinstance (val, type(' ')) :\n",
    "                return True\n",
    "            \n",
    "            return False\n",
    "        \n",
    "        return True\n",
    "    \n",
    "        \n",
    "        return\n",
    "    \n",
    "    def convert_string (self,val , formatEntree  ) :\n",
    "        if formatEntree == 'standard' :\n",
    "            return val\n",
    "        \n",
    "        return  val\n",
    "    \n",
    "    \n",
    "    \n",
    "        \n",
    "        \n",
    "       \n",
    "        "
   ]
  },
  {
   "cell_type": "code",
   "execution_count": null,
   "id": "operating-giant",
   "metadata": {},
   "outputs": [],
   "source": []
  },
  {
   "cell_type": "code",
   "execution_count": 7,
   "id": "loving-level",
   "metadata": {},
   "outputs": [],
   "source": [
    "#%save test_myString.py 5"
   ]
  },
  {
   "cell_type": "code",
   "execution_count": 5,
   "id": "mighty-emergency",
   "metadata": {},
   "outputs": [
    {
     "name": "stdout",
     "output_type": "stream",
     "text": [
      "fin test date\n"
     ]
    }
   ],
   "source": [
    "import json\n",
    "\n",
    "from myString import myString\n",
    "\n",
    "def test_myString ():\n",
    "    def lire_file (pathFile) :\n",
    "        f = open (pathFile, 'r')\n",
    "        data = f.read()\n",
    "        return json.loads (data)\n",
    "    \n",
    "    pathSysteme = '../data/test/parametres/dico_systeme_2.json'\n",
    "    dico_systeme = lire_file (pathSysteme)\n",
    "    \n",
    "    D = myString (dico_systeme)\n",
    "    \n",
    "    S = \"chaine\"\n",
    "    assert D.test_string(S, 'standard' )\n",
    "    \n",
    "    resultat = D.convert_string (S,  'standard')\n",
    "    assert (resultat ==  S)\n",
    "    return\n",
    "    \n",
    "    \n",
    "if __name__ == '__main__' :\n",
    "    test_myString ()\n",
    "    print ('fin test date')    "
   ]
  },
  {
   "cell_type": "code",
   "execution_count": null,
   "id": "authorized-mining",
   "metadata": {},
   "outputs": [],
   "source": []
  }
 ],
 "metadata": {
  "kernelspec": {
   "display_name": "Python 3",
   "language": "python",
   "name": "python3"
  },
  "language_info": {
   "codemirror_mode": {
    "name": "ipython",
    "version": 3
   },
   "file_extension": ".py",
   "mimetype": "text/x-python",
   "name": "python",
   "nbconvert_exporter": "python",
   "pygments_lexer": "ipython3",
   "version": "3.9.1"
  }
 },
 "nbformat": 4,
 "nbformat_minor": 5
}
