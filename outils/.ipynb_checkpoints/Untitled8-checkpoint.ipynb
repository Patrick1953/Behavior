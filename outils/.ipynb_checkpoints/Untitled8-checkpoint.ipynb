{
 "cells": [
  {
   "cell_type": "code",
   "execution_count": null,
   "id": "junior-table",
   "metadata": {},
   "outputs": [],
   "source": []
  },
  {
   "cell_type": "code",
   "execution_count": 3,
   "id": "coastal-vessel",
   "metadata": {},
   "outputs": [],
   "source": [
    "import os, time\n",
    "\n",
    "class LockTimeError(Exception): pass\n",
    "\n",
    "class Lock () :\n",
    "    \n",
    "    def __init__ (self,) :\n",
    "        \n",
    "        self.time_out = 30\n",
    "        self.pathLock = \"file_lock.lock\"\n",
    "        self.flags = os.O_CREAT | os.O_RDWR | os.O_EXLOCK\n",
    "        \n",
    "    def acquire (self, ) :\n",
    "        nombre = 0\n",
    "        while (True) :\n",
    "            if os.path.exists (self.pathLock) :\n",
    "                time.sleep (1)\n",
    "                nombre += 1\n",
    "                if nombre > self.time_out :\n",
    "                    self.release()\n",
    "                    raise LockTimeError\n",
    "                continue\n",
    "            break\n",
    "        with os.open(self.lockfname, self.flags) as f :\n",
    "            f.close ()\n",
    "        return\n",
    "    \n",
    "    def release (self,):\n",
    "        try :\n",
    "            os.remove (self.pathLock)\n",
    "        except:\n",
    "            pass\n",
    "        return\n",
    "    def valid_lock(self):\n",
    "        \"\"\"\n",
    "        See if the lock exists and is left over from an old process.\n",
    "        \"\"\"\n",
    "\n",
    "        if not os.path.exists(self.pathLock):\n",
    "            return False\n",
    "        else :\n",
    "            return True"
   ]
  },
  {
   "cell_type": "code",
   "execution_count": null,
   "id": "driven-scanning",
   "metadata": {},
   "outputs": [],
   "source": []
  },
  {
   "cell_type": "code",
   "execution_count": 4,
   "id": "independent-expert",
   "metadata": {},
   "outputs": [],
   "source": []
  },
  {
   "cell_type": "code",
   "execution_count": 6,
   "id": "accompanied-tutorial",
   "metadata": {},
   "outputs": [],
   "source": []
  },
  {
   "cell_type": "code",
   "execution_count": null,
   "id": "metallic-chapel",
   "metadata": {},
   "outputs": [],
   "source": []
  },
  {
   "cell_type": "code",
   "execution_count": null,
   "id": "inside-robinson",
   "metadata": {},
   "outputs": [],
   "source": []
  }
 ],
 "metadata": {
  "kernelspec": {
   "display_name": "Patrick",
   "language": "python",
   "name": "patrick"
  },
  "language_info": {
   "codemirror_mode": {
    "name": "ipython",
    "version": 3
   },
   "file_extension": ".py",
   "mimetype": "text/x-python",
   "name": "python",
   "nbconvert_exporter": "python",
   "pygments_lexer": "ipython3",
   "version": "3.9.1"
  }
 },
 "nbformat": 4,
 "nbformat_minor": 5
}
