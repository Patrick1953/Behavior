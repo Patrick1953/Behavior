{
 "cells": [
  {
   "cell_type": "code",
   "execution_count": 12,
   "id": "appointed-germany",
   "metadata": {},
   "outputs": [],
   "source": [
    "#%save Entree_fichier.py 8"
   ]
  },
  {
   "cell_type": "code",
   "execution_count": 8,
   "id": "great-encyclopedia",
   "metadata": {},
   "outputs": [],
   "source": [
    "\n",
    "\n",
    "class Entree_fichier () :\n",
    "    \n",
    "    def __init__(self, arg) :\n",
    "        path = arg ['path_fichier']\n",
    "        nom_fichier = arg ['nom_fichier']\n",
    "        self.pathFile = path + nom_fichier\n",
    "        \n",
    "        self.sep = arg ['separateur'] \n",
    "        \n",
    "        \n",
    "    def init_lecture (self,) :\n",
    "        self.f = open (self.pathFile, \"r\", newline='\\r\\n')\n",
    "        #self.f = open(self.pathFile, 'r')\n",
    "        \n",
    "    def readIterator (self,) :\n",
    "        sep = self.sep\n",
    "        while (True) :\n",
    "            li = self.f.readline ()\n",
    "            if li == \"\" :\n",
    "                return\n",
    "            liste = li[:-1].split (sep)\n",
    "            yield  liste\n",
    "    def close (self,) :\n",
    "        self.f.close()\n",
    "    \n",
    "    "
   ]
  },
  {
   "cell_type": "code",
   "execution_count": 9,
   "id": "nominated-provider",
   "metadata": {},
   "outputs": [],
   "source": [
    "#%save test_entree_fichier.py 2"
   ]
  },
  {
   "cell_type": "code",
   "execution_count": 1,
   "id": "designing-annotation",
   "metadata": {},
   "outputs": [],
   "source": [
    "import json\n",
    "from pprint import PrettyPrinter \n",
    "def P (stuff , pp = PrettyPrinter(indent=4)) :\n",
    "    return pp.pprint(stuff)\n",
    "\n",
    "from Entree_fichier import Entree_fichier\n",
    "\n",
    "def  test_entree_fichier () :\n",
    "    \n",
    "    def lire_file (pathFile) :\n",
    "        f = open (pathFile, 'r')\n",
    "        data = f.read()\n",
    "        return json.loads (data)\n",
    "    \n",
    "    nom_environnement = '#test'\n",
    "    pathSysteme = '../data/#test/parametres/dico_evenements_2.json'\n",
    "    dico_evenements = lire_file (pathSysteme)\n",
    "    #P(dico_evenements)\n",
    "    arg_lecture = dico_evenements  ['environnement']  ['parametres_lecture']\n",
    "    arg_lecture ['nom_fichier'] = 'evenements.json'\n",
    "    \n",
    "    P(arg_lecture)\n",
    "    \n",
    "    E = Entree_fichier (arg_lecture)\n",
    "    \n",
    "    E.init_lecture ()\n",
    "    \n",
    "    numero = 0\n",
    "    for data in E.readIterator () :\n",
    "        numero += 1\n",
    "        continue\n",
    "    print (numero)\n",
    "    E.close ()   \n",
    "    assert numero == 192\n",
    "    \n",
    "    return\n",
    "\n",
    "        \n",
    "    \n",
    "if __name__ == '_t_main__' :\n",
    "    test_entree_fichier ()\n",
    "    print ('fin test_entree_fichier ')      \n",
    "    \n",
    "    \n",
    "    \n",
    "    "
   ]
  },
  {
   "cell_type": "code",
   "execution_count": null,
   "id": "sunset-indicator",
   "metadata": {},
   "outputs": [],
   "source": []
  },
  {
   "cell_type": "code",
   "execution_count": 10,
   "id": "recent-scheduling",
   "metadata": {},
   "outputs": [],
   "source": [
    "\n",
    "\n",
    "path = '../data/test/data_alimentation/evenements.json'\n",
    "\n",
    "\n",
    "f = open(path, 'r')\n",
    "liste_ligne = []\n",
    "nombre =0\n",
    "while (True) :\n",
    "    li = f.readline ()\n",
    "    if li == '' :\n",
    "        break\n",
    "    nombre += 1\n",
    "    liste_ligne.append(li [:-1])\n",
    "\n",
    "assert nombre == len(liste_ligne)\n",
    "\n",
    "path = '../data/#test/data_alimentation/evenements.json'\n",
    "g = open (path, 'w')\n",
    "\n",
    "for li in liste_ligne :\n",
    "    ligne = li + '\\r\\n'\n",
    "    g.write (ligne)\n",
    "    \n",
    "g.close ()"
   ]
  },
  {
   "cell_type": "code",
   "execution_count": 7,
   "id": "appropriate-title",
   "metadata": {},
   "outputs": [
    {
     "data": {
      "text/plain": [
       "192"
      ]
     },
     "execution_count": 7,
     "metadata": {},
     "output_type": "execute_result"
    }
   ],
   "source": [
    "path = '../data/#bresil/data_alimentation/mois_1.json'\n",
    "path = '../data/#test/data_alimentation/evenements.json'\n",
    "\n",
    "\n",
    "\n",
    "f = open(path, 'r',newline = '\\r\\n')\n",
    "liste_ligne = []\n",
    "nombre =0\n",
    "while (True) :\n",
    "    li = f.readline ()\n",
    "    if li == '' :\n",
    "        break\n",
    "    \n",
    "    nombre += 1\n",
    "    liste_ligne.append(li [:-1])\n",
    "\n",
    "nombre"
   ]
  },
  {
   "cell_type": "code",
   "execution_count": 48,
   "id": "appropriate-intersection",
   "metadata": {},
   "outputs": [
    {
     "name": "stdout",
     "output_type": "stream",
     "text": [
      "homme_cadre_sup_0|2021-02-07 11:12:49.743165|222.25|orange|standart|moyen|bargain|orange standart moyen bargain UE|29.08\n"
     ]
    }
   ],
   "source": [
    "li = liste_ligne [0]\n",
    "\n",
    "print (li [:-1])"
   ]
  },
  {
   "cell_type": "code",
   "execution_count": null,
   "id": "lightweight-archives",
   "metadata": {},
   "outputs": [],
   "source": []
  }
 ],
 "metadata": {
  "kernelspec": {
   "display_name": "Python 3",
   "language": "python",
   "name": "python3"
  },
  "language_info": {
   "codemirror_mode": {
    "name": "ipython",
    "version": 3
   },
   "file_extension": ".py",
   "mimetype": "text/x-python",
   "name": "python",
   "nbconvert_exporter": "python",
   "pygments_lexer": "ipython3",
   "version": "3.8.8"
  }
 },
 "nbformat": 4,
 "nbformat_minor": 5
}
