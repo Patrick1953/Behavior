{
 "cells": [
  {
   "cell_type": "code",
   "execution_count": null,
   "id": "another-harvest",
   "metadata": {},
   "outputs": [],
   "source": []
  },
  {
   "cell_type": "code",
   "execution_count": null,
   "id": "varied-stick",
   "metadata": {},
   "outputs": [],
   "source": []
  },
  {
   "cell_type": "code",
   "execution_count": null,
   "id": "stylish-tours",
   "metadata": {},
   "outputs": [],
   "source": []
  },
  {
   "cell_type": "code",
   "execution_count": null,
   "id": "veterinary-yukon",
   "metadata": {},
   "outputs": [],
   "source": []
  },
  {
   "cell_type": "code",
   "execution_count": null,
   "id": "approximate-singing",
   "metadata": {},
   "outputs": [],
   "source": []
  },
  {
   "cell_type": "code",
   "execution_count": 1,
   "id": "third-production",
   "metadata": {},
   "outputs": [],
   "source": [
    "\n",
    "\n"
   ]
  },
  {
   "cell_type": "code",
   "execution_count": 6,
   "id": "developed-ceramic",
   "metadata": {},
   "outputs": [],
   "source": [
    "#%save Ferie.py 1"
   ]
  },
  {
   "cell_type": "code",
   "execution_count": 1,
   "id": "changing-questionnaire",
   "metadata": {},
   "outputs": [],
   "source": [
    "from datetime import datetime\n",
    "from jours_feries_france import JoursFeries\n",
    "from Parametres import Parametres\n",
    "from pprint import PrettyPrinter \n",
    "def P (stuff , pp = PrettyPrinter(indent=4)) :\n",
    "    return pp.pprint(stuff)\n",
    "\n",
    "class Ferie ()  :\n",
    "    # Obtenir les jours fériés pour une année, pour la métropole\n",
    "    #res = JoursFeries.for_year(2018)\n",
    "    # res est un dictionnaire\n",
    "    # {\n",
    "    #     '1er janvier': datetime.date(2018, 1, 1),\n",
    "    #     'Lundi de Pâques': datetime.date(2018, 4, 2),\n",
    "    #     '1er mai': datetime.date(2018, 5, 1),\n",
    "    #     '8 mai': datetime.date(2018, 5, 8),\n",
    "    #     'Ascension': datetime.date(2018, 5, 10),\n",
    "    #     'Lundi de Pentecôte': datetime.date(2018, 5, 21),\n",
    "    #     '14 juillet': datetime.date(2018, 7, 14),\n",
    "    #     'Assomption': datetime.date(2018, 8, 15),\n",
    "    #     'Toussaint': datetime.date(2018, 11, 1),\n",
    "    #     '11 novembre': datetime.date(2018, 11, 11),\n",
    "    #     'Jour de Noël': datetime.date(2018, 12, 25)\n",
    "    # }\n",
    "\n",
    "    # Vous pouvez aussi obtenir certains jours fériés en tant que datetime.date\n",
    "    #print (JoursFeries.lundi_paques(2018))\n",
    "    #print (JoursFeries.ascension(2018))\n",
    "    #print (JoursFeries.lundi_pentecote(2018))\n",
    "\n",
    "    # Obtenir les jours fériés pour une zone spécifique\n",
    "    #res = JoursFeries.for_year(2018, zone=\"Alsace-Moselle\")\n",
    "\n",
    "    # Quelques fonctions d'aide\n",
    "    #JoursFeries.is_bank_holiday(datetime.date(2019, 12, 25), zone=\"Métropole\")\n",
    "    # -> True\n",
    "    #JoursFeries.next_bank_holiday(datetime.date(2019, 12, 24), zone=\"Métropole\")\n",
    "    # -> ('Noël', datetime.date(2019, 12, 25))\n",
    "\n",
    "    def __init__ (self,) :\n",
    "        \n",
    "        self.memoire = {}\n",
    "        \n",
    "        \n",
    "    \n",
    "        \n",
    "    def get_jour_ferie (self, date ) :\n",
    "        \n",
    "        \n",
    "        annee = date.year\n",
    "        date_cherche = str(date.date())\n",
    "        \n",
    "        dico = self.get_info  (annee)\n",
    "        \n",
    "        if date_cherche in dico :\n",
    "            return dico[date_cherche]\n",
    "        else :\n",
    "            return 'non_ferie'\n",
    "        \n",
    "    \n",
    "    \n",
    "    def get_info (self, annee) :\n",
    "        annee_string = str(annee)\n",
    "        if annee_string in self.memoire :\n",
    "            res = self.memoire [annee_string]\n",
    "            #print (annee_string)\n",
    "        else :\n",
    "            res_data = JoursFeries.for_year(annee)\n",
    "            res = self.inverse (res_data)\n",
    "            self.memoire [annee_string] = res\n",
    "            \n",
    "        return res\n",
    "    \n",
    "    def inverse (self, dico ) :\n",
    "        r = {}\n",
    "        for jour_ferie, date in dico.items() :\n",
    "            r [str(date)] = '_'.join([mot.lower () for mot in jour_ferie.split()])\n",
    "        return r\n",
    "    \n",
    "    \n",
    "    \n",
    "            \n",
    "        \n",
    "        \n",
    "        \n",
    "        \n",
    "        \n",
    "        \n",
    "        "
   ]
  },
  {
   "cell_type": "code",
   "execution_count": 3,
   "id": "outside-prince",
   "metadata": {},
   "outputs": [],
   "source": [
    "#%save test_ferie.py 1"
   ]
  },
  {
   "cell_type": "code",
   "execution_count": 1,
   "id": "unauthorized-rings",
   "metadata": {},
   "outputs": [
    {
     "name": "stdout",
     "output_type": "stream",
     "text": [
      "test_ferie OK\n"
     ]
    }
   ],
   "source": [
    "\n",
    "from datetime import datetime\n",
    "from Ferie import Ferie\n",
    "from Entree_sortie_lock import Entree_sortie_lock\n",
    "\n",
    "from pprint import PrettyPrinter \n",
    "def P (stuff , pp = PrettyPrinter(indent=4)) :\n",
    "    return pp.pprint(stuff)\n",
    "\n",
    "def test_ferie () :\n",
    "    \n",
    "    \n",
    "    \n",
    "    \n",
    "\n",
    "    arg_entree_sortie_lock = {} \n",
    "    pathFile = '../data/test/parametres/dico_systeme_2.json'\n",
    "    arg_entree_sortie_lock ['pathFile'] = pathFile\n",
    "    Entree_sortie_systeme = Entree_sortie_lock (arg_entree_sortie_lock)\n",
    "    \n",
    "    dico_systeme = Entree_sortie_systeme.lire_with_lock()\n",
    "    Entree_sortie_systeme.unlock_lire()\n",
    "    \n",
    "    \n",
    "    format_date_standard = dico_systeme ['calcul'] ['format_date_standard']\n",
    "    \n",
    "    \n",
    "    F = Ferie ()\n",
    "    date_string = \"2021-04-27 19:45:00.000000\"\n",
    "    date = datetime.strptime(date_string, format_date_standard)\n",
    "    \n",
    "    \n",
    "    resultat = F.get_jour_ferie ( date)\n",
    "    \n",
    "    assert resultat == 'non_ferie'\n",
    "    \n",
    "    date_string = \"2030-12-25 19:45:00.000000\"\n",
    "    date = datetime.strptime(date_string, format_date_standard)\n",
    "    resultat = F.get_jour_ferie ( date)\n",
    "       \n",
    "    assert resultat == 'jour_de_noël'\n",
    "    \n",
    "    date_string = \"2030-11-11 19:45:00.000000\"\n",
    "    date = datetime.strptime(date_string, format_date_standard)\n",
    "    resultat = F.get_jour_ferie ( date)\n",
    "      \n",
    "    assert resultat == '11_novembre'\n",
    "    \n",
    "    \n",
    "    \n",
    "if __name__ == '__main__' :\n",
    "    test_ferie ()\n",
    "    print ('test_ferie OK') \n"
   ]
  },
  {
   "cell_type": "code",
   "execution_count": 11,
   "id": "approximate-parts",
   "metadata": {},
   "outputs": [
    {
     "data": {
      "text/plain": [
       "True"
      ]
     },
     "execution_count": 11,
     "metadata": {},
     "output_type": "execute_result"
    }
   ],
   "source": [
    "d1 == d1"
   ]
  },
  {
   "cell_type": "code",
   "execution_count": null,
   "id": "joint-connecticut",
   "metadata": {},
   "outputs": [],
   "source": []
  }
 ],
 "metadata": {
  "kernelspec": {
   "display_name": "Patrick",
   "language": "python",
   "name": "patrick"
  },
  "language_info": {
   "codemirror_mode": {
    "name": "ipython",
    "version": 3
   },
   "file_extension": ".py",
   "mimetype": "text/x-python",
   "name": "python",
   "nbconvert_exporter": "python",
   "pygments_lexer": "ipython3",
   "version": "3.9.1"
  }
 },
 "nbformat": 4,
 "nbformat_minor": 5
}
