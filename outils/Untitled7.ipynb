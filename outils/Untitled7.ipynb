{
 "cells": [
  {
   "cell_type": "code",
   "execution_count": null,
   "id": "mobile-library",
   "metadata": {},
   "outputs": [],
   "source": []
  },
  {
   "cell_type": "code",
   "execution_count": 5,
   "id": "elegant-prediction",
   "metadata": {},
   "outputs": [],
   "source": [
    "import threading\n",
    "import time\n",
    "\n",
    "class Lock (object):\n",
    "    def __init__(self, ):\n",
    "        self.lock = threading.Lock()\n",
    "        \n",
    "    def acquire (self):\n",
    "        self.lock.acquire()\n",
    "        \n",
    "    def release (self,) :\n",
    "        self.lock.release()"
   ]
  },
  {
   "cell_type": "code",
   "execution_count": 6,
   "id": "collect-festival",
   "metadata": {},
   "outputs": [
    {
     "ename": "RuntimeError",
     "evalue": "release unlocked lock",
     "output_type": "error",
     "traceback": [
      "\u001b[0;31m---------------------------------------------------------------------------\u001b[0m",
      "\u001b[0;31mRuntimeError\u001b[0m                              Traceback (most recent call last)",
      "\u001b[0;32m<ipython-input-6-c7d3188f7abb>\u001b[0m in \u001b[0;36m<module>\u001b[0;34m\u001b[0m\n\u001b[1;32m      1\u001b[0m \u001b[0mL\u001b[0m \u001b[0;34m=\u001b[0m \u001b[0mLock\u001b[0m\u001b[0;34m(\u001b[0m\u001b[0;34m)\u001b[0m\u001b[0;34m\u001b[0m\u001b[0;34m\u001b[0m\u001b[0m\n\u001b[1;32m      2\u001b[0m \u001b[0;34m\u001b[0m\u001b[0m\n\u001b[0;32m----> 3\u001b[0;31m \u001b[0mL\u001b[0m\u001b[0;34m.\u001b[0m\u001b[0mrelease\u001b[0m \u001b[0;34m(\u001b[0m\u001b[0;34m)\u001b[0m\u001b[0;34m\u001b[0m\u001b[0;34m\u001b[0m\u001b[0m\n\u001b[0m",
      "\u001b[0;32m<ipython-input-5-2a29e42a7cdb>\u001b[0m in \u001b[0;36mrelease\u001b[0;34m(self)\u001b[0m\n\u001b[1;32m     10\u001b[0m \u001b[0;34m\u001b[0m\u001b[0m\n\u001b[1;32m     11\u001b[0m     \u001b[0;32mdef\u001b[0m \u001b[0mrelease\u001b[0m \u001b[0;34m(\u001b[0m\u001b[0mself\u001b[0m\u001b[0;34m,\u001b[0m\u001b[0;34m)\u001b[0m \u001b[0;34m:\u001b[0m\u001b[0;34m\u001b[0m\u001b[0;34m\u001b[0m\u001b[0m\n\u001b[0;32m---> 12\u001b[0;31m         \u001b[0mself\u001b[0m\u001b[0;34m.\u001b[0m\u001b[0mlock\u001b[0m\u001b[0;34m.\u001b[0m\u001b[0mrelease\u001b[0m\u001b[0;34m(\u001b[0m\u001b[0;34m)\u001b[0m\u001b[0;34m\u001b[0m\u001b[0;34m\u001b[0m\u001b[0m\n\u001b[0m",
      "\u001b[0;31mRuntimeError\u001b[0m: release unlocked lock"
     ]
    }
   ],
   "source": [
    "L = Lock()\n",
    "\n",
    "L.release ()"
   ]
  },
  {
   "cell_type": "code",
   "execution_count": 17,
   "id": "standing-substitute",
   "metadata": {},
   "outputs": [],
   "source": [
    "from filelock import Timeout, FileLock, SoftFileLock\n",
    "\n",
    "file_path = \"high_ground1.txt\"\n",
    "lock_path = \"high_ground1.txt.lock\"\n",
    "\n",
    "lock = SoftFileLock(lock_path, timeout=1)\n",
    "\n",
    "with lock:\n",
    "    open(file_path, \"a\").write(\"Hello there!\")\n",
    "\n",
    "lock.acquire()\n",
    "try:\n",
    "    open(file_path, \"a\").write(\"General Kenobi!\")\n",
    "except:\n",
    "    \n",
    "    print ('release')\n",
    "    \n",
    "lock.release ()"
   ]
  },
  {
   "cell_type": "code",
   "execution_count": 18,
   "id": "several-knife",
   "metadata": {},
   "outputs": [],
   "source": [
    "\n",
    "try:\n",
    "    with lock.acquire(timeout=10):\n",
    "        open(file_path, \"a\").write(\"I have a bad feeling about this.\")\n",
    "except Timeout:\n",
    "    print(\"Another instance of this application currently holds the lock.\")"
   ]
  },
  {
   "cell_type": "code",
   "execution_count": 19,
   "id": "based-layer",
   "metadata": {},
   "outputs": [],
   "source": [
    "try:\n",
    "    with lock.acquire(timeout=10):\n",
    "        open(file_path, \"a\").write(\"I have a bad feeling about this.\")\n",
    "except Timeout:\n",
    "    print(\"Another instance of this application currently holds the lock.\")"
   ]
  },
  {
   "cell_type": "code",
   "execution_count": null,
   "id": "current-coating",
   "metadata": {},
   "outputs": [],
   "source": []
  },
  {
   "cell_type": "code",
   "execution_count": 17,
   "id": "accomplished-depth",
   "metadata": {},
   "outputs": [],
   "source": [
    "import os, time\n",
    "\n",
    "class Lock () :\n",
    "    \n",
    "    def __init__ (self,pathLock, time_out = 30) :\n",
    "        \n",
    "        self.time_out = time_out\n",
    "        self.pathLock = pathLock\n",
    "        \n",
    "    def acquire (self, pathLock) :\n",
    "        nombre = 0\n",
    "        while (True) :\n",
    "            if os.path.exists (self.pathLock) :\n",
    "                time.sleep (1)\n",
    "                nombre += 1\n",
    "                if nombre > self.time_out :\n",
    "                    self.release()\n",
    "                    raise ValueError\n",
    "                continue\n",
    "            break\n",
    "        # lock\n",
    "        with open (self.pathLock, 'w') as f:\n",
    "            f.close()\n",
    "        return\n",
    "    \n",
    "    def release (self,):\n",
    "        try :\n",
    "            os.remove (self.pathLock)\n",
    "        except:\n",
    "            pass\n",
    "        return\n",
    "    \n",
    "    def valid_lock(self):\n",
    "        \"\"\"\n",
    "        See if the lock exists and is left over from an old process.\n",
    "        \"\"\"\n",
    "\n",
    "        if not os.path.exists(self.lockfname):\n",
    "            return False\n",
    "        else :\n",
    "            return True\n",
    "        \n",
    "    \n",
    "    \n",
    "    \n",
    "                    \n",
    "                \n",
    "            \n",
    "            \n",
    "            \n",
    "            \n",
    "            \n",
    "        \n",
    "        "
   ]
  },
  {
   "cell_type": "code",
   "execution_count": 13,
   "id": "rotary-parks",
   "metadata": {},
   "outputs": [],
   "source": [
    "L = Lock ()\n",
    "\n",
    "L.acquire ()\n"
   ]
  },
  {
   "cell_type": "code",
   "execution_count": 14,
   "id": "announced-columbus",
   "metadata": {},
   "outputs": [],
   "source": [
    "L.acquire ()"
   ]
  },
  {
   "cell_type": "code",
   "execution_count": 11,
   "id": "about-stage",
   "metadata": {},
   "outputs": [],
   "source": [
    "L.release ()"
   ]
  },
  {
   "cell_type": "code",
   "execution_count": 10,
   "id": "settled-acceptance",
   "metadata": {},
   "outputs": [],
   "source": [
    "L.acquire ()"
   ]
  },
  {
   "cell_type": "code",
   "execution_count": 16,
   "id": "spatial-dover",
   "metadata": {},
   "outputs": [
    {
     "ename": "KeyboardInterrupt",
     "evalue": "",
     "output_type": "error",
     "traceback": [
      "\u001b[0;31m---------------------------------------------------------------------------\u001b[0m",
      "\u001b[0;31mKeyboardInterrupt\u001b[0m                         Traceback (most recent call last)",
      "\u001b[0;32m<ipython-input-16-317ff4e80bf5>\u001b[0m in \u001b[0;36m<module>\u001b[0;34m\u001b[0m\n\u001b[1;32m      4\u001b[0m \u001b[0;32mif\u001b[0m \u001b[0mos\u001b[0m\u001b[0;34m.\u001b[0m\u001b[0mfork\u001b[0m\u001b[0;34m(\u001b[0m\u001b[0;34m)\u001b[0m\u001b[0;34m:\u001b[0m\u001b[0;34m\u001b[0m\u001b[0;34m\u001b[0m\u001b[0m\n\u001b[1;32m      5\u001b[0m     \u001b[0mfcntl\u001b[0m\u001b[0;34m.\u001b[0m\u001b[0mlockf\u001b[0m\u001b[0;34m(\u001b[0m\u001b[0mfd\u001b[0m\u001b[0;34m,\u001b[0m \u001b[0mfcntl\u001b[0m\u001b[0;34m.\u001b[0m\u001b[0mLOCK_EX\u001b[0m\u001b[0;34m)\u001b[0m\u001b[0;34m\u001b[0m\u001b[0;34m\u001b[0m\u001b[0m\n\u001b[0;32m----> 6\u001b[0;31m     \u001b[0mos\u001b[0m\u001b[0;34m.\u001b[0m\u001b[0mwait\u001b[0m\u001b[0;34m(\u001b[0m\u001b[0;34m)\u001b[0m\u001b[0;34m\u001b[0m\u001b[0;34m\u001b[0m\u001b[0m\n\u001b[0m\u001b[1;32m      7\u001b[0m \u001b[0;32melse\u001b[0m\u001b[0;34m:\u001b[0m\u001b[0;34m\u001b[0m\u001b[0;34m\u001b[0m\u001b[0m\n\u001b[1;32m      8\u001b[0m     \u001b[0mtime\u001b[0m\u001b[0;34m.\u001b[0m\u001b[0msleep\u001b[0m\u001b[0;34m(\u001b[0m\u001b[0;36m0.1\u001b[0m\u001b[0;34m)\u001b[0m\u001b[0;34m\u001b[0m\u001b[0;34m\u001b[0m\u001b[0m\n",
      "\u001b[0;31mKeyboardInterrupt\u001b[0m: "
     ]
    }
   ],
   "source": [
    "import fcntl, os, time\n",
    "\n",
    "fd = open('/tmp/test.lock', 'w')\n",
    "if os.fork():\n",
    "    fcntl.lockf(fd, fcntl.LOCK_EX)\n",
    "    os.wait()\n",
    "else:\n",
    "    time.sleep(0.1)\n",
    "    fcntl.lockf(fd, fcntl.LOCK_EX|fcntl.LOCK_NB)"
   ]
  },
  {
   "cell_type": "code",
   "execution_count": null,
   "id": "seventh-basic",
   "metadata": {},
   "outputs": [],
   "source": []
  }
 ],
 "metadata": {
  "kernelspec": {
   "display_name": "Patrick",
   "language": "python",
   "name": "patrick"
  },
  "language_info": {
   "codemirror_mode": {
    "name": "ipython",
    "version": 3
   },
   "file_extension": ".py",
   "mimetype": "text/x-python",
   "name": "python",
   "nbconvert_exporter": "python",
   "pygments_lexer": "ipython3",
   "version": "3.9.1"
  }
 },
 "nbformat": 4,
 "nbformat_minor": 5
}
