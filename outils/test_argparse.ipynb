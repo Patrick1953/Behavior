{
 "cells": [
  {
   "cell_type": "code",
   "execution_count": 14,
   "id": "addressed-patio",
   "metadata": {},
   "outputs": [
    {
     "name": "stdout",
     "output_type": "stream",
     "text": [
      "File `test_argparse.py` exists. Overwrite (y/[N])?  y\n",
      "The following commands were written to file `test_argparse.py`:\n",
      "import argparse\n",
      "parser = argparse.ArgumentParser()\n",
      "parser.add_argument(\"path\", help='executeur de tache')\n",
      "args = parser.parse_args()\n",
      "print (type(args.path))\n",
      "print(args.path)\n"
     ]
    }
   ],
   "source": [
    "%save test_argparse.py 13"
   ]
  },
  {
   "cell_type": "code",
   "execution_count": 13,
   "id": "separate-support",
   "metadata": {},
   "outputs": [
    {
     "name": "stderr",
     "output_type": "stream",
     "text": [
      "usage: ipykernel_launcher.py [-h] path\n",
      "ipykernel_launcher.py: error: unrecognized arguments: -f\n"
     ]
    },
    {
     "ename": "SystemExit",
     "evalue": "2",
     "output_type": "error",
     "traceback": [
      "An exception has occurred, use %tb to see the full traceback.\n",
      "\u001b[0;31mSystemExit\u001b[0m\u001b[0;31m:\u001b[0m 2\n"
     ]
    },
    {
     "name": "stderr",
     "output_type": "stream",
     "text": [
      "/home/patrick/anaconda3/envs/patrick/lib/python3.9/site-packages/IPython/core/interactiveshell.py:3435: UserWarning: To exit: use 'exit', 'quit', or Ctrl-D.\n",
      "  warn(\"To exit: use 'exit', 'quit', or Ctrl-D.\", stacklevel=1)\n"
     ]
    }
   ],
   "source": [
    "import argparse\n",
    "parser = argparse.ArgumentParser()\n",
    "parser.add_argument(\"path\", help='executeur de tache')\n",
    "args = parser.parse_args()\n",
    "print (type(args.path))\n",
    "print(args.path)\n"
   ]
  },
  {
   "cell_type": "code",
   "execution_count": null,
   "id": "cordless-plane",
   "metadata": {},
   "outputs": [],
   "source": []
  },
  {
   "cell_type": "code",
   "execution_count": 16,
   "id": "aerial-panama",
   "metadata": {},
   "outputs": [
    {
     "name": "stdout",
     "output_type": "stream",
     "text": [
      "<class 'str'>\n",
      "monPath\n",
      "fin\n"
     ]
    }
   ],
   "source": [
    "import subprocess\n",
    "bashCommand = \"python test_argparse.py monPath\"\n",
    "process = subprocess.Popen(bashCommand.split(), stdout=subprocess.PIPE)\n",
    "output, error = process.communicate()\n",
    "\n",
    "print (output.decode('utf-8')[:-1])\n",
    "print ('fin')"
   ]
  },
  {
   "cell_type": "code",
   "execution_count": null,
   "id": "municipal-value",
   "metadata": {},
   "outputs": [],
   "source": []
  }
 ],
 "metadata": {
  "kernelspec": {
   "display_name": "Python 3",
   "language": "python",
   "name": "python3"
  },
  "language_info": {
   "codemirror_mode": {
    "name": "ipython",
    "version": 3
   },
   "file_extension": ".py",
   "mimetype": "text/x-python",
   "name": "python",
   "nbconvert_exporter": "python",
   "pygments_lexer": "ipython3",
   "version": "3.9.1"
  }
 },
 "nbformat": 4,
 "nbformat_minor": 5
}
