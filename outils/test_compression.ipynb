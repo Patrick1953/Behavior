{
 "cells": [
  {
   "cell_type": "code",
   "execution_count": null,
   "metadata": {},
   "outputs": [],
   "source": [
    "\"\"\"\n",
    "bz2\n",
    "ratio  4.70196191575303\n",
    "taille compresse 10398  taille non compresse = 48891\n",
    "temps pour 1000 = 2.662184476852417\n",
    "\n",
    "lzma\n",
    "ratio  18.215722801788374\n",
    "taille compresse 2684  taille non compresse = 48891\n",
    "temps pour 1000 = 7.112772703170776\n",
    "\n",
    "gzip\n",
    "ratio  2.2018013960819633\n",
    "taille compresse 22205  taille non compresse = 48891\n",
    "temps pour 1000 = 1.5478861331939697 \n",
    "\n",
    "########  on choisit bz2 (compromis temps et compression )\n",
    "mais on rend optionnel la compression dans kernel (a voir les resultats en réel)\n",
    "\n",
    "\"\"\"\n",
    "pass"
   ]
  },
  {
   "cell_type": "code",
   "execution_count": null,
   "metadata": {},
   "outputs": [],
   "source": [
    "import bz2 as z # compress mieux et plus rapide rapport de 20\n",
    "#import lzma as z # mauvais\n",
    "import time\n",
    "data = b\"\"\"Donec rhoncus quis sapien sit amet molestie. Fusce scelerisque vel augue\n",
    "\n",
    "nec ullamcorper. Nam rutrum pretium placerat. Aliquam vel tristique lorem,\n",
    "\n",
    "sit amet cursus ante. In interdum laoreet mi, sit amet ultrices purus\n",
    "\n",
    "pulvinar a. Nam gravida euismod magna, non varius justo tincidunt feugiat.\n",
    "\n",
    "Aliquam pharetra lacus non risus vehicula rutrum. Maecenas aliquam leo\n",
    "\n",
    "felis. Pellentesque semper nunc sit amet nibh ullamcorper, ac elementum\n",
    "\n",
    "dolor luctus. Curabitur lacinia mi ornare consectetur vestibulum.\"\"\"\n",
    "\n",
    "c = z.compress(data)\n",
    "\n",
    "print (len(data) / len(c) ) # Data compression ratio\n",
    "\n",
    "\n",
    "\n",
    "t = time.time()\n",
    "for i in range (0,1000) :\n",
    "    c = z.compress(data)\n",
    "    d = z.decompress(c)\n",
    "    continue\n",
    "print (time.time () - t)\n",
    "\n",
    "data == d"
   ]
  },
  {
   "cell_type": "code",
   "execution_count": 1,
   "metadata": {},
   "outputs": [
    {
     "name": "stdout",
     "output_type": "stream",
     "text": [
      "OK True\n",
      "ratio  4.247816593886463\n",
      "taille compresse 916  taille non compresse = 3891\n",
      "temps pour 1000 = 0.26616787910461426\n"
     ]
    },
    {
     "data": {
      "text/plain": [
       "True"
      ]
     },
     "execution_count": 1,
     "metadata": {},
     "output_type": "execute_result"
    }
   ],
   "source": [
    "import bz2 as z # compress mieux et plus rapide rapport de 20\n",
    "#import lzma as z\n",
    "#import gzip as z\n",
    "import json, time\n",
    "\n",
    "l = [i for i in range (0,1000)]\n",
    "\n",
    "data = json.dumps(l, separators=(',', ':')).encode()\n",
    "#data = json.dumps(l, ).encode()\n",
    "\n",
    "c = z.compress(data)\n",
    "d = z.decompress(c)\n",
    "\n",
    "print (\"OK\", d == data)\n",
    "print (\"ratio \",len(data) / len(c) ) # Data compression ratio\n",
    "print (\"taille compresse\",len(c), \" taille non compresse =\", len(data))\n",
    "\n",
    "\n",
    "t = time.time()\n",
    "for i in range (0,1000) :\n",
    "    c = z.compress(data, )\n",
    "    d = z.decompress(c)\n",
    "    continue\n",
    "print (\"temps pour 1000 =\",time.time () - t)\n",
    "\n",
    "data == d\n"
   ]
  },
  {
   "cell_type": "code",
   "execution_count": null,
   "metadata": {},
   "outputs": [],
   "source": []
  }
 ],
 "metadata": {
  "kernelspec": {
   "display_name": "Python 3",
   "language": "python",
   "name": "python3"
  },
  "language_info": {
   "codemirror_mode": {
    "name": "ipython",
    "version": 3
   },
   "file_extension": ".py",
   "mimetype": "text/x-python",
   "name": "python",
   "nbconvert_exporter": "python",
   "pygments_lexer": "ipython3",
   "version": "3.8.5"
  }
 },
 "nbformat": 4,
 "nbformat_minor": 4
}
