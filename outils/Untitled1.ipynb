{
 "cells": [
  {
   "cell_type": "code",
   "execution_count": 1,
   "id": "adjustable-atmosphere",
   "metadata": {},
   "outputs": [],
   "source": [
    "import persistqueue\n",
    "q = persistqueue.UniqueQ('mypath20')"
   ]
  },
  {
   "cell_type": "code",
   "execution_count": null,
   "id": "permanent-fellow",
   "metadata": {},
   "outputs": [],
   "source": []
  },
  {
   "cell_type": "code",
   "execution_count": 2,
   "id": "electoral-mississippi",
   "metadata": {},
   "outputs": [
    {
     "name": "stdout",
     "output_type": "stream",
     "text": [
      "a\n"
     ]
    }
   ],
   "source": [
    "\n",
    "print(q.get())\n",
    "\n",
    "q.task_done()"
   ]
  },
  {
   "cell_type": "code",
   "execution_count": 3,
   "id": "involved-hebrew",
   "metadata": {},
   "outputs": [
    {
     "name": "stdout",
     "output_type": "stream",
     "text": [
      "b\n"
     ]
    }
   ],
   "source": [
    "\n",
    "print(q.get())\n",
    "\n",
    "q.task_done()"
   ]
  },
  {
   "cell_type": "code",
   "execution_count": null,
   "id": "objective-mapping",
   "metadata": {},
   "outputs": [],
   "source": [
    "\n"
   ]
  },
  {
   "cell_type": "code",
   "execution_count": 4,
   "id": "interracial-clerk",
   "metadata": {},
   "outputs": [
    {
     "name": "stdout",
     "output_type": "stream",
     "text": [
      "c is done  False\n"
     ]
    }
   ],
   "source": [
    "\n",
    "r = q.get()\n",
    "\n",
    "print (r, 'is done ', r is None)\n",
    "\n",
    "\n",
    "q.task_done()"
   ]
  },
  {
   "cell_type": "code",
   "execution_count": 5,
   "id": "confident-browse",
   "metadata": {},
   "outputs": [
    {
     "name": "stdout",
     "output_type": "stream",
     "text": [
      "a is done  False\n"
     ]
    }
   ],
   "source": [
    "r = q.get()\n",
    "\n",
    "print (r, 'is done ', r is None)\n",
    "\n",
    "\n",
    "q.task_done()"
   ]
  },
  {
   "cell_type": "code",
   "execution_count": 6,
   "id": "three-leisure",
   "metadata": {},
   "outputs": [
    {
     "name": "stdout",
     "output_type": "stream",
     "text": [
      "b is done  False\n"
     ]
    }
   ],
   "source": [
    "r = q.get()\n",
    "\n",
    "print (r, 'is done ', r is None)\n"
   ]
  },
  {
   "cell_type": "code",
   "execution_count": 7,
   "id": "retained-selection",
   "metadata": {},
   "outputs": [
    {
     "name": "stdout",
     "output_type": "stream",
     "text": [
      "c is done  False\n"
     ]
    }
   ],
   "source": [
    "r = q.get()\n",
    "\n",
    "print (r, 'is done ', r is None)"
   ]
  },
  {
   "cell_type": "code",
   "execution_count": 10,
   "id": "musical-victory",
   "metadata": {},
   "outputs": [
    {
     "name": "stdout",
     "output_type": "stream",
     "text": [
      "c is done  False\n"
     ]
    }
   ],
   "source": [
    "r = q.get()\n",
    "\n",
    "print (r, 'is done ', r is None)"
   ]
  },
  {
   "cell_type": "code",
   "execution_count": null,
   "id": "continuous-austria",
   "metadata": {},
   "outputs": [],
   "source": []
  }
 ],
 "metadata": {
  "kernelspec": {
   "display_name": "Python 3",
   "language": "python",
   "name": "python3"
  },
  "language_info": {
   "codemirror_mode": {
    "name": "ipython",
    "version": 3
   },
   "file_extension": ".py",
   "mimetype": "text/x-python",
   "name": "python",
   "nbconvert_exporter": "python",
   "pygments_lexer": "ipython3",
   "version": "3.9.1"
  }
 },
 "nbformat": 4,
 "nbformat_minor": 5
}
