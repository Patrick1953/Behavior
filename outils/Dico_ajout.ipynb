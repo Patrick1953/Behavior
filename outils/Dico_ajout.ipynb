{
 "cells": [
  {
   "cell_type": "code",
   "execution_count": 3,
   "id": "stable-consultation",
   "metadata": {},
   "outputs": [],
   "source": [
    "#%save Dico_ajout.py 1\n",
    "\n"
   ]
  },
  {
   "cell_type": "code",
   "execution_count": 1,
   "id": "structural-farmer",
   "metadata": {},
   "outputs": [],
   "source": [
    "\n",
    "\n",
    "class Dico_ajout () :\n",
    "    def __init__ (self, parametres) :\n",
    "        \n",
    "        self.parametres = parametres\n",
    "        return\n",
    "    \n",
    "    def get_dico_ajout (self) :\n",
    "        try :\n",
    "            return self.parametres ['dico_ajout']\n",
    "        except:\n",
    "            return {}\n",
    "    def put_ajout (self, ajout) :\n",
    "        \n",
    "        dico_ajout = self.get_dico_ajout ()\n",
    "        if len(dico_ajout) == 0 :\n",
    "            numero = 0\n",
    "        else:\n",
    "            liste_ajout = [nom_ajout for nom_ajout in dico_ajout.keys()]\n",
    "            liste_ajout.sort()\n",
    "            dernier_ajout = liste_ajout [len(liste_ajout) - 1]\n",
    "            \n",
    "            _ , numero = dernier_ajout.split ('_')\n",
    "            numero = int(numero) + 1\n",
    "            \n",
    "                   \n",
    "        numero_string = (\"0000000000000000000\"+str(numero) ) [-10:] \n",
    "        name_ajout = \"ajout_\" + numero_string\n",
    "        dico_ajout [name_ajout] = ajout\n",
    "        self.parametres ['dico_ajout'] = dico_ajout\n",
    "               \n",
    "        return\n",
    "    \n",
    "    def __getitem__ (self,cle) :\n",
    "        return self.parametres [cle]\n",
    "    \n",
    "    def __setitem__ (self,cle, val) :\n",
    "        self.parametres [cle] = val\n",
    "        return\n",
    "    \n",
    "    def save (self) :\n",
    "        self.parametres.save()\n",
    "        return\n",
    "    \n",
    "    \n",
    "    \n",
    "        \n",
    "    \n",
    "    \n",
    "    \n",
    "    \n",
    "   "
   ]
  },
  {
   "cell_type": "code",
   "execution_count": 6,
   "id": "strange-department",
   "metadata": {},
   "outputs": [],
   "source": [
    "#%save test_dico_ajout.py 4"
   ]
  },
  {
   "cell_type": "code",
   "execution_count": 1,
   "id": "earlier-spare",
   "metadata": {},
   "outputs": [
    {
     "name": "stdout",
     "output_type": "stream",
     "text": [
      "fin test Dico_ajout\n"
     ]
    }
   ],
   "source": [
    "from Dico_ajout import Dico_ajout\n",
    "\n",
    "def test_dico_ajout ():\n",
    "    \n",
    "    dico_test = {}\n",
    "    dico_ajout = Dico_ajout (dico_test) \n",
    "    ajout_test = {'test' : 'test'}\n",
    "    dico_ajout.put_ajout (ajout_test)\n",
    "    resultat = dico_ajout ['dico_ajout']\n",
    "    voulu = {'ajout_0000000000': {'test': 'test'}}\n",
    "    assert voulu == resultat\n",
    "    ajout_test = {'test' : 'test'}\n",
    "    dico_ajout.put_ajout (ajout_test)\n",
    "    resultat = dico_ajout ['dico_ajout']\n",
    "    voulu = {'ajout_0000000000': {'test': 'test'}, 'ajout_0000000001': {'test': 'test'}}\n",
    "    assert voulu == resultat\n",
    "    dico_ajout ['test'] = 'test'\n",
    "    resultat = dico_ajout ['test']\n",
    "    voulu = 'test'\n",
    "    assert voulu == resultat\n",
    "    \n",
    "    \n",
    "    \n",
    "if __name__ == '__main__' :\n",
    "    test_dico_ajout ()\n",
    "    print ('fin test Dico_ajout')\n",
    "    \n",
    "    \n",
    "\n"
   ]
  },
  {
   "cell_type": "code",
   "execution_count": null,
   "id": "spatial-preview",
   "metadata": {},
   "outputs": [],
   "source": []
  }
 ],
 "metadata": {
  "kernelspec": {
   "display_name": "Python 3",
   "language": "python",
   "name": "python3"
  },
  "language_info": {
   "codemirror_mode": {
    "name": "ipython",
    "version": 3
   },
   "file_extension": ".py",
   "mimetype": "text/x-python",
   "name": "python",
   "nbconvert_exporter": "python",
   "pygments_lexer": "ipython3",
   "version": "3.9.1"
  }
 },
 "nbformat": 4,
 "nbformat_minor": 5
}
