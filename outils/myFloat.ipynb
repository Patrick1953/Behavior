{
 "cells": [
  {
   "cell_type": "code",
   "execution_count": 3,
   "id": "latter-commercial",
   "metadata": {},
   "outputs": [],
   "source": [
    "#%save myFloat.py 1"
   ]
  },
  {
   "cell_type": "code",
   "execution_count": 1,
   "id": "enclosed-owner",
   "metadata": {},
   "outputs": [],
   "source": [
    "import locale\n",
    "import sys\n",
    "path = \"../outils\"\n",
    "if path not in sys.path :\n",
    "    sys.path.append (path)\n",
    "\n",
    "from Parametres import Parametres\n",
    "\n",
    "class myFloat () :\n",
    "    def __init__ (self, dico_systeme):\n",
    "        \n",
    "        \n",
    "        dico = Parametres (dico_systeme, listeData = ['calcul'])\n",
    "        self.formatStandard = dico ['format_float_standard']\n",
    "        return\n",
    "    \n",
    "    def convert_float (self, val, formatEntree) :\n",
    "        \"\"\"\n",
    "        Parse a string to a floating point number. Uses locale.atof(),\n",
    "        in future with ICU present will use icu.NumberFormat.parse().\n",
    "        \"\"\"\n",
    "        try:\n",
    "            return locale.atof(val)\n",
    "        except ValueError:\n",
    "            point = locale.localeconv()['decimal_point']\n",
    "            sep = locale.localeconv()['thousands_sep']\n",
    "\n",
    "            if point == ',':\n",
    "                return locale.atof(val.replace(' ', sep).replace('.', sep))\n",
    "            elif point == '.':\n",
    "                return locale.atof(val.replace(' ', sep).replace(',', sep))\n",
    "            else:\n",
    "                raise ValueError\n",
    "        \n",
    "        return\n",
    "    \n",
    "    \n",
    "    def test_float(self, val, formatEntree):\n",
    "        try:\n",
    "            self.convert_float ( val, formatEntree)\n",
    "            return True\n",
    "        except:\n",
    "            return False\n",
    "        \n",
    "            \n",
    "        \n",
    "            \n",
    "                "
   ]
  },
  {
   "cell_type": "code",
   "execution_count": null,
   "id": "intellectual-armstrong",
   "metadata": {},
   "outputs": [],
   "source": [
    "\n"
   ]
  },
  {
   "cell_type": "code",
   "execution_count": 5,
   "id": "restricted-steering",
   "metadata": {},
   "outputs": [],
   "source": [
    "#%save test_myFloat.py 3"
   ]
  },
  {
   "cell_type": "code",
   "execution_count": 3,
   "id": "previous-athletics",
   "metadata": {},
   "outputs": [
    {
     "name": "stdout",
     "output_type": "stream",
     "text": [
      "fin test float\n"
     ]
    }
   ],
   "source": [
    "import json\n",
    "from myFloat import myFloat\n",
    "\n",
    "def test_myFloat ():\n",
    "    \n",
    "    def lire_file (pathFile) :\n",
    "        f = open (pathFile, 'r')\n",
    "        data = f.read()\n",
    "        return json.loads (data)\n",
    "    \n",
    "    pathSysteme = '../data/test/parametres/dico_systeme_2.json'\n",
    "    dico_systeme = lire_file (pathSysteme)\n",
    "    D = myFloat(dico_systeme)\n",
    "    \n",
    "    F = \"12 234.456\"\n",
    "    assert D.test_float (F, 'standard' )\n",
    "    \n",
    "    resultat = D.convert_float (F,  'standard')\n",
    "    assert (resultat ==  12234.456)\n",
    "    return\n",
    "    \n",
    "    \n",
    "if __name__ == '__main__' :\n",
    "    test_myFloat ()\n",
    "    print ('fin test float')    "
   ]
  },
  {
   "cell_type": "code",
   "execution_count": null,
   "id": "ordered-scope",
   "metadata": {},
   "outputs": [],
   "source": []
  }
 ],
 "metadata": {
  "kernelspec": {
   "display_name": "Python 3",
   "language": "python",
   "name": "python3"
  },
  "language_info": {
   "codemirror_mode": {
    "name": "ipython",
    "version": 3
   },
   "file_extension": ".py",
   "mimetype": "text/x-python",
   "name": "python",
   "nbconvert_exporter": "python",
   "pygments_lexer": "ipython3",
   "version": "3.8.8"
  }
 },
 "nbformat": 4,
 "nbformat_minor": 5
}
