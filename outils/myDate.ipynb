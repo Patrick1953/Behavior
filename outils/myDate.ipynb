{
 "cells": [
  {
   "cell_type": "code",
   "execution_count": 3,
   "id": "sapphire-description",
   "metadata": {},
   "outputs": [],
   "source": [
    "#%save myDate.py 1"
   ]
  },
  {
   "cell_type": "code",
   "execution_count": 15,
   "id": "resistant-fitting",
   "metadata": {},
   "outputs": [],
   "source": [
    "from datetime import datetime\n",
    "import sys\n",
    "path = \"../outils\"\n",
    "if path not in sys.path :\n",
    "    sys.path.append (path)\n",
    "\n",
    "from Parametres import Parametres\n",
    "\n",
    "\n",
    "\n",
    "\n",
    "class myDate () :\n",
    "    def __init__ (self,dico_systeme ) :\n",
    "        \n",
    "        dico = Parametres (dico_systeme, listeData = ['calcul'])\n",
    "        self.formatStandard = dico ['format_date_standard']\n",
    "        \n",
    "        return\n",
    "    \n",
    "    def test_date (self, val, formatEntree) :\n",
    "        if formatEntree == 'standard' :\n",
    "            formatEntree = self.formatStandard\n",
    "        \n",
    "        try:\n",
    "            datetime.strptime (val, formatEntree)\n",
    "            return True\n",
    "        except:\n",
    "            \n",
    "            return False\n",
    "        \n",
    "        return\n",
    "    \n",
    "    def convert_date (self,val , formatEntree  ) :\n",
    "        if formatEntree == 'standard' :\n",
    "            return val\n",
    "        val = datetime.strptime (val, formatEntree)\n",
    "        r = datetime.strftime (val, self.formatStandard )\n",
    "        return  r\n",
    "    \n",
    "    \n",
    "    \n",
    "        \n",
    "        \n",
    "        \n",
    "        \n",
    "    \n",
    "        "
   ]
  },
  {
   "cell_type": "code",
   "execution_count": null,
   "id": "rocky-demographic",
   "metadata": {},
   "outputs": [],
   "source": []
  },
  {
   "cell_type": "code",
   "execution_count": 3,
   "id": "bearing-script",
   "metadata": {},
   "outputs": [],
   "source": [
    "#%save test_myDate.py 1"
   ]
  },
  {
   "cell_type": "code",
   "execution_count": 1,
   "id": "aboriginal-identification",
   "metadata": {},
   "outputs": [
    {
     "name": "stdout",
     "output_type": "stream",
     "text": [
      "fin test date\n"
     ]
    }
   ],
   "source": [
    "import json\n",
    "from datetime import datetime\n",
    "\n",
    "from myDate import myDate\n",
    "\n",
    "def test_myDate ():\n",
    "    def lire_file (pathFile) :\n",
    "        f = open (pathFile, 'r')\n",
    "        data = f.read()\n",
    "        return json.loads (data)\n",
    "    \n",
    "    pathSysteme = '../data/test/parametres/dico_systeme_2.json'\n",
    "    dico_systeme = lire_file (pathSysteme)\n",
    "    \n",
    "    D = myDate (dico_systeme)\n",
    "    now = str(datetime.now())\n",
    "    \n",
    "    assert D.test_date(now, 'standard' )\n",
    "    \n",
    "    resultat = D.convert_date (now,  'standard')\n",
    "    assert (resultat == now)\n",
    "    \n",
    "    d = '2021-02-07 11:12:49.743165'\n",
    "    assert D.test_date (d, 'standard' )\n",
    "    d = '2021-02-03 05:08:46.297688'\n",
    "    assert D.test_date (d, 'standard' )\n",
    "    assert D.convert_date (d,  'standard') == d\n",
    "    \n",
    "    \n",
    "    format_entree = '%Y-%m-%d %H:%M:%S'\n",
    "    d = '2021-02-07 11:12:49'\n",
    "    assert D.test_date (d, format_entree )\n",
    "    d = '2021-02-03 05:08:46'\n",
    "    assert D.test_date (d, format_entree )\n",
    "    assert D.convert_date (d,  format_entree) == '2021-02-03 05:08:46.000000'\n",
    "    \n",
    "    return\n",
    "    \n",
    "    \n",
    "if __name__ == '__main__' :\n",
    "    test_myDate ()\n",
    "    print ('fin test date')    \n",
    " "
   ]
  },
  {
   "cell_type": "code",
   "execution_count": 11,
   "id": "theoretical-armor",
   "metadata": {},
   "outputs": [
    {
     "data": {
      "text/plain": [
       "datetime.datetime(2021, 2, 3, 5, 8, 46)"
      ]
     },
     "execution_count": 11,
     "metadata": {},
     "output_type": "execute_result"
    }
   ],
   "source": [
    "from datetime import datetime\n",
    "formatEntree = '%Y-%m-%d %H:%M:%S'\n",
    "val = '2021-02-03 05:08:46'\n",
    "datetime.strptime (val, formatEntree)"
   ]
  },
  {
   "cell_type": "code",
   "execution_count": null,
   "id": "indoor-catholic",
   "metadata": {},
   "outputs": [],
   "source": []
  },
  {
   "cell_type": "code",
   "execution_count": null,
   "id": "closed-riverside",
   "metadata": {},
   "outputs": [],
   "source": []
  },
  {
   "cell_type": "code",
   "execution_count": null,
   "id": "monetary-consistency",
   "metadata": {},
   "outputs": [],
   "source": []
  },
  {
   "cell_type": "code",
   "execution_count": null,
   "id": "proved-hurricane",
   "metadata": {},
   "outputs": [],
   "source": [
    "\n"
   ]
  },
  {
   "cell_type": "code",
   "execution_count": null,
   "id": "complete-charger",
   "metadata": {},
   "outputs": [],
   "source": []
  },
  {
   "cell_type": "code",
   "execution_count": null,
   "id": "cordless-regression",
   "metadata": {},
   "outputs": [],
   "source": []
  }
 ],
 "metadata": {
  "kernelspec": {
   "display_name": "Python 3",
   "language": "python",
   "name": "python3"
  },
  "language_info": {
   "codemirror_mode": {
    "name": "ipython",
    "version": 3
   },
   "file_extension": ".py",
   "mimetype": "text/x-python",
   "name": "python",
   "nbconvert_exporter": "python",
   "pygments_lexer": "ipython3",
   "version": "3.8.8"
  }
 },
 "nbformat": 4,
 "nbformat_minor": 5
}
