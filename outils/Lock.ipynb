{
 "cells": [
  {
   "cell_type": "code",
   "execution_count": 3,
   "id": "durable-latvia",
   "metadata": {},
   "outputs": [],
   "source": [
    "#%save Lock.py 1"
   ]
  },
  {
   "cell_type": "code",
   "execution_count": 1,
   "id": "major-thompson",
   "metadata": {},
   "outputs": [],
   "source": [
    "import os, time\n",
    "\n",
    "class LockTimeError(Exception): pass\n",
    "\n",
    "class Lock () :\n",
    "    \n",
    "    def __init__ (self, pathLock, time_out) :\n",
    "        \n",
    "        self.time_out = time_out\n",
    "        self.pathLock = pathLock\n",
    "        \n",
    "        \n",
    "    def acquire (self, ) :\n",
    "        nombre = 0\n",
    "        while (os.path.exists (self.pathLock)) :\n",
    "            time.sleep (1)\n",
    "            nombre += 1\n",
    "            if nombre > self.time_out :\n",
    "                self.release()\n",
    "                raise LockTimeError ()\n",
    "            continue\n",
    "        \n",
    "        with open(self.pathLock, 'w') as f :\n",
    "            f.close ()\n",
    "        return\n",
    "    \n",
    "    def release (self,):\n",
    "        try :\n",
    "            os.remove (self.pathLock)\n",
    "        except:\n",
    "            pass\n",
    "        return\n",
    "    \n",
    "    def is_locked (self):\n",
    "        \n",
    "        if not os.path.exists(self.pathLock):\n",
    "            return False\n",
    "        else :\n",
    "            return True\n"
   ]
  },
  {
   "cell_type": "code",
   "execution_count": 3,
   "id": "level-correspondence",
   "metadata": {},
   "outputs": [],
   "source": [
    "#%save test_lock.py 1"
   ]
  },
  {
   "cell_type": "code",
   "execution_count": 1,
   "id": "official-steam",
   "metadata": {},
   "outputs": [
    {
     "name": "stdout",
     "output_type": "stream",
     "text": [
      "fin test_lock \n"
     ]
    }
   ],
   "source": [
    "import time\n",
    "from Lock import Lock\n",
    "\n",
    "def test_lock () :\n",
    "    pathLock = 'test_lock.lock'\n",
    "    time_out = 30\n",
    "    L = Lock(pathLock,time_out)\n",
    "    \n",
    "    L.acquire ()\n",
    "    \n",
    "    resultat = L.is_locked()\n",
    "    \n",
    "    assert resultat == True\n",
    "    \n",
    "    L.release ()\n",
    "    resultat = L.is_locked()\n",
    "    \n",
    "    assert resultat == False\n",
    "    \n",
    "    L.acquire ()\n",
    "    \n",
    "    t = time.time ()\n",
    "    \n",
    "    try:\n",
    "        L.acquire ()\n",
    "    except:\n",
    "        L.release ()\n",
    "    \n",
    "    delaie = time.time () - t\n",
    "    assert delaie >= 30\n",
    "    \n",
    "\n",
    "        \n",
    "    \n",
    "    \n",
    "if __name__ == '__main__' :\n",
    "    test_lock ()\n",
    "    print ('fin test_lock ')       \n",
    "    \n",
    "    \n",
    "    \n",
    "    "
   ]
  },
  {
   "cell_type": "code",
   "execution_count": 14,
   "id": "protective-compromise",
   "metadata": {},
   "outputs": [],
   "source": []
  },
  {
   "cell_type": "code",
   "execution_count": 15,
   "id": "chinese-thanksgiving",
   "metadata": {},
   "outputs": [],
   "source": []
  },
  {
   "cell_type": "code",
   "execution_count": null,
   "id": "suspected-foundation",
   "metadata": {},
   "outputs": [],
   "source": []
  }
 ],
 "metadata": {
  "kernelspec": {
   "display_name": "Patrick",
   "language": "python",
   "name": "patrick"
  },
  "language_info": {
   "codemirror_mode": {
    "name": "ipython",
    "version": 3
   },
   "file_extension": ".py",
   "mimetype": "text/x-python",
   "name": "python",
   "nbconvert_exporter": "python",
   "pygments_lexer": "ipython3",
   "version": "3.9.1"
  }
 },
 "nbformat": 4,
 "nbformat_minor": 5
}
