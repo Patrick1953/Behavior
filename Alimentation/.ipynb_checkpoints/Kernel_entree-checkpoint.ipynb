{
 "cells": [
  {
   "cell_type": "code",
   "execution_count": 1,
   "id": "characteristic-blond",
   "metadata": {},
   "outputs": [],
   "source": [
    "#%save Kernel_entree.py 2"
   ]
  },
  {
   "cell_type": "code",
   "execution_count": 1,
   "id": "indoor-chemistry",
   "metadata": {},
   "outputs": [],
   "source": [
    "import sys\n",
    "\n",
    "path = \"../outils\"\n",
    "if path not in sys.path :\n",
    "    sys.path.append (path)\n",
    "    \n",
    "from Entree_fichier import Entree_fichier\n",
    "\n",
    "class Kernel_entree () :\n",
    "    \"\"\"\n",
    "    fournit le lecteur d'entree\n",
    "    \"\"\"\n",
    "    \n",
    "    def __init__ (self, arg) :\n",
    "        \n",
    "        \"\"\"\n",
    "        arg : \n",
    "        {'parametres_lecture' : {'path_fichier' : '../data/alimentation/evenements.txt',\n",
    "                                                    'separateur' : \"|\", },\n",
    "        'parametres_execution' : {'type_lecteur' : 'fichier',},\n",
    "                                },\n",
    "        \n",
    "        \"\"\"\n",
    "        \n",
    "        \n",
    "        \n",
    "        \n",
    "        class_lecteurs = {'fichier' : Entree_fichier ,}\n",
    "        \n",
    "        \n",
    "        parametres_execution = arg  ['parametres_execution']\n",
    "        type_lecteur = parametres_execution ['type_lecteur']\n",
    "                \n",
    "        class_lecteur = class_lecteurs  [type_lecteur]\n",
    "        \n",
    "        self.lecteur = class_lecteur (arg)\n",
    "        \n",
    "    def init_lecture (self,) :\n",
    "        self.lecteur.init_lecture ()\n",
    "        \n",
    "    def readIterator (self,) :\n",
    "        return self.lecteur.readIterator ()\n",
    "        \n",
    "    def close (self,) :\n",
    "        self.lecteur.close()\n",
    "        \n",
    "\n",
    "        \n",
    "        \n",
    "        \n",
    "        \n",
    "        \n",
    "        \n",
    "        \n",
    "        \n",
    "        \n"
   ]
  },
  {
   "cell_type": "code",
   "execution_count": 2,
   "id": "musical-conservative",
   "metadata": {},
   "outputs": [],
   "source": [
    "#%save test_kernel_entree.py 1"
   ]
  },
  {
   "cell_type": "code",
   "execution_count": 1,
   "id": "compound-headline",
   "metadata": {},
   "outputs": [
    {
     "name": "stdout",
     "output_type": "stream",
     "text": [
      "fin test_kernel_entree \n"
     ]
    }
   ],
   "source": [
    "import json\n",
    "from pprint import PrettyPrinter \n",
    "def P (stuff , pp = PrettyPrinter(indent=4)) :\n",
    "    return pp.pprint(stuff)\n",
    "\n",
    "from Kernel_entree import Kernel_entree\n",
    "\n",
    "def  test_kernel_entree () :\n",
    "    def lire_file (pathFile) :\n",
    "        f = open (pathFile, 'r')\n",
    "        data = f.read()\n",
    "        return json.loads (data)\n",
    "    \n",
    "    pathEvenements = '../data/#test/parametres/dico_evenements_2.json'\n",
    "    dico_systeme = lire_file (pathEvenements)\n",
    "           \n",
    "    arg_kernel_fichier = dico_systeme  ['environnement']['parametres_lecture']\n",
    "    arg_kernel_fichier ['nom_fichier'] = 'evenements.csv'\n",
    "    \n",
    "    E = Kernel_entree (arg_kernel_fichier)\n",
    "    \n",
    "    E.init_lecture ()\n",
    "    \n",
    "    numero = 0\n",
    "    for data in E.readIterator () :\n",
    "        numero += 1\n",
    "        continue\n",
    "    E.close ()   \n",
    "    assert numero == 192\n",
    "    \n",
    "    return\n",
    "\n",
    "        \n",
    "    \n",
    "if __name__ == '__main__' :\n",
    "    test_kernel_entree ()\n",
    "    print ('fin test_kernel_entree ')    "
   ]
  },
  {
   "cell_type": "code",
   "execution_count": null,
   "id": "acoustic-leave",
   "metadata": {},
   "outputs": [],
   "source": []
  }
 ],
 "metadata": {
  "kernelspec": {
   "display_name": "Python 3",
   "language": "python",
   "name": "python3"
  },
  "language_info": {
   "codemirror_mode": {
    "name": "ipython",
    "version": 3
   },
   "file_extension": ".py",
   "mimetype": "text/x-python",
   "name": "python",
   "nbconvert_exporter": "python",
   "pygments_lexer": "ipython3",
   "version": "3.8.8"
  }
 },
 "nbformat": 4,
 "nbformat_minor": 5
}
