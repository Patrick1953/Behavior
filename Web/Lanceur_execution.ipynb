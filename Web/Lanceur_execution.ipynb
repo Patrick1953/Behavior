{
 "cells": [
  {
   "cell_type": "code",
   "execution_count": 4,
   "id": "introductory-tobago",
   "metadata": {},
   "outputs": [],
   "source": [
    "#%save Lanceur_execution.py 2"
   ]
  },
  {
   "cell_type": "code",
   "execution_count": 2,
   "id": "simple-indication",
   "metadata": {},
   "outputs": [],
   "source": [
    "import sys\n",
    "\n",
    "from Lanceur import Lanceur\n",
    "\n",
    "path = \"../Execution\"\n",
    "if path not in sys.path :\n",
    "    sys.path.append (path)\n",
    "from Execution import Execution\n",
    "\n",
    "def Lanceur_execution (arg) :\n",
    "    \n",
    "    '''\n",
    "    nom_environnement = '#test'\n",
    "       \n",
    "    arg = {}\n",
    "    arg ['date_min'] = '2021-02-01 00:00:00.000000'\n",
    "    arg ['date_max'] = '2021-02-09 00:00:00.000000'\n",
    "    arg ['pas'] = 'semaine'\n",
    "    arg ['nom_environnement'] = nom_environnement\n",
    "    arg ['nom_tache_execution'] = nom_environnement\n",
    "\n",
    "    arg ['workers'] = 6\n",
    "    arg ['local_scheduler'] = True\n",
    "    \n",
    "\n",
    "    -start () => execution Alimentation\n",
    "    -is_alive () => True if running else False\n",
    "\n",
    "    '''\n",
    "    job = Execution  (arg).run\n",
    "    lanceur = Lanceur (job)\n",
    "    lanceur.start ()\n",
    "    \n",
    "    return lanceur\n",
    "        \n",
    "        \n",
    "        \n",
    "        \n",
    "        \n",
    "        \n",
    "        \n",
    "        \n",
    "    \n",
    "        \n",
    "\n",
    "        \n"
   ]
  },
  {
   "cell_type": "code",
   "execution_count": 3,
   "id": "incorporated-hormone",
   "metadata": {},
   "outputs": [],
   "source": [
    "#%save test_lanceur_execution.py 1"
   ]
  },
  {
   "cell_type": "code",
   "execution_count": 4,
   "id": "cloudy-muscle",
   "metadata": {},
   "outputs": [
    {
     "name": "stdout",
     "output_type": "stream",
     "text": [
      "fin test_lanceur_execution  en  1.1734411716461182\n"
     ]
    }
   ],
   "source": [
    "import time\n",
    "\n",
    "from Lanceur_execution import Lanceur_execution\n",
    "\n",
    "def test_lanceur_execution () :\n",
    "    nom_environnement = '#test'\n",
    "    arg = {}\n",
    "    arg ['date_min'] = '2021-02-01 00:00:00.000000'\n",
    "    arg ['date_max'] = '2021-02-09 00:00:00.000000'\n",
    "    arg ['pas'] = 'semaine'\n",
    "    arg ['nom_environnement'] = nom_environnement\n",
    "    arg ['nom_tache_execution'] = nom_environnement\n",
    "\n",
    "    arg ['workers'] = 6\n",
    "    arg ['local_scheduler'] = True\n",
    "    \n",
    "    lanceur = Lanceur_execution (arg)\n",
    "      \n",
    "    \n",
    "    resultat = lanceur.is_alive ()\n",
    "    assert resultat == True\n",
    "    \n",
    "    while (resultat) :\n",
    "        resultat = lanceur.is_alive ()\n",
    "    \n",
    "    assert resultat == False\n",
    "    \n",
    "    \n",
    "    \n",
    "if __name__ == '__main__' :\n",
    "    t = time.time()\n",
    "    test_lanceur_execution ()\n",
    "    # fin test_alimentation en  0.6238605976104736\n",
    "    print ('fin test_lanceur_execution  en ', time.time () - t)       \n",
    "    \n",
    "    "
   ]
  },
  {
   "cell_type": "code",
   "execution_count": null,
   "id": "dependent-approval",
   "metadata": {},
   "outputs": [],
   "source": []
  }
 ],
 "metadata": {
  "kernelspec": {
   "display_name": "Patrick",
   "language": "python",
   "name": "patrick"
  },
  "language_info": {
   "codemirror_mode": {
    "name": "ipython",
    "version": 3
   },
   "file_extension": ".py",
   "mimetype": "text/x-python",
   "name": "python",
   "nbconvert_exporter": "python",
   "pygments_lexer": "ipython3",
   "version": "3.9.1"
  }
 },
 "nbformat": 4,
 "nbformat_minor": 5
}
