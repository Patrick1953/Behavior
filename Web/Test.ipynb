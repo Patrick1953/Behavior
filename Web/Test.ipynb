{
 "cells": [
  {
   "cell_type": "code",
   "execution_count": 10,
   "id": "steady-twenty",
   "metadata": {},
   "outputs": [],
   "source": [
    "#%save Test.py 7"
   ]
  },
  {
   "cell_type": "code",
   "execution_count": 11,
   "id": "decent-truth",
   "metadata": {},
   "outputs": [],
   "source": [
    "class Test () :\n",
    "    \n",
    "    def __init__ (self,) :\n",
    "        \n",
    "        self.compteur = 0\n",
    "        \n",
    "    def get_compteur (self,) :\n",
    "        \n",
    "        self.compteur += 1\n",
    "        \n",
    "        return self.compteur\n",
    "        "
   ]
  },
  {
   "cell_type": "code",
   "execution_count": null,
   "id": "burning-fireplace",
   "metadata": {},
   "outputs": [],
   "source": []
  },
  {
   "cell_type": "code",
   "execution_count": 12,
   "id": "likely-ultimate",
   "metadata": {},
   "outputs": [
    {
     "data": {
      "text/plain": [
       "2"
      ]
     },
     "execution_count": 12,
     "metadata": {},
     "output_type": "execute_result"
    }
   ],
   "source": [
    "T = Test ()\n",
    "T.get_compteur ()\n",
    "T.get_compteur ()\n"
   ]
  },
  {
   "cell_type": "code",
   "execution_count": null,
   "id": "hispanic-freeze",
   "metadata": {},
   "outputs": [],
   "source": []
  }
 ],
 "metadata": {
  "kernelspec": {
   "display_name": "Patrick",
   "language": "python",
   "name": "patrick"
  },
  "language_info": {
   "codemirror_mode": {
    "name": "ipython",
    "version": 3
   },
   "file_extension": ".py",
   "mimetype": "text/x-python",
   "name": "python",
   "nbconvert_exporter": "python",
   "pygments_lexer": "ipython3",
   "version": "3.9.1"
  }
 },
 "nbformat": 4,
 "nbformat_minor": 5
}
