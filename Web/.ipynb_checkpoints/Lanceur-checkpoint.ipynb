{
 "cells": [
  {
   "cell_type": "code",
   "execution_count": 6,
   "metadata": {},
   "outputs": [],
   "source": [
    "\n",
    "\n",
    "#%save Lanceur.py 1"
   ]
  },
  {
   "cell_type": "code",
   "execution_count": 5,
   "metadata": {},
   "outputs": [],
   "source": [
    "import multiprocessing\n",
    "\n",
    "\n",
    "\n",
    "\n",
    "class Lanceur () :\n",
    "    \n",
    "    def __init__ (self, job, name = 'travail') :\n",
    "        \n",
    "        self.job = multiprocessing.Process(target=job, name=name)\n",
    "        self.exitcode = None\n",
    "        \n",
    "    def start (self,) :\n",
    "        self.job.start()\n",
    "        \n",
    "    def is_alive (self,) :\n",
    "        try :\n",
    "            is_alive = self.job.is_alive ()\n",
    "        except:\n",
    "            return False\n",
    "            \n",
    "        if is_alive :\n",
    "            return True\n",
    "        self.job.join ()\n",
    "        self.exitcode = self.job.exitcode\n",
    "        return False\n",
    "    def get_exitcode (self,) :\n",
    "        return self.exitcode\n",
    "    \n",
    "    \n",
    "        "
   ]
  },
  {
   "cell_type": "code",
   "execution_count": 3,
   "metadata": {},
   "outputs": [],
   "source": [
    "#%save test_lanceur.py 1"
   ]
  },
  {
   "cell_type": "code",
   "execution_count": 1,
   "metadata": {},
   "outputs": [
    {
     "name": "stdout",
     "output_type": "stream",
     "text": [
      "test_lanceur fini\n"
     ]
    }
   ],
   "source": [
    "import time, sys\n",
    "\n",
    "from Lanceur import Lanceur\n",
    "\n",
    "def travail_ok():\n",
    "    return\n",
    "\n",
    "def raises():\n",
    "    time.sleep(1)\n",
    "    return sys.exit(1)\n",
    "    \n",
    "\n",
    "def test_lanceur () :\n",
    "    jobs = []\n",
    "    L = Lanceur (travail_ok) \n",
    "    L.start ()\n",
    "    time.sleep(1)\n",
    "    resultat = L.is_alive ()\n",
    "    assert resultat == False\n",
    "    \n",
    "    resultat = L.get_exitcode ()\n",
    "    \n",
    "    assert resultat == 0\n",
    "    \n",
    "    L = Lanceur (raises)\n",
    "    L.start ()\n",
    "    resultat = L.is_alive ()\n",
    "    voulu = True\n",
    "    assert resultat == voulu\n",
    "    \n",
    "    time.sleep(2)\n",
    "    \n",
    "    resultat = L.is_alive ()\n",
    "    assert resultat == False\n",
    "    \n",
    "    \n",
    "    resultat = L.get_exitcode ()\n",
    "    assert resultat == 1\n",
    "    \n",
    "    \n",
    "    \n",
    "    \n",
    "    \n",
    "    \n",
    "    \n",
    "    \n",
    "    \n",
    "    \n",
    "    \n",
    "    \n",
    "        \n",
    "        \n",
    "    \n",
    "if __name__ == '__main__':\n",
    "    test_lanceur ()\n",
    "    print ('test_lanceur fini')\n",
    "    \n",
    "    \n",
    "    \n",
    "    "
   ]
  },
  {
   "cell_type": "code",
   "execution_count": null,
   "metadata": {},
   "outputs": [],
   "source": []
  },
  {
   "cell_type": "code",
   "execution_count": null,
   "metadata": {},
   "outputs": [],
   "source": []
  }
 ],
 "metadata": {
  "kernelspec": {
   "display_name": "Python 3",
   "language": "python",
   "name": "python3"
  },
  "language_info": {
   "codemirror_mode": {
    "name": "ipython",
    "version": 3
   },
   "file_extension": ".py",
   "mimetype": "text/x-python",
   "name": "python",
   "nbconvert_exporter": "python",
   "pygments_lexer": "ipython3",
   "version": "3.8.8"
  }
 },
 "nbformat": 4,
 "nbformat_minor": 4
}
