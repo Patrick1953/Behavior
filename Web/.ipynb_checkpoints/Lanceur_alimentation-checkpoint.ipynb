{
 "cells": [
  {
   "cell_type": "code",
   "execution_count": 5,
   "id": "introductory-tobago",
   "metadata": {},
   "outputs": [],
   "source": [
    "#%save Lanceur_alimentation.py 3"
   ]
  },
  {
   "cell_type": "code",
   "execution_count": 3,
   "id": "simple-indication",
   "metadata": {},
   "outputs": [],
   "source": [
    "import sys\n",
    "\n",
    "from Lanceur import Lanceur\n",
    "\n",
    "path = \"../Alimentation\"\n",
    "if path not in sys.path :\n",
    "    sys.path.append (path)\n",
    "from Alimentation import Alimentation\n",
    "\n",
    "def Lanceur_alimentation (arg) :\n",
    "    \n",
    "    '''\n",
    "    nom_environnement = 'test'\n",
    "       \n",
    "    arg = {}\n",
    "    arg ['nom_environnement'] = nom_environnement\n",
    "    arg ['isPurge_existing_index'] = True\n",
    "    arg ['nom_fichier'] =  'evenements.txt'\n",
    "    arg ['nom_tache_alimentation'] = 'test'\n",
    "\n",
    "    -start () => execution Alimentation\n",
    "    -is_alive () => True if running else False\n",
    "\n",
    "    '''\n",
    "    job = Alimentation  (arg).run\n",
    "    lanceur = Lanceur (job)\n",
    "    lanceur.start ()\n",
    "    \n",
    "    return lanceur\n",
    "        \n",
    "        \n",
    "        \n",
    "        \n",
    "        \n",
    "        \n",
    "        \n",
    "        \n",
    "    \n",
    "        \n",
    "\n",
    "        \n"
   ]
  },
  {
   "cell_type": "code",
   "execution_count": 3,
   "id": "incorporated-hormone",
   "metadata": {},
   "outputs": [],
   "source": [
    "#%save test_lanceur_alimentation.py 1"
   ]
  },
  {
   "cell_type": "code",
   "execution_count": 2,
   "id": "cloudy-muscle",
   "metadata": {},
   "outputs": [
    {
     "name": "stdout",
     "output_type": "stream",
     "text": [
      "fin test_lanceur_alimentation en  0.48671889305114746\n"
     ]
    }
   ],
   "source": [
    "import time\n",
    "\n",
    "from Lanceur_alimentation import Lanceur_alimentation\n",
    "\n",
    "def test_lanceur_alimentation () :\n",
    "    nom_environnement = 'test'\n",
    "    arg = {}\n",
    "    arg ['nom_environnement'] = nom_environnement\n",
    "    arg ['isPurge_existing_index'] = True\n",
    "    arg ['nom_fichier'] =  'evenements.txt'\n",
    "    arg ['nom_tache_alimentation'] = 'test'\n",
    "    \n",
    "    lanceur = Lanceur_alimentation (arg)\n",
    "      \n",
    "    \n",
    "    resultat = lanceur.is_alive ()\n",
    "    assert resultat == True\n",
    "    \n",
    "    while (resultat) :\n",
    "        resultat = lanceur.is_alive ()\n",
    "    \n",
    "    assert resultat == False\n",
    "    \n",
    "    \n",
    "    \n",
    "if __name__ == '__main__' :\n",
    "    t = time.time()\n",
    "    test_lanceur_alimentation ()\n",
    "    # fin test_alimentation en  0.6238605976104736\n",
    "    print ('fin test_lanceur_alimentation en ', time.time () - t)       \n",
    "    \n",
    "    "
   ]
  },
  {
   "cell_type": "code",
   "execution_count": null,
   "id": "dependent-approval",
   "metadata": {},
   "outputs": [],
   "source": []
  }
 ],
 "metadata": {
  "kernelspec": {
   "display_name": "Patrick",
   "language": "python",
   "name": "patrick"
  },
  "language_info": {
   "codemirror_mode": {
    "name": "ipython",
    "version": 3
   },
   "file_extension": ".py",
   "mimetype": "text/x-python",
   "name": "python",
   "nbconvert_exporter": "python",
   "pygments_lexer": "ipython3",
   "version": "3.9.1"
  }
 },
 "nbformat": 4,
 "nbformat_minor": 5
}
