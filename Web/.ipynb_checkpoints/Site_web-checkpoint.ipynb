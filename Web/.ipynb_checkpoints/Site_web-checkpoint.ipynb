{
 "cells": [
  {
   "cell_type": "code",
   "execution_count": 4,
   "id": "secure-bennett",
   "metadata": {},
   "outputs": [],
   "source": [
    "#%save Site_web.py 2"
   ]
  },
  {
   "cell_type": "code",
   "execution_count": 2,
   "id": "second-remove",
   "metadata": {},
   "outputs": [],
   "source": [
    "import subprocess\n",
    "\n",
    "from Interface_parametres import Interface_parametres\n",
    "\n",
    "class Site_web () :\n",
    "    \n",
    "    def __init__ (self,) :\n",
    "        \n",
    "        self.process = None\n",
    "        \n",
    "        return\n",
    "    \n",
    "    def lancement_site (self, bashCommand = \"streamlit run page0.py\") :\n",
    "        self.process = subprocess.Popen(bashCommand.split(), stdout=subprocess.PIPE)\n",
    "        return\n",
    "    \n",
    "    def arret_site (self,) :\n",
    "        if self.process is None :\n",
    "            return\n",
    "        self.process.terminate ()\n",
    "        return\n",
    "    \n",
    "    \n",
    "    \n",
    "    "
   ]
  },
  {
   "cell_type": "code",
   "execution_count": 2,
   "id": "prescribed-produce",
   "metadata": {},
   "outputs": [],
   "source": [
    "#S = Site_web ().run()"
   ]
  },
  {
   "cell_type": "code",
   "execution_count": null,
   "id": "quantitative-prize",
   "metadata": {},
   "outputs": [],
   "source": [
    "\n",
    "\n",
    "\n",
    "\n",
    "\n",
    "    \n",
    "   "
   ]
  },
  {
   "cell_type": "code",
   "execution_count": 6,
   "id": "allied-senegal",
   "metadata": {},
   "outputs": [],
   "source": [
    "from Site_web import Site_web\n",
    "\n",
    "try :\n",
    "    x = S\n",
    "except :\n",
    "    S = Site_web ()\n",
    "    \n",
    "S.arret_site ()\n",
    "S.lancement_site ()"
   ]
  },
  {
   "cell_type": "code",
   "execution_count": 5,
   "id": "passing-license",
   "metadata": {},
   "outputs": [],
   "source": [
    "try :\n",
    "    x = S\n",
    "except :\n",
    "    S.arret_site ()\n",
    "\n",
    "\n"
   ]
  },
  {
   "cell_type": "code",
   "execution_count": 51,
   "id": "respiratory-parallel",
   "metadata": {},
   "outputs": [
    {
     "data": {
      "text/plain": [
       "True"
      ]
     },
     "execution_count": 51,
     "metadata": {},
     "output_type": "execute_result"
    }
   ],
   "source": []
  },
  {
   "cell_type": "code",
   "execution_count": 8,
   "id": "destroyed-grenada",
   "metadata": {},
   "outputs": [],
   "source": [
    "from Site_web import Site_web\n",
    "\n",
    "bashCommand = \"streamlit run execution0.py\"\n",
    "try :\n",
    "    x = S\n",
    "except :\n",
    "    S = Site_web ()\n",
    "    \n",
    "S.arret_site ()\n",
    "S.lancement_site (bashCommand = \"streamlit run execution0.py\")\n"
   ]
  },
  {
   "cell_type": "code",
   "execution_count": null,
   "id": "bright-canvas",
   "metadata": {},
   "outputs": [],
   "source": []
  }
 ],
 "metadata": {
  "kernelspec": {
   "display_name": "Patrick",
   "language": "python",
   "name": "patrick"
  },
  "language_info": {
   "codemirror_mode": {
    "name": "ipython",
    "version": 3
   },
   "file_extension": ".py",
   "mimetype": "text/x-python",
   "name": "python",
   "nbconvert_exporter": "python",
   "pygments_lexer": "ipython3",
   "version": "3.9.1"
  }
 },
 "nbformat": 4,
 "nbformat_minor": 5
}
