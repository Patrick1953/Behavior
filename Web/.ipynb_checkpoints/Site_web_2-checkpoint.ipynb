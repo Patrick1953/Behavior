{
 "cells": [
  {
   "cell_type": "code",
   "execution_count": null,
   "id": "secure-bennett",
   "metadata": {},
   "outputs": [],
   "source": []
  },
  {
   "cell_type": "code",
   "execution_count": 18,
   "id": "second-remove",
   "metadata": {},
   "outputs": [],
   "source": [
    "import subprocess\n",
    "from subprocess import Popen\n",
    "\n",
    "from Interface_parametres import Interface_parametres\n",
    "\n",
    "class Site_web () :\n",
    "    \n",
    "    def __init__ (self,) :\n",
    "        \n",
    "        self.process = None\n",
    "        \n",
    "        return\n",
    "    \n",
    "    def call (self,) :\n",
    "        p = Popen([\"ls\",\"-lha\"], stdout=subprocess.PIPE, stderr=subprocess.PIPE, universal_newlines=True)\n",
    "        output, errors = p.communicate()\n",
    "        print ('output =', output)\n",
    "        print ('errors =', errors)\n",
    "        return output, errors\n",
    "        \n",
    "    def lancement_site (self,) :\n",
    "        bashCommand = \"ls\"\n",
    "        self.process = subprocess.Popen(bashCommand.split(), stdout=subprocess.PIPE)\n",
    "        return\n",
    "    \n",
    "    def arret_site (self,) :\n",
    "        if self.process is None :\n",
    "            return\n",
    "        self.process.terminate ()\n",
    "        return\n",
    "    \n",
    "    \n",
    "    \n",
    "    "
   ]
  },
  {
   "cell_type": "code",
   "execution_count": 19,
   "id": "prescribed-produce",
   "metadata": {},
   "outputs": [],
   "source": [
    "#S = Site_web ().run()"
   ]
  },
  {
   "cell_type": "code",
   "execution_count": null,
   "id": "quantitative-prize",
   "metadata": {},
   "outputs": [],
   "source": [
    "  \n",
    "   "
   ]
  },
  {
   "cell_type": "code",
   "execution_count": 20,
   "id": "allied-senegal",
   "metadata": {},
   "outputs": [
    {
     "data": {
      "text/plain": [
       "0"
      ]
     },
     "execution_count": 20,
     "metadata": {},
     "output_type": "execute_result"
    }
   ],
   "source": [
    "try :\n",
    "    x = S\n",
    "except :\n",
    "    S = Site_web ()\n",
    "    \n",
    "x = S.call ()\n",
    "\n",
    "x"
   ]
  },
  {
   "cell_type": "code",
   "execution_count": 10,
   "id": "passing-license",
   "metadata": {},
   "outputs": [],
   "source": [
    "S.arret_site ()\n"
   ]
  },
  {
   "cell_type": "code",
   "execution_count": 51,
   "id": "respiratory-parallel",
   "metadata": {},
   "outputs": [
    {
     "data": {
      "text/plain": [
       "True"
      ]
     },
     "execution_count": 51,
     "metadata": {},
     "output_type": "execute_result"
    }
   ],
   "source": []
  },
  {
   "cell_type": "code",
   "execution_count": null,
   "id": "destroyed-grenada",
   "metadata": {},
   "outputs": [],
   "source": []
  }
 ],
 "metadata": {
  "kernelspec": {
   "display_name": "Patrick",
   "language": "python",
   "name": "patrick"
  },
  "language_info": {
   "codemirror_mode": {
    "name": "ipython",
    "version": 3
   },
   "file_extension": ".py",
   "mimetype": "text/x-python",
   "name": "python",
   "nbconvert_exporter": "python",
   "pygments_lexer": "ipython3",
   "version": "3.9.1"
  }
 },
 "nbformat": 4,
 "nbformat_minor": 5
}
