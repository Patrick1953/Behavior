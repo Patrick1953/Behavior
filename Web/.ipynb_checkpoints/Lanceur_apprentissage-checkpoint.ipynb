{
 "cells": [
  {
   "cell_type": "code",
   "execution_count": 13,
   "id": "introductory-tobago",
   "metadata": {},
   "outputs": [],
   "source": [
    "#%save Lanceur_apprentissage.py 9"
   ]
  },
  {
   "cell_type": "code",
   "execution_count": 9,
   "id": "simple-indication",
   "metadata": {},
   "outputs": [],
   "source": [
    "import sys\n",
    "\n",
    "from Lanceur import Lanceur\n",
    "\n",
    "path = \"../Apprentissage\"\n",
    "if path not in sys.path :\n",
    "    sys.path.append (path)\n",
    "from Apprentissage import Apprentissage\n",
    "\n",
    "def Lanceur_apprentissage (arg) :\n",
    "    \n",
    "    '''\n",
    "    arg = {}\n",
    "    arg ['isTrace'] = False\n",
    "    path = '../data/' + nom_environnement +'/parametres/'\n",
    "    arg ['nom_environnement'] = nom_environnement\n",
    "    \n",
    "    arg ['date_min'] = '2021-02-01 00:00:00.000000'\n",
    "    arg ['date_max'] = '2021-02-09 00:00:00.000000'\n",
    "    arg ['nom_tache_apprentissage'] = 'test'\n",
    "\n",
    "    -start () => execution Alimentation\n",
    "    -is_alive () => True if running else False\n",
    "\n",
    "    '''\n",
    "    job = Apprentissage  (arg).run\n",
    "    lanceur = Lanceur (job)\n",
    "    lanceur.start ()\n",
    "    \n",
    "    return lanceur\n",
    "        \n",
    "        \n",
    "        \n",
    "        \n",
    "        \n",
    "        \n",
    "        \n",
    "        \n",
    "    \n",
    "        \n",
    "\n",
    "        \n"
   ]
  },
  {
   "cell_type": "code",
   "execution_count": 3,
   "id": "incorporated-hormone",
   "metadata": {},
   "outputs": [],
   "source": [
    "#%save test_lanceur_apprentissage.py 1"
   ]
  },
  {
   "cell_type": "code",
   "execution_count": 1,
   "id": "cloudy-muscle",
   "metadata": {},
   "outputs": [
    {
     "name": "stdout",
     "output_type": "stream",
     "text": [
      "fin test_lanceur_apprentissage  en  0.05134320259094238\n"
     ]
    }
   ],
   "source": [
    "import time\n",
    "\n",
    "from Lanceur_apprentissage import Lanceur_apprentissage\n",
    "\n",
    "def test_lanceur_apprentissage () :\n",
    "    nom_environnement = 'test'\n",
    "    arg = {}\n",
    "    arg ['isTrace'] = False\n",
    "    path = '../data/' + nom_environnement +'/parametres/'\n",
    "    arg ['nom_environnement'] = nom_environnement\n",
    "    \n",
    "    arg ['date_min'] = '2021-02-01 00:00:00.000000'\n",
    "    arg ['date_max'] = '2021-02-09 00:00:00.000000'\n",
    "    arg ['nom_tache_apprentissage'] = 'test'\n",
    "    \n",
    "    lanceur = Lanceur_apprentissage (arg)\n",
    "      \n",
    "    \n",
    "    resultat = lanceur.is_alive ()\n",
    "    assert resultat == True\n",
    "    \n",
    "    while (resultat) :\n",
    "        resultat = lanceur.is_alive ()\n",
    "    \n",
    "    assert resultat == False\n",
    "    \n",
    "    \n",
    "    \n",
    "if __name__ == '__main__' :\n",
    "    t = time.time()\n",
    "    test_lanceur_apprentissage ()\n",
    "    # fin test_alimentation en  0.6238605976104736\n",
    "    print ('fin test_lanceur_apprentissage  en ', time.time () - t)       \n",
    "    \n",
    "    "
   ]
  },
  {
   "cell_type": "code",
   "execution_count": null,
   "id": "dependent-approval",
   "metadata": {},
   "outputs": [],
   "source": []
  }
 ],
 "metadata": {
  "kernelspec": {
   "display_name": "Patrick",
   "language": "python",
   "name": "patrick"
  },
  "language_info": {
   "codemirror_mode": {
    "name": "ipython",
    "version": 3
   },
   "file_extension": ".py",
   "mimetype": "text/x-python",
   "name": "python",
   "nbconvert_exporter": "python",
   "pygments_lexer": "ipython3",
   "version": "3.9.1"
  }
 },
 "nbformat": 4,
 "nbformat_minor": 5
}
