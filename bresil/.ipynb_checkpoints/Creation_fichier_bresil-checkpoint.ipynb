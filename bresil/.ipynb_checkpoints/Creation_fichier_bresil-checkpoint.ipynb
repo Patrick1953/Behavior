{
 "cells": [
  {
   "cell_type": "markdown",
   "metadata": {},
   "source": [
    "# ecriture fichier dico => csv et lecture csv"
   ]
  },
  {
   "cell_type": "code",
   "execution_count": 58,
   "metadata": {},
   "outputs": [],
   "source": [
    "import time\n",
    "\n",
    "from Lecture_data_bresil import Lecture_data_bresil\n",
    "\n",
    "from pprint import PrettyPrinter \n",
    "def P (stuff , pp = PrettyPrinter(indent=4)) :\n",
    "    return pp.pprint(stuff)\n",
    "\n",
    "\n",
    "class  Ecriture_fichier_bresil () :\n",
    "    \n",
    "    def __init__ (self,path_file, dico, sep = '|') :\n",
    "        self.sep = sep\n",
    "        self.dico = dico\n",
    "        self.file = open(path_file, 'w')\n",
    "        \n",
    "        liste_cle = [cle for cle in dico.keys()]\n",
    "        self.liste_cle = [cle for cle in dico [liste_cle [0]].keys()]\n",
    "        self.erreur = {}\n",
    "        \n",
    "        #print ('len liste_cle : ', len (self.liste_cle))\n",
    "        \n",
    "        \n",
    "        \n",
    "    def creation_ligne (self, enreg) :\n",
    "        liste = []\n",
    "        \n",
    "        for cle in self.liste_cle :\n",
    "            try:\n",
    "                r = str(enreg [cle])\n",
    "            except :\n",
    "                r = ''\n",
    "                try:\n",
    "                    self.erreur [cle] += 1\n",
    "                except:\n",
    "                    self.erreur [cle] = 1\n",
    "                \n",
    "            r = r.replace ('|', '').replace ('\\n', '')\n",
    "            liste.append(r)\n",
    "            continue\n",
    "        \n",
    "        li  = self.sep.join(liste)\n",
    "        \n",
    "        data = li.split(self.sep)\n",
    "        if len (data) != len (self.liste_cle) :\n",
    "            print ('erreur : ')\n",
    "            P(enreg)\n",
    "        \n",
    "        return li\n",
    "    \n",
    "    def run (self,) :\n",
    "        \n",
    "        for cle in self.dico :\n",
    "            enreg = self.dico [cle]\n",
    "            ligne = self.creation_ligne (enreg)\n",
    "                               \n",
    "            data = ligne.split (self.sep)\n",
    "            if len (data) != len(self.liste_cle) :\n",
    "                print ('erreur', ligne)\n",
    "                break\n",
    "                \n",
    "            i = ligne.find ('\\r\\n')\n",
    "            if i != -1 :\n",
    "                print ('erreur retour ', ligne)\n",
    "                break\n",
    "                \n",
    "            li = ligne + '\\n'\n",
    "            self.file.write (li)\n",
    "            continue\n",
    "        \n",
    "        self.file.close()\n",
    "        if len(self.erreur) != 0 :\n",
    "            print ('erreur')\n",
    "            P(self.erreur)\n",
    "            print ()\n",
    "        return\n",
    "\n",
    "def lecture_data_bresil ():\n",
    "    \n",
    "    L = Lecture_data_bresil ()\n",
    "       \n",
    "    dico_resultat = L.dico_customers ()\n",
    "    \n",
    "    assert L.nombre_erreur == 2765\n",
    "    \n",
    "    assert len(dico_resultat) == 99163\n",
    "    return dico_resultat\n",
    "\n"
   ]
  },
  {
   "cell_type": "markdown",
   "metadata": {},
   "source": [
    "# test ecriture fichier dico => csv   "
   ]
  },
  {
   "cell_type": "code",
   "execution_count": 59,
   "metadata": {},
   "outputs": [
    {
     "name": "stdout",
     "output_type": "stream",
     "text": [
      "fin test_ecriture_fichier_bresil en  0.0006034374237060547\n"
     ]
    }
   ],
   "source": [
    "\n",
    "def test_ecriture_fichier_bresil () :\n",
    "    dico  = {'1': {\"e\": 0, \"f\" : 1},\n",
    "             '2' : {\"e\": 2, \"f\" : 3} , \n",
    "            '3' :  {\"e\": 'e||e', \"f\" : 'f\\n\\nf'}}\n",
    "    path_file = './test.txt'\n",
    "    E = Ecriture_fichier_bresil (path_file, dico)\n",
    "    E.run ()\n",
    "    \n",
    "    f = open(path_file , 'r')\n",
    "    resultat = []\n",
    "    while (True) :\n",
    "        li = f.readline ()\n",
    "        if li == '' :\n",
    "            break\n",
    "        resultat.append(li [:-1])\n",
    "        data = li [:-1].split ('|')\n",
    "        if len (data) != 2 :\n",
    "            print ('erreur', li)\n",
    "        continue\n",
    "        \n",
    "    \n",
    "    \n",
    "    voulu = ['0|1', '2|3', 'ee|ff']\n",
    "    assert resultat == voulu\n",
    "    \n",
    "\n",
    "if __name__ == '__main__' :\n",
    "    t = time.time()\n",
    "    test_ecriture_fichier_bresil ()\n",
    "    print ('fin test_ecriture_fichier_bresil en ', time.time () - t)    "
   ]
  },
  {
   "cell_type": "markdown",
   "metadata": {},
   "source": [
    "# creation fichier csv bresil"
   ]
  },
  {
   "cell_type": "code",
   "execution_count": 63,
   "metadata": {},
   "outputs": [],
   "source": [
    "dico = lecture_data_bresil ()\n",
    "\n",
    "#print ('len(dico) = ', len(dico) )\n",
    "\n",
    "path_file = './bresil.csv'\n",
    "E = Ecriture_fichier_bresil (path_file, dico)\n",
    "E.run ()\n",
    "\n",
    "assert len(dico) == 99163\n",
    "assert len (E.liste_cle) == 40\n",
    "\n",
    "\n",
    "\n"
   ]
  },
  {
   "cell_type": "markdown",
   "metadata": {},
   "source": [
    "# test creation './bresil.csv'"
   ]
  },
  {
   "cell_type": "code",
   "execution_count": 64,
   "metadata": {},
   "outputs": [],
   "source": [
    "path_file = './bresil.csv'\n",
    "#path_file = '../data/#test/data_alimentation/evenements.txt'\n",
    "\n",
    "f = open( path_file, 'r', newline='\\n')\n",
    "\n",
    "taille = 40\n",
    "\n",
    "nombre = 0\n",
    "\n",
    "while( True) :\n",
    "    li = f.readline ()\n",
    "    if li == '' :\n",
    "        break\n",
    "    nombre += 1\n",
    "    data = li [:-1].split ('|')\n",
    "    if len (data) != taille :\n",
    "        print ('taille ?', len(data))\n",
    "        print (li)\n",
    "        \n",
    "        break\n",
    "        \n",
    "        \n",
    "    continue\n",
    "    \n",
    "#print ()\n",
    "#print (nombre)\n",
    "assert nombre == 99163\n"
   ]
  },
  {
   "cell_type": "code",
   "execution_count": null,
   "metadata": {},
   "outputs": [],
   "source": []
  },
  {
   "cell_type": "markdown",
   "metadata": {},
   "source": [
    "# analyse data dans dico "
   ]
  },
  {
   "cell_type": "code",
   "execution_count": null,
   "metadata": {},
   "outputs": [],
   "source": [
    "import pandas as pd\n",
    "\n",
    "\n",
    "liste_cle = [cle for cle in dico.keys()]\n",
    "liste_cle = [cle for cle in dico [liste_cle [0]].keys()]\n",
    "\n",
    "a_prendre = [   \n",
    "    'customer_zip_code_prefix',\n",
    "    'customer_city',\n",
    "    'customer_state',\n",
    "    'geolocation_lat',\n",
    "    'geolocation_lng',\n",
    "    'geolocation_state',\n",
    "    \n",
    "    'order_status',\n",
    "    'order_purchase_timestamp',\n",
    "    'order_approved_at',\n",
    "    'order_delivered_carrier_date',\n",
    "    'order_delivered_customer_date',\n",
    "    'order_estimated_delivery_date',\n",
    "    \n",
    "    \n",
    "    'shipping_limit_date',\n",
    "    'price',\n",
    "    'freight_value',\n",
    "    'product_category_name',\n",
    "    'product_name_lenght',\n",
    "    'product_description_lenght',\n",
    "    'product_photos_qty',\n",
    "    'product_weight_g',\n",
    "    'product_length_cm',\n",
    "    'product_height_cm',\n",
    "    'product_width_cm',\n",
    "    'product_category_name_english',\n",
    "    'seller_city',\n",
    "    'seller_state',\n",
    "    'payment_sequential',\n",
    "    'payment_type',\n",
    "    'payment_installments',\n",
    "    'payment_value',\n",
    "    'review_score',\n",
    "    'review_comment_title',\n",
    "    'review_comment_message',\n",
    "    'review_creation_date',\n",
    "    'review_answer_timestamp']\n",
    "    \n",
    "\n",
    "df = pd.DataFrame.from_dict (dico,orient='index', columns=a_prendre)\n",
    "\n",
    "df\n"
   ]
  },
  {
   "cell_type": "markdown",
   "metadata": {},
   "source": [
    "# calcul des positions des zones et fixation de ID, date_evenement\n"
   ]
  },
  {
   "cell_type": "code",
   "execution_count": null,
   "metadata": {},
   "outputs": [],
   "source": [
    "#P (liste_cle)\n",
    "    \n",
    "position_bresil = {}\n",
    "\n",
    "i = 0 \n",
    "for nom_zone in liste_cle :\n",
    "    position_bresil [nom_zone] = i\n",
    "    i += 1\n",
    "    continue\n",
    " \n",
    "position_bresil_voulu = {   'customer_city': 3,\n",
    "    'customer_id': 0,\n",
    "    'customer_state': 4,\n",
    "    'customer_unique_id': 1,\n",
    "    'customer_zip_code_prefix': 2,\n",
    "    'freight_value': 19,\n",
    "    'geolocation_lat': 5,\n",
    "    'geolocation_lng': 6,\n",
    "    'geolocation_state': 7,\n",
    "    'order_approved_at': 11,\n",
    "    'order_delivered_carrier_date': 12,\n",
    "    'order_delivered_customer_date': 13,\n",
    "    'order_estimated_delivery_date': 14,\n",
    "    'order_id': 8,\n",
    "    'order_purchase_timestamp': 10,\n",
    "    'order_status': 9,\n",
    "    'payment_installments': 33,\n",
    "    'payment_sequential': 31,\n",
    "    'payment_type': 32,\n",
    "    'payment_value': 34,\n",
    "    'price': 18,\n",
    "    'product_category_name': 20,\n",
    "    'product_category_name_english': 28,\n",
    "    'product_description_lenght': 22,\n",
    "    'product_height_cm': 26,\n",
    "    'product_id': 15,\n",
    "    'product_length_cm': 25,\n",
    "    'product_name_lenght': 21,\n",
    "    'product_photos_qty': 23,\n",
    "    'product_weight_g': 24,\n",
    "    'product_width_cm': 27,\n",
    "    'review_answer_timestamp': 39,\n",
    "    'review_comment_message': 37,\n",
    "    'review_comment_title': 36,\n",
    "    'review_creation_date': 38,\n",
    "    'review_score': 35,\n",
    "    'seller_city': 29,\n",
    "    'seller_id': 16,\n",
    "    'seller_state': 30,\n",
    "    'shipping_limit_date': 17}\n",
    "\n",
    "#P(position_bresil)    \n",
    "    \n",
    "assert  position_bresil ==  position_bresil_voulu  \n",
    "position = position_bresil ['customer_city']\n",
    "position_bresil ['ID'] = position\n",
    "del position_bresil ['customer_city']\n",
    "\n",
    "position = position_bresil ['order_purchase_timestamp']\n",
    "position_bresil ['date_evenement'] = position\n",
    "del position_bresil ['order_purchase_timestamp']"
   ]
  },
  {
   "cell_type": "code",
   "execution_count": null,
   "metadata": {},
   "outputs": [],
   "source": []
  },
  {
   "cell_type": "markdown",
   "metadata": {},
   "source": [
    "# detection des formats en automatique mode\n",
    "\n",
    "# liste format date\n",
    "## https://help.talend.com/r/6K8Ti_j8LkR03kjthAW6fg/~wDyssNBFPIG2jgx3fux3Q\n"
   ]
  },
  {
   "cell_type": "code",
   "execution_count": 89,
   "metadata": {},
   "outputs": [
    {
     "data": {
      "text/plain": [
       "40"
      ]
     },
     "execution_count": 89,
     "metadata": {},
     "output_type": "execute_result"
    }
   ],
   "source": [
    "path_file = './bresil.csv'\n",
    "nombre_colonne = len(liste_cle)\n",
    "columns = [str(i) for i in range(0, nombre_colonne)]\n",
    "df = pd.read_csv(path_file, sep = '|',\n",
    "                 lineterminator = '\\n',\n",
    "                 names = columns,\n",
    "                 infer_datetime_format = True,\n",
    "                )\n",
    "\n",
    "liste_type = df.dtypes.tolist()\n",
    "\n",
    "len (liste_type)"
   ]
  },
  {
   "cell_type": "code",
   "execution_count": 91,
   "metadata": {},
   "outputs": [
    {
     "name": "stdout",
     "output_type": "stream",
     "text": [
      "[dtype('O'), dtype('O'), dtype('int64'), dtype('O'), dtype('O'), dtype('float64'), dtype('float64'), dtype('O'), dtype('O'), dtype('O'), dtype('O'), dtype('O'), dtype('O'), dtype('O'), dtype('O'), dtype('O'), dtype('O'), dtype('O'), dtype('float64'), dtype('float64'), dtype('O'), dtype('float64'), dtype('float64'), dtype('float64'), dtype('float64'), dtype('float64'), dtype('float64'), dtype('float64'), dtype('O'), dtype('O'), dtype('O'), dtype('int64'), dtype('O'), dtype('int64'), dtype('float64'), dtype('int64'), dtype('O'), dtype('O'), dtype('O'), dtype('O')]\n"
     ]
    }
   ],
   "source": [
    "print( liste_type)"
   ]
  },
  {
   "cell_type": "code",
   "execution_count": 87,
   "metadata": {},
   "outputs": [
    {
     "data": {
      "text/plain": [
       "Index(['0', '1', '2', '3', '4', '5', '6', '7', '8', '9', '10', '11', '12',\n",
       "       '13', '14', '15', '16', '17', '18', '19', '20', '21', '22', '23', '24',\n",
       "       '25', '26', '27', '28', '29', '30', '31', '32', '33', '34', '35', '36',\n",
       "       '37', '38', '39'],\n",
       "      dtype='object')"
      ]
     },
     "execution_count": 87,
     "metadata": {},
     "output_type": "execute_result"
    }
   ],
   "source": [
    "df.dtype"
   ]
  },
  {
   "cell_type": "code",
   "execution_count": 92,
   "metadata": {},
   "outputs": [
    {
     "name": "stdout",
     "output_type": "stream",
     "text": [
      "object\n",
      "object\n",
      "numeric\n",
      "object\n",
      "object\n",
      "numeric\n",
      "numeric\n",
      "object\n",
      "object\n",
      "object\n",
      "object\n",
      "object\n",
      "object\n",
      "object\n",
      "object\n",
      "object\n",
      "object\n",
      "object\n",
      "numeric\n",
      "numeric\n",
      "object\n",
      "numeric\n",
      "numeric\n",
      "numeric\n",
      "numeric\n",
      "numeric\n",
      "numeric\n",
      "numeric\n",
      "object\n",
      "object\n",
      "object\n",
      "numeric\n",
      "object\n",
      "numeric\n",
      "numeric\n",
      "numeric\n",
      "object\n",
      "object\n",
      "object\n",
      "object\n"
     ]
    }
   ],
   "source": [
    "liste_format = []\n",
    "\n",
    "for v_type in liste_type :\n",
    "    v_type = str(v_type)\n",
    "    \n",
    "    if v_type == 'int64' or v_type == 'float64' :\n",
    "        v_type= 'numeric'\n",
    "    else:\n",
    "        assert v_type == 'object'\n",
    "        \n",
    "    \n",
    "    print (v_type)\n",
    "    \n",
    "    \n",
    "    \n",
    "    "
   ]
  },
  {
   "cell_type": "markdown",
   "metadata": {},
   "source": [
    "# creation fichier par mois"
   ]
  },
  {
   "cell_type": "code",
   "execution_count": 52,
   "metadata": {},
   "outputs": [
    {
     "name": "stdout",
     "output_type": "stream",
     "text": [
      "fin test_ecriture_fichier_bresil en  0.8154058456420898\n"
     ]
    }
   ],
   "source": [
    "from datetime import datetime\n",
    "import time, os\n",
    "\n",
    "\n",
    "def filtrage_copie (mois, position_bresil,\n",
    "                    path_file = './bresil.csv',\n",
    "                    path_ecriture = './mois_test.json',\n",
    "                    format_date = '%Y-%m-%d %H:%M:%S' ) :\n",
    "    \n",
    "    \n",
    "    position = position_bresil ['date_evenement']\n",
    "    f = open( path_file, 'r', newline='\\r\\n')\n",
    "    g = open (path_ecriture, 'w')\n",
    "    \n",
    "    nombre = 0\n",
    "    \n",
    "    while ( True) :\n",
    "        li = f.readline ()\n",
    "        if li == '' :\n",
    "            break\n",
    "        \n",
    "        data = li [:-1].split ('|')\n",
    "        date_evenement = data [position]\n",
    "        \n",
    "        date_time_obj = datetime. strptime(date_evenement, format_date)\n",
    "        \n",
    "        if date_time_obj.month == mois :\n",
    "            g.write (li)\n",
    "            nombre += 1\n",
    "        \n",
    "        \n",
    "        continue\n",
    "    g.close()\n",
    "    return nombre\n",
    "\n",
    "        \n",
    "if __name__ == '__main__' :\n",
    "    t = time.time()\n",
    "    mois = 1\n",
    "    path_ecriture = './mois_test.csv'\n",
    "    n = filtrage_copie (mois, position_bresil,\n",
    "                        path_file = './bresil.csv',\n",
    "                        path_ecriture = path_ecriture)\n",
    "    \n",
    "    assert n == 8055\n",
    "    os.remove (path_ecriture)\n",
    "    #print ('nombre sur ce mois =', n)\n",
    "    print ('fin test_ecriture_fichier_bresil en ', time.time () - t)  "
   ]
  },
  {
   "cell_type": "code",
   "execution_count": null,
   "metadata": {},
   "outputs": [],
   "source": []
  },
  {
   "cell_type": "markdown",
   "metadata": {},
   "source": [
    "# ecriture fichier par mois"
   ]
  },
  {
   "cell_type": "code",
   "execution_count": 54,
   "metadata": {},
   "outputs": [
    {
     "name": "stdout",
     "output_type": "stream",
     "text": [
      "ecriture de 8055 lignes  dans ../data/#bresil/data_alimentation/mois_1.csv\n",
      "ecriture de 8483 lignes  dans ../data/#bresil/data_alimentation/mois_2.csv\n",
      "ecriture de 9863 lignes  dans ../data/#bresil/data_alimentation/mois_3.csv\n",
      "ecriture de 9316 lignes  dans ../data/#bresil/data_alimentation/mois_4.csv\n",
      "ecriture de 10544 lignes  dans ../data/#bresil/data_alimentation/mois_5.csv\n",
      "ecriture de 9383 lignes  dans ../data/#bresil/data_alimentation/mois_6.csv\n",
      "ecriture de 10292 lignes  dans ../data/#bresil/data_alimentation/mois_7.csv\n",
      "ecriture de 10810 lignes  dans ../data/#bresil/data_alimentation/mois_8.csv\n",
      "ecriture de 4293 lignes  dans ../data/#bresil/data_alimentation/mois_9.csv\n",
      "ecriture de 4945 lignes  dans ../data/#bresil/data_alimentation/mois_10.csv\n",
      "ecriture de 7521 lignes  dans ../data/#bresil/data_alimentation/mois_11.csv\n",
      "ecriture de 5658 lignes  dans ../data/#bresil/data_alimentation/mois_12.csv\n",
      "end_of_job\n"
     ]
    }
   ],
   "source": [
    "import sys\n",
    "\n",
    "path = \"../outils\"\n",
    "if path not in sys.path :\n",
    "    sys.path.append (path)\n",
    "from validationPath import validationPath\n",
    "\n",
    "Path_ecriture = '../data/#bresil/data_alimentation/'\n",
    "validationPath (Path_ecriture)\n",
    "\n",
    "for mois in range(1, 13) :\n",
    "    path_ecriture = Path_ecriture + 'mois_'+ str(mois) + '.csv'\n",
    "    n = filtrage_copie (mois, position_bresil,\n",
    "                        path_file = './bresil.csv', \n",
    "                        path_ecriture = path_ecriture,)\n",
    "    print ('ecriture de '+ str(n) + ' lignes  dans '+path_ecriture)\n",
    "    \n",
    "    \n",
    "    \n",
    "print ('end_of_job')"
   ]
  },
  {
   "cell_type": "code",
   "execution_count": null,
   "metadata": {},
   "outputs": [],
   "source": []
  },
  {
   "cell_type": "code",
   "execution_count": 9,
   "metadata": {},
   "outputs": [
    {
     "data": {
      "text/plain": [
       "{'environnement': {'parametres_lecture': {'path_fichier': '../data/test/data_alimentation/',\n",
       "   'separateur': '|',\n",
       "   'parametres_execution': {'type_lecteur': 'fichier'}},\n",
       "  'parametres_ecriture': {'path_sortie': '../data/data_sortie/test/',\n",
       "   'parametres_execution': {'type_lecteur': 'fichier'}}},\n",
       " 'alimentation': {'execution': {'dico_ajout': {},\n",
       "   'date_debut_alimentation': '2021-02-01 00:00:00',\n",
       "   'taille_globale': [0, 0],\n",
       "   'index_data': 'data_fake',\n",
       "   'nombre_erreur_max': 0}},\n",
       " 'pas': {'demi_jour': {'liste_execution': []}},\n",
       " 'apprentissage': {'liste_execution': []},\n",
       " 'type': {'ID': {'format': 'standard', 'type': 'string'},\n",
       "  'date_evenement': {'format': 'standard', 'type': 'date'},\n",
       "  'description': {'format': 'standard', 'type': 'string'},\n",
       "  'nomenclature_1': {'format': 'standard', 'type': 'string'},\n",
       "  'nomenclature_2': {'format': 'standard', 'type': 'string'},\n",
       "  'nomenclature_3': {'format': 'standard', 'type': 'string'},\n",
       "  'nomenclature_4': {'format': 'standard', 'type': 'string'},\n",
       "  'prix': {'format': 'standard', 'type': 'numeric'},\n",
       "  'prix_panier': {'format': 'standard', 'type': 'numeric'}},\n",
       " 'position': {'customer_id': 0,\n",
       "  'customer_state': 4,\n",
       "  'customer_unique_id': 1,\n",
       "  'customer_zip_code_prefix': 2,\n",
       "  'freight_value': 19,\n",
       "  'geolocation_lat': 5,\n",
       "  'geolocation_lng': 6,\n",
       "  'geolocation_state': 7,\n",
       "  'order_approved_at': 11,\n",
       "  'order_delivered_carrier_date': 12,\n",
       "  'order_delivered_customer_date': 13,\n",
       "  'order_estimated_delivery_date': 14,\n",
       "  'order_id': 8,\n",
       "  'order_status': 9,\n",
       "  'payment_installments': 33,\n",
       "  'payment_sequential': 31,\n",
       "  'payment_type': 32,\n",
       "  'payment_value': 34,\n",
       "  'price': 18,\n",
       "  'product_category_name': 20,\n",
       "  'product_category_name_english': 28,\n",
       "  'product_description_lenght': 22,\n",
       "  'product_height_cm': 26,\n",
       "  'product_id': 15,\n",
       "  'product_length_cm': 25,\n",
       "  'product_name_lenght': 21,\n",
       "  'product_photos_qty': 23,\n",
       "  'product_weight_g': 24,\n",
       "  'product_width_cm': 27,\n",
       "  'review_answer_timestamp': 39,\n",
       "  'review_comment_message': 37,\n",
       "  'review_comment_title': 36,\n",
       "  'review_creation_date': 38,\n",
       "  'review_score': 35,\n",
       "  'seller_city': 29,\n",
       "  'seller_id': 16,\n",
       "  'seller_state': 30,\n",
       "  'shipping_limit_date': 17,\n",
       "  'ID': 3,\n",
       "  'date_evenement': 10},\n",
       " 'creation_dictionnaire': {'ID': {'travail': None, 'parametres': []},\n",
       "  'date_evenement': {'travail': 'date', 'parametres': []},\n",
       "  'description': {'travail': 'analyse_mot',\n",
       "   'parametres': [{'format': 'standard'}]},\n",
       "  'nomenclature_1': {'travail': 'analyse_mot',\n",
       "   'parametres': [{'format': 'standard'}]},\n",
       "  'nomenclature_2': {'travail': 'analyse_mot',\n",
       "   'parametres': [{'format': 'standard'}]},\n",
       "  'nomenclature_3': {'travail': 'analyse_mot',\n",
       "   'parametres': [{'format': 'standard'}]},\n",
       "  'nomenclature_4': {'travail': 'analyse_mot',\n",
       "   'parametres': [{'format': 'standard'}]},\n",
       "  'prix': {'travail': 'quantile',\n",
       "   'parametres': [{'type': 'quartile'},\n",
       "    {'type': 'decile'},\n",
       "    {'type': 'manuel',\n",
       "     'nom_manuel': 'manuel1',\n",
       "     'separateurs': [10.0, 20.0, 100.0]}]},\n",
       "  'prix_panier': {'travail': 'quantile',\n",
       "   'parametres': [{'type': 'quartile'}]}},\n",
       " 'dictionnaire': {'ID': {'travail': None, 'parametres': []},\n",
       "  'date_evenement': {'travail': 'date',\n",
       "   'parametres': [{'type': 'demi_jour'},\n",
       "    {'type': 'jour'},\n",
       "    {'type': 'semaine'},\n",
       "    {'type': 'mois'},\n",
       "    {'type': 'annee'},\n",
       "    {'type': 'ferie'}]},\n",
       "  'description': {'travail': 'analyse_mot',\n",
       "   'parametres': [{'type': 'standard'}]},\n",
       "  'nomenclature_1': {'travail': 'analyse_mot',\n",
       "   'parametres': [{'type': 'standard'}]},\n",
       "  'nomenclature_2': {'travail': 'analyse_mot',\n",
       "   'parametres': [{'type': 'standard'}]},\n",
       "  'nomenclature_3': {'travail': 'analyse_mot',\n",
       "   'parametres': [{'type': 'standard'}]},\n",
       "  'nomenclature_4': {'travail': 'analyse_mot',\n",
       "   'parametres': [{'type': 'standard'}]},\n",
       "  'prix': {'travail': 'quantile',\n",
       "   'parametres': [{'type': 'quartile'},\n",
       "    {'type': 'decile'},\n",
       "    {'type': 'manuel',\n",
       "     'nom_manuel': 'manuel1',\n",
       "     'separateurs': [10.0, 20.0, 10.0]}]},\n",
       "  'prix_panier': {'travail': 'quantile',\n",
       "   'parametres': [{'type': 'quartile'}],\n",
       "   'en_tete': 'commande_',\n",
       "   'pathFile': '../data/test/commandes.json'}}}"
      ]
     },
     "execution_count": 9,
     "metadata": {},
     "output_type": "execute_result"
    }
   ],
   "source": [
    "import sys\n",
    "\n",
    "path = \"../outils\"\n",
    "if path not in sys.path :\n",
    "    sys.path.append (path)\n",
    "    \n",
    "from PARAMETRAGES import Update_create__environnement\n",
    "\n",
    "v_type = {}\n",
    "\n",
    "for nom_zone in dico_bresil_reel.keys() :\n",
    "    if nom_zone == 'ID' :\n",
    "        v_type ['ID'] = {'format' : 'standard' , 'type' : 'string'}\n",
    "    if nom_zone == 'date_evenement' :\n",
    "        v_type ['date_evenement'] = {'format' : None , 'type' : 'date'}\n",
    "    \n",
    "        \n",
    "\n",
    "\n",
    "\n",
    "nom_environnement = 'bresil'\n",
    "dico_evenements = Update_create__environnement (nom_environnement,\n",
    "                                                v_type = v_type,\n",
    "                                                position = dico_bresil_reel)"
   ]
  },
  {
   "cell_type": "markdown",
   "metadata": {},
   "source": [
    "# creation des fichiers par mois \n"
   ]
  },
  {
   "cell_type": "code",
   "execution_count": 6,
   "metadata": {},
   "outputs": [
    {
     "ename": "NameError",
     "evalue": "name 'time' is not defined",
     "output_type": "error",
     "traceback": [
      "\u001b[0;31m---------------------------------------------------------------------------\u001b[0m",
      "\u001b[0;31mNameError\u001b[0m                                 Traceback (most recent call last)",
      "\u001b[0;32m<ipython-input-6-6174c077d492>\u001b[0m in \u001b[0;36m<module>\u001b[0;34m\u001b[0m\n\u001b[1;32m     35\u001b[0m \u001b[0;34m\u001b[0m\u001b[0m\n\u001b[1;32m     36\u001b[0m \u001b[0;32mif\u001b[0m \u001b[0m__name__\u001b[0m \u001b[0;34m==\u001b[0m \u001b[0;34m'__main__'\u001b[0m \u001b[0;34m:\u001b[0m\u001b[0;34m\u001b[0m\u001b[0;34m\u001b[0m\u001b[0m\n\u001b[0;32m---> 37\u001b[0;31m     \u001b[0mt\u001b[0m \u001b[0;34m=\u001b[0m \u001b[0mtime\u001b[0m\u001b[0;34m.\u001b[0m\u001b[0mtime\u001b[0m\u001b[0;34m(\u001b[0m\u001b[0;34m)\u001b[0m\u001b[0;34m\u001b[0m\u001b[0;34m\u001b[0m\u001b[0m\n\u001b[0m\u001b[1;32m     38\u001b[0m     \u001b[0mmois\u001b[0m \u001b[0;34m=\u001b[0m \u001b[0;36m1\u001b[0m\u001b[0;34m\u001b[0m\u001b[0;34m\u001b[0m\u001b[0m\n\u001b[1;32m     39\u001b[0m     n = filtrage_copie (mois, dico_bresil_reel,\n",
      "\u001b[0;31mNameError\u001b[0m: name 'time' is not defined"
     ]
    }
   ],
   "source": [
    "  "
   ]
  },
  {
   "cell_type": "raw",
   "metadata": {},
   "source": [
    "\n"
   ]
  },
  {
   "cell_type": "code",
   "execution_count": null,
   "metadata": {},
   "outputs": [],
   "source": [
    "    "
   ]
  },
  {
   "cell_type": "markdown",
   "metadata": {},
   "source": [
    "# detection des dates en mode automatique "
   ]
  },
  {
   "cell_type": "code",
   "execution_count": 4,
   "metadata": {},
   "outputs": [
    {
     "ename": "FileNotFoundError",
     "evalue": "[Errno 2] No such file or directory: '../data/#bresil/data_alimentation/'",
     "output_type": "error",
     "traceback": [
      "\u001b[0;31m---------------------------------------------------------------------------\u001b[0m",
      "\u001b[0;31mFileNotFoundError\u001b[0m                         Traceback (most recent call last)",
      "\u001b[0;32m<ipython-input-4-38829f37ae18>\u001b[0m in \u001b[0;36m<module>\u001b[0;34m\u001b[0m\n\u001b[1;32m      7\u001b[0m \u001b[0mshutil\u001b[0m\u001b[0;34m.\u001b[0m\u001b[0mrmtree\u001b[0m\u001b[0;34m(\u001b[0m\u001b[0mPath_lecture\u001b[0m\u001b[0;34m,\u001b[0m \u001b[0mignore_errors\u001b[0m\u001b[0;34m=\u001b[0m\u001b[0;32mFalse\u001b[0m\u001b[0;34m,\u001b[0m \u001b[0monerror\u001b[0m\u001b[0;34m=\u001b[0m\u001b[0;32mNone\u001b[0m\u001b[0;34m)\u001b[0m\u001b[0;34m\u001b[0m\u001b[0;34m\u001b[0m\u001b[0m\n\u001b[1;32m      8\u001b[0m \u001b[0;34m\u001b[0m\u001b[0m\n\u001b[0;32m----> 9\u001b[0;31m \u001b[0mos\u001b[0m\u001b[0;34m.\u001b[0m\u001b[0mlistdir\u001b[0m \u001b[0;34m(\u001b[0m\u001b[0mPath_lecture\u001b[0m\u001b[0;34m)\u001b[0m\u001b[0;34m\u001b[0m\u001b[0;34m\u001b[0m\u001b[0m\n\u001b[0m\u001b[1;32m     10\u001b[0m \u001b[0;34m\u001b[0m\u001b[0m\n\u001b[1;32m     11\u001b[0m \u001b[0;34m\u001b[0m\u001b[0m\n",
      "\u001b[0;31mFileNotFoundError\u001b[0m: [Errno 2] No such file or directory: '../data/#bresil/data_alimentation/'"
     ]
    }
   ],
   "source": [
    "\n",
    "\n",
    "\n"
   ]
  },
  {
   "cell_type": "code",
   "execution_count": null,
   "metadata": {},
   "outputs": [],
   "source": []
  }
 ],
 "metadata": {
  "kernelspec": {
   "display_name": "Patrick",
   "language": "python",
   "name": "patrick"
  },
  "language_info": {
   "codemirror_mode": {
    "name": "ipython",
    "version": 3
   },
   "file_extension": ".py",
   "mimetype": "text/x-python",
   "name": "python",
   "nbconvert_exporter": "python",
   "pygments_lexer": "ipython3",
   "version": "3.9.1"
  }
 },
 "nbformat": 4,
 "nbformat_minor": 5
}
