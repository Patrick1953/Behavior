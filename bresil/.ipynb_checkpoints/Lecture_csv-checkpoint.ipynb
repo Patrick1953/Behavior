{
 "cells": [
  {
   "cell_type": "code",
   "execution_count": 7,
   "metadata": {},
   "outputs": [],
   "source": [
    "#%save Lecture_csv.py 5"
   ]
  },
  {
   "cell_type": "code",
   "execution_count": 5,
   "metadata": {},
   "outputs": [],
   "source": [
    "import csv\n",
    "\n",
    "class Lecture_csv ():\n",
    "    \n",
    "    def __init__ (self, path, nameFile ):\n",
    "        \n",
    "        self.pathFile = path + nameFile\n",
    "        \n",
    "    def read (self,) :\n",
    "        liste = []\n",
    "        with open(self.pathFile, newline='') as csvfile:\n",
    "            reader = csv.DictReader(csvfile)\n",
    "            for row in reader:\n",
    "                liste.append (row)\n",
    "                \n",
    "        return liste\n",
    "    \n",
    "    def read_iterator (self,) :\n",
    "        with open(self.pathFile, newline='') as csvfile:\n",
    "            reader = csv.DictReader(csvfile)\n",
    "            for row in reader:\n",
    "                yield row\n",
    "        \n",
    "\n",
    "    \n",
    "    "
   ]
  },
  {
   "cell_type": "code",
   "execution_count": 8,
   "metadata": {},
   "outputs": [],
   "source": [
    "#%save test_lecture_csv.py 6"
   ]
  },
  {
   "cell_type": "code",
   "execution_count": 1,
   "metadata": {},
   "outputs": [
    {
     "name": "stdout",
     "output_type": "stream",
     "text": [
      "fin test_lecture_csv en  0.3840467929840088\n"
     ]
    }
   ],
   "source": [
    "import time\n",
    "\n",
    "from Lecture_csv import Lecture_csv\n",
    "\n",
    "def test_lecture_csv () :\n",
    "    \n",
    "    path = '../bresil/'\n",
    "    namefile =  'olist_customers_dataset.csv'\n",
    "\n",
    "    L = Lecture_csv (path, namefile)\n",
    "\n",
    "    resultat = L.read() [0]\n",
    "    \n",
    "    voulu = {'customer_id': '06b8999e2fba1a1fbc88172c00ba8bc7',\n",
    " 'customer_unique_id': '861eff4711a542e4b93843c6dd7febb0',\n",
    " 'customer_zip_code_prefix': '14409',\n",
    " 'customer_city': 'franca',\n",
    " 'customer_state': 'SP'}\n",
    "    \n",
    "    assert voulu == resultat\n",
    "    \n",
    "    nombre = 0\n",
    "    for d in L.read_iterator () :\n",
    "        nombre += 1\n",
    "    assert nombre == 99441\n",
    "    \n",
    "    \n",
    "if __name__ == '__main__' :\n",
    "    t = time.time()\n",
    "    test_lecture_csv ()\n",
    "    print ('fin test_lecture_csv en ', time.time () - t)    "
   ]
  },
  {
   "cell_type": "code",
   "execution_count": null,
   "metadata": {},
   "outputs": [],
   "source": []
  },
  {
   "cell_type": "code",
   "execution_count": null,
   "metadata": {},
   "outputs": [],
   "source": []
  }
 ],
 "metadata": {
  "kernelspec": {
   "display_name": "Patrick",
   "language": "python",
   "name": "patrick"
  },
  "language_info": {
   "codemirror_mode": {
    "name": "ipython",
    "version": 3
   },
   "file_extension": ".py",
   "mimetype": "text/x-python",
   "name": "python",
   "nbconvert_exporter": "python",
   "pygments_lexer": "ipython3",
   "version": "3.9.1"
  }
 },
 "nbformat": 4,
 "nbformat_minor": 5
}
