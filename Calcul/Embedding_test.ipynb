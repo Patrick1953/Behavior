{
 "cells": [
  {
   "cell_type": "code",
   "execution_count": 87,
   "id": "parallel-calculator",
   "metadata": {},
   "outputs": [
    {
     "name": "stdout",
     "output_type": "stream",
     "text": [
      "Collecting elasticsearch\n",
      "  Downloading elasticsearch-7.11.0-py2.py3-none-any.whl (325 kB)\n",
      "\u001b[K     |████████████████████████████████| 325 kB 7.8 MB/s eta 0:00:01\n",
      "\u001b[?25hRequirement already satisfied: certifi in /home/patrick/anaconda3/lib/python3.7/site-packages (from elasticsearch) (2020.12.5)\n",
      "Requirement already satisfied: urllib3<2,>=1.21.1 in /home/patrick/anaconda3/lib/python3.7/site-packages (from elasticsearch) (1.26.3)\n",
      "Installing collected packages: elasticsearch\n",
      "Successfully installed elasticsearch-7.11.0\n"
     ]
    }
   ],
   "source": [
    "!python -m pip install elasticsearch"
   ]
  },
  {
   "cell_type": "code",
   "execution_count": 1,
   "id": "waiting-translator",
   "metadata": {},
   "outputs": [
    {
     "data": {
      "text/plain": [
       "''"
      ]
     },
     "execution_count": 1,
     "metadata": {},
     "output_type": "execute_result"
    }
   ],
   "source": [
    "'''\n",
    "embedding non supervise + corpus sur disque .....\n",
    "pip install --upgrade gensim \n",
    "\n",
    "\n",
    "Implementation (algo mikolov)\n",
    "\n",
    "PV-DM is consistently better than PV-DBOW. PVDM alone can achieve results close to many results\n",
    "in this paper (see Table 2). For example, in IMDB,\n",
    "PV-DM only achieves 7.63%. The combination of\n",
    "PV-DM and PV-DBOW often work consistently better (7.42% in IMDB) and therefore recommended.\n",
    "• Using concatenation in PV-DM is often better than\n",
    "sum. In IMDB, PV-DM with sum can only achieve\n",
    "8.06%. Perhaps, this is because the model loses the\n",
    "ordering information.\n",
    "• It’s better to cross validate the window size. A good\n",
    "guess of window size in many applications is between\n",
    "5 and 12. In IMDB, varying the window sizes between\n",
    "5 and 12 causes the error rate to fluctuate 0.7%.\n",
    "• Paragraph Vector can be expensive, but it can be done\n",
    "in parallel at test time. On average, our implementation takes 30 minutes to compute the paragraph vectors of the IMDB test set, using a 16 core machine\n",
    "(25,000 documents, each document on average has\n",
    "230 words).\n",
    "\n",
    "There are two implementations:\n",
    "\n",
    "Paragraph Vector - Distributed Memory (PV-DM)\n",
    "\n",
    "Paragraph Vector - Distributed Bag of Words (PV-DBOW)\n",
    "\n",
    "PV-DM is analogous to Word2Vec CBOW. The doc-vectors are obtained by training a neural network\n",
    "on the synthetic task of predicting a center word based an average of both context word-vectors\n",
    "and the full document’s doc-vector.\n",
    "\n",
    "PV-DBOW is analogous to Word2Vec SG. The doc-vectors are obtained by training a neural network\n",
    "on the synthetic task of predicting a target word just from the full document’s doc-vector.\n",
    "(It is also common to combine this with skip-gram testing, using both the doc-vector and nearby word-vectors\n",
    "to predict a single target word, but only one at a time.)\n",
    "\n",
    "dm ({1,0}, optional) – Defines the training algorithm. If dm=1, ‘distributed memory’ (PV-DM) is used. \n",
    "Otherwise, distributed bag of words (PV-DBOW) is employed.\n",
    "\n",
    "Note: dm defines the training algorithm. If dm=1 means ‘distributed memory’ (PV-DM)\n",
    "and dm =0 means ‘distributed bag of words’ (PV-DBOW).\n",
    "Distributed Memory model preserves the word order in a document \n",
    "whereas Distributed Bag of words just uses the bag of words approach, which doesn’t preserve any word order.\n",
    "\n",
    "'''\n",
    "\n",
    "''"
   ]
  },
  {
   "cell_type": "code",
   "execution_count": 2,
   "id": "employed-lawrence",
   "metadata": {},
   "outputs": [
    {
     "data": {
      "text/plain": [
       "''"
      ]
     },
     "execution_count": 2,
     "metadata": {},
     "output_type": "execute_result"
    }
   ],
   "source": [
    "'''\n",
    "\n",
    "Gensim fournit également une fonction pour un prétraitement plus efficace du corpus. Dans ce type de prétraitement, nous pouvons convertir un document en une liste de jetons minuscules. Nous pouvons également ignorer les jetons qui sont trop courts ou trop longs. Une telle fonction est gensim.utils.simple_preprocess (doc, deacc = False, min_len = 2, max_len = 15) .\n",
    "\n",
    "gensim. utils.simple_preprocess () fucntion\n",
    "\n",
    "Gensim fournit cette fonction pour convertir un document en une liste de les jetons minuscules\n",
    "et aussi pour ignorer les jetons trop courts ou trop longs. Il a les paramètres suivants -\n",
    "\n",
    "doc (str)\n",
    "Il fait référence au document d'entrée sur lequel le prétraitement doit être appliqué.\n",
    "\n",
    "deacc (booléen, facultatif)\n",
    "Ce paramètre est utilisé pour supprimer les marques d'accentuation des jetons. \n",
    "Il utilise deaccent () pour ce faire.\n",
    "\n",
    "min_len (int, facultatif)\n",
    "Avec l'aide de ce paramètre, nous pouvons définir la longueur minimale de un jeton. Les jetons plus courts que la longueur définie seront supprimés.\n",
    "\n",
    "max_len (int, facultatif)\n",
    "Avec l'aide de ce paramètre, nous pouvons définir la longueur maximale d'un jeton.\n",
    "Les jetons plus longs que la longueur définie seront supprimés.\n",
    "\n",
    "La sortie de cette fonction serait les jetons extraits du document d'entrée.\n",
    "\n",
    "import corpora \n",
    "dictionary = corpora.Dictionary (processor_corpus)\n",
    "print (dictionnaire)\n",
    "\n",
    "donne\n",
    "Dictionnaire (25 jetons uniques: [ 'ordinateur ', 'opinion ', 'réponse ' ' , 'survey ', 'system '] ...)\n",
    "Cela montre que dans notre corpus il y a 25 différences ent tokens dans ce gensim.corpora.Dictionary.\n",
    "\n",
    "Nous pouvons utiliser le dictionnaire pour transformer des documents tokenisés\n",
    "en ces vecteurs à 5 dimension comme suit -de 0 à 25 (trivial )\n",
    "\n",
    "pprint.pprint (dictionary.token2id)\n",
    "ce qui donne { ' binaire ': 11, ' ordinateur ': 0, ' erreur ': 7, ' génération ': 12, ' graphique ': 16, \n",
    "' intersection ': 17, ' iv ': 19, ' mesure ': 8, ' mineurs ': 20, ' opinion ': 1, ' ordre ': 21,\n",
    "' chemins ': 18, ' perçu ': 9, 'quasi ': 22, 'random ': 13, 'relation ': 10, 'response ': 2,\n",
    "'survey ': 3, 'system ': 4, 'heure ': 5, 'arbres ': 14, 'unordered ': 15, 'utilisateur ': 6,\n",
    "'puits ': 23, 'largeurs ': 24}\n",
    "\n",
    "Et de la même manière, nous pouvons créer la représentation sac de mots pour un document comme suit -\n",
    "\n",
    "BoW_corpus = [dictionary.doc2bow (text) for text in processor_corpus]\n",
    "ce qui donne\n",
    "\n",
    "pprint.pprint (BoW_corpus)\n",
    "Et de la même manière, nous pouvons créer la représentation sac de mots pour un document comme suit -\n",
    "[[(0, 1), (1, 1), (2, 1), (3, 1), (4, 1), (5, 1), (6, 1)],\n",
    "[(2, 1), (5, 1), (6, 1), (7, 1), (8, 1), (9, 1),(10, 1)],\n",
    "[(11, 1) , (12, 1), (13, 1), (14, 1), (15, 1)],\n",
    "[(14, 1), (16, 1), (17, 1), (18, 1) ]\n",
    ", [(14, 1), (16, 1), (19, 1), (20, 1), (21, 1), (22, 1), (23, 1), (24, 1) ],\n",
    "]\n",
    "tf-idf modèle transformer la chaîne «tree graph».\n",
    "\n",
    "\n",
    "exemple \n",
    "text_tokens = [[texte pour texte dans doc.split ()] pour doc dans doc]\n",
    "dict_LoS = corpora.Dictionary (text_tokens)\n",
    "\n",
    "'''\n",
    "\n",
    "\"\""
   ]
  },
  {
   "cell_type": "code",
   "execution_count": 3,
   "id": "pleased-conditioning",
   "metadata": {},
   "outputs": [
    {
     "data": {
      "text/plain": [
       "''"
      ]
     },
     "execution_count": 3,
     "metadata": {},
     "output_type": "execute_result"
    }
   ],
   "source": [
    "\"\"\"\n",
    "Créer un corpus BoW (bag of word)\n",
    "Dans Gensim, le corpus contient le mot id et son fréquence dans chaque document.\n",
    "Nous pouvons créer un corpus BoW à partir d'une simple liste de documents et de fichiers texte.\n",
    "Ce que nous devons faire est de transmettre la liste de mots tokenisés à l'objet nommé Dictionary.doc2bow () .\n",
    "\n",
    "\n",
    "\"\"\"\n",
    "\n",
    "\"\""
   ]
  },
  {
   "cell_type": "code",
   "execution_count": 4,
   "id": "finite-holmes",
   "metadata": {},
   "outputs": [
    {
     "data": {
      "text/plain": [
       "''"
      ]
     },
     "execution_count": 4,
     "metadata": {},
     "output_type": "execute_result"
    }
   ],
   "source": [
    "\"\"\"\n",
    "nettoyage Anglais \n",
    "Nous devons maintenant importer les mots vides et utilisez-les -\n",
    "\n",
    "from nltk.corpus import stopwords\n",
    "stop_words = stopwords.words ( 'english ')\n",
    "stop_words.extend ([ 'from ', 'subject ', ' re ', ' edu ', ' use '])\n",
    "\n",
    "\n",
    "\n",
    "\"\"\"\n",
    "\"\""
   ]
  },
  {
   "cell_type": "code",
   "execution_count": null,
   "id": "assumed-works",
   "metadata": {},
   "outputs": [],
   "source": []
  },
  {
   "cell_type": "code",
   "execution_count": 5,
   "id": "blocked-going",
   "metadata": {},
   "outputs": [
    {
     "data": {
      "text/plain": [
       "''"
      ]
     },
     "execution_count": 5,
     "metadata": {},
     "output_type": "execute_result"
    }
   ],
   "source": [
    "\"\"\"\n",
    "reduire pour affichage\n",
    "Tracer des vecteurs de mots à l'aide de PCA\n",
    "Tout d'abord, nous devons récupérer tous les vecteurs d'un modèle entraîné comme suit -\n",
    "\n",
    "Z = model [model.wv.vocab]\n",
    "\n",
    "Ensuite, nous devons créer un modèle PCA 2D de vecteurs de mots en utilisant la classe PCA comme suit -\n",
    "\n",
    "pca = PCA (n_components = 2)\n",
    "result = pca.fit_transform (Z)\n",
    "\n",
    "Maintenant, nous pouvons tracer la projection résultante en utilisant le matplotlib comme suit -\n",
    "\n",
    "Pyplot.scatter (result [:, 0], result [:, 1])\n",
    "\n",
    "On peut aussi annoter les points sur le graphique avec les mots lui-même.\n",
    "Tracez la projection résultante en utilisant le matplotlib comme suit -\n",
    "\n",
    "words = list (model.wv.vocab)\n",
    "for i, word in enumerate (words):\n",
    "    pyplot.annotate ( word, xy = (result [i, 0], result [i, 1]))\n",
    "    \n",
    "\n",
    "\n",
    "\n",
    "\"\"\"\n",
    "\n",
    "\"\""
   ]
  },
  {
   "cell_type": "code",
   "execution_count": null,
   "id": "young-denial",
   "metadata": {},
   "outputs": [],
   "source": []
  },
  {
   "cell_type": "code",
   "execution_count": 6,
   "id": "electoral-indication",
   "metadata": {},
   "outputs": [
    {
     "data": {
      "text/plain": [
       "''"
      ]
     },
     "execution_count": 6,
     "metadata": {},
     "output_type": "execute_result"
    }
   ],
   "source": [
    "\"\"\"\n",
    "Former le Doc2Vec\n",
    "Pour entraîner le modèle, nous avons besoin du document balisé qui peut être créé en utilisant\n",
    "models.doc2vec.TaggedDcument ( ) comme suit -\n",
    "\n",
    "def tagged_document (list_of_list_of_words):\n",
    "    pour i, list_of_words dans enumerate (list_of_list_of_words):\n",
    "\n",
    "        yield gensim.models.doc2vec.TaggedDocument (list_of_words, [i])\n",
    "    \n",
    "    \n",
    "data_for_training = list (tagged_document (data))\n",
    "\n",
    "\n",
    "\"\"\"\n",
    "\n",
    "\"\""
   ]
  },
  {
   "cell_type": "code",
   "execution_count": 7,
   "id": "retained-least",
   "metadata": {},
   "outputs": [
    {
     "data": {
      "text/plain": [
       "''"
      ]
     },
     "execution_count": 7,
     "metadata": {},
     "output_type": "execute_result"
    }
   ],
   "source": [
    "\"\"\"\n",
    "Un fichiers (on peut anchainer les fichiers ....)\n",
    "\n",
    "class MySentences(object):\n",
    "    def __init__(self, dirname):\n",
    "        self.dirname = dirname\n",
    " \n",
    "    def __iter__(self):\n",
    "        for fname in os.listdir(self.dirname):\n",
    "            for line in open(os.path.join(self.dirname, fname)):\n",
    "                yield line.split()\n",
    " \n",
    "sentences = MySentences('/some/directory') # a memory-friendly iterable\n",
    "model = gensim.models.Word2Vec(sentences)\n",
    "\n",
    "\n",
    "ou\n",
    "\n",
    "class MyCorpus(object):\n",
    "    def __iter__(self):\n",
    "    for line in open('mycorpus.txt'):\n",
    "        # assume there's one document per line, tokens separated by whitespace\n",
    "        yield dictionary.doc2bow(line.lower().split())\n",
    "\"\"\"\n",
    "\"\""
   ]
  },
  {
   "cell_type": "code",
   "execution_count": null,
   "id": "circular-looking",
   "metadata": {},
   "outputs": [],
   "source": []
  },
  {
   "cell_type": "code",
   "execution_count": 8,
   "id": "nonprofit-surname",
   "metadata": {},
   "outputs": [
    {
     "data": {
      "text/plain": [
       "''"
      ]
     },
     "execution_count": 8,
     "metadata": {},
     "output_type": "execute_result"
    }
   ],
   "source": [
    "\"\"\"\n",
    "class exemple\n",
    "\n",
    "class Doc2VecTrainer(object):\n",
    "    def __init__(self, train_corpus):\n",
    "        self.train_corpus = train_corpus\n",
    "\n",
    "    def run(self):\n",
    "        print('app started')\n",
    "\n",
    "        cores = multiprocessing.cpu_count()\n",
    "        print('num of cores is %s' % cores)\n",
    "        gc.collect()\n",
    "        if load_existing:\n",
    "            print('loading an exiting model')\n",
    "            model = Doc2Vec.load(PATH_TO_EXISTING_MODEL)\n",
    "        else:\n",
    "            print('reading training corpus from %s' % self.train_corpus)\n",
    "            corpus_data = MyCorpus(self.train_corpus)\n",
    "            \n",
    "            model = Doc2Vec(size=model_dimensions, window=10, min_count=3, sample=1e-4, negative=5, workers=cores, dm=1)\n",
    "            print('building vocabulary...')\n",
    "            model.build_vocab(corpus_data)\n",
    "\n",
    "            model.train(corpus_data, total_examples=model.corpus_count, epochs=20)\n",
    "            \n",
    "            model.save(doc2vec_model)\n",
    "            model.save_word2vec_format(word2vec_model)\n",
    "\n",
    "        print('total docs learned %s' % (len(model.docvecs)))\n",
    "\n",
    "\"\"\"\n",
    "\"\""
   ]
  },
  {
   "cell_type": "code",
   "execution_count": null,
   "id": "novel-malawi",
   "metadata": {},
   "outputs": [],
   "source": []
  },
  {
   "cell_type": "code",
   "execution_count": 9,
   "id": "municipal-threat",
   "metadata": {},
   "outputs": [
    {
     "data": {
      "text/plain": [
       "''"
      ]
     },
     "execution_count": 9,
     "metadata": {},
     "output_type": "execute_result"
    }
   ],
   "source": [
    "\"\"\"\n",
    "similarite cos\n",
    "\n",
    "from gensim.matutils import softcossim\n",
    "from gensim import corpora\n",
    "\n",
    "sent_1 = 'Sachin is a cricket player and a opening batsman'.split()\n",
    "sent_2 = 'Dhoni is a cricket player too He is a batsman and keeper'.split()\n",
    "sent_3 = 'Anand is a chess player'.split()\n",
    "\n",
    "# Prepare the similarity matrix\n",
    "similarity_matrix = fasttext_model300.similarity_matrix(dictionary, tfidf=None,\n",
    "                                                        threshold=0.0, exponent=2.0, nonzero_limit=100)\n",
    "\n",
    "# Prepare a dictionary and a corpus.\n",
    "documents = [sent_1, sent_2, sent_3]\n",
    "dictionary = corpora.Dictionary(documents)\n",
    "\n",
    "# Convert the sentences into bag-of-words vectors.\n",
    "sent_1 = dictionary.doc2bow(sent_1)\n",
    "sent_2 = dictionary.doc2bow(sent_2)\n",
    "sent_3 = dictionary.doc2bow(sent_3)\n",
    "\n",
    "# Compute soft cosine similarity\n",
    "print(softcossim(sent_1, sent_2, similarity_matrix))\n",
    "#> 0.7868705819999783\n",
    "\n",
    "print(softcossim(sent_1, sent_3, similarity_matrix))\n",
    "#> 0.6036445529268666\n",
    "\n",
    "print(softcossim(sent_2, sent_3, similarity_matrix))\n",
    "#> 0.60965453519611\n",
    "\n",
    "ou encore\n",
    "# Compute cosine distance between two words.\n",
    "print(fasttext_model300.distance('king', 'queen'))\n",
    "#> 0.22957539558410645\n",
    "\n",
    "\n",
    "# Compute cosine distances from given word or vector to all words in `other_words`.\n",
    "print(fasttext_model300.distances('king', ['queen', 'man', 'woman']))\n",
    "#> [0.22957546 0.465837   0.547001  ]\n",
    "\n",
    "\n",
    "\"\"\"\n",
    "\"\""
   ]
  },
  {
   "cell_type": "code",
   "execution_count": null,
   "id": "forty-uganda",
   "metadata": {},
   "outputs": [],
   "source": []
  },
  {
   "cell_type": "code",
   "execution_count": 10,
   "id": "featured-suite",
   "metadata": {},
   "outputs": [
    {
     "data": {
      "text/plain": [
       "''"
      ]
     },
     "execution_count": 10,
     "metadata": {},
     "output_type": "execute_result"
    }
   ],
   "source": [
    "\"\"\"\n",
    "ajout de nouvelle donnee\n",
    "\n",
    "# Update the model with new data.\n",
    "model.build_vocab(data_part2, update=True)\n",
    "\n",
    "model.train(data_part2, total_examples=model.corpus_count, epochs=model.iter)\n",
    "\n",
    "\n",
    "\n",
    "\"\"\"\n",
    "\n",
    "\n",
    "\"\""
   ]
  },
  {
   "cell_type": "code",
   "execution_count": null,
   "id": "stuck-subcommittee",
   "metadata": {},
   "outputs": [],
   "source": []
  },
  {
   "cell_type": "code",
   "execution_count": 11,
   "id": "described-greece",
   "metadata": {},
   "outputs": [
    {
     "data": {
      "text/plain": [
       "''"
      ]
     },
     "execution_count": 11,
     "metadata": {},
     "output_type": "execute_result"
    }
   ],
   "source": [
    "\"\"\"\n",
    "amelioration  qualite faire BoG and DM\n",
    "\n",
    "Le and Mikolov note that combining a paragraph vector from Distributed Bag of Words (DBOW)\n",
    "and Distributed Memory (DM) improves performance. \n",
    "We will follow, pairing the models together for evaluation.\n",
    "Here, we concatenate the paragraph vectors obtained from each model with the help of a thin wrapper class\n",
    "included in a gensim test module.\n",
    "(Note that this a separate, later concatenation of output-vectors\n",
    "than the kind of input-window-concatenation enabled by the dm_concat=1 mode above.)\n",
    "\n",
    "\n",
    "from gensim.test.test_doc2vec import ConcatenatedDoc2Vec\n",
    "\n",
    "models_by_name['dbow+dmm'] = ConcatenatedDoc2Vec([simple_models[0], simple_models[1]])\n",
    "models_by_name['dbow+dmc'] = ConcatenatedDoc2Vec([simple_models[0], simple_models[2]])\n",
    "\n",
    "\n",
    "\n",
    "\n",
    "\n",
    "\n",
    "\n",
    "\"\"\"\n",
    "\n",
    "\"\""
   ]
  },
  {
   "cell_type": "code",
   "execution_count": 17,
   "id": "knowing-mother",
   "metadata": {},
   "outputs": [
    {
     "data": {
      "text/plain": [
       "sys.version_info(major=3, minor=7, micro=10, releaselevel='final', serial=0)"
      ]
     },
     "execution_count": 17,
     "metadata": {},
     "output_type": "execute_result"
    }
   ],
   "source": [
    "import sys, os\n",
    "sys.version_info"
   ]
  },
  {
   "cell_type": "code",
   "execution_count": 21,
   "id": "tamil-speaker",
   "metadata": {},
   "outputs": [],
   "source": [
    "import gensim"
   ]
  },
  {
   "cell_type": "code",
   "execution_count": 90,
   "id": "balanced-target",
   "metadata": {},
   "outputs": [
    {
     "name": "stdout",
     "output_type": "stream",
     "text": [
      "iteration 0\n",
      "iteration 1\n",
      "iteration 2\n",
      "iteration 3\n",
      "iteration 4\n",
      "iteration 5\n",
      "iteration 6\n",
      "iteration 7\n",
      "iteration 8\n",
      "iteration 9\n",
      "iteration 10\n",
      "iteration 11\n",
      "iteration 12\n",
      "iteration 13\n",
      "iteration 14\n",
      "iteration 15\n",
      "iteration 16\n",
      "iteration 17\n",
      "iteration 18\n",
      "iteration 19\n",
      "iteration 20\n",
      "iteration 21\n",
      "iteration 22\n",
      "iteration 23\n",
      "iteration 24\n",
      "iteration 25\n",
      "iteration 26\n",
      "iteration 27\n",
      "iteration 28\n",
      "iteration 29\n",
      "iteration 30\n",
      "iteration 31\n",
      "iteration 32\n",
      "iteration 33\n",
      "iteration 34\n",
      "iteration 35\n",
      "iteration 36\n",
      "iteration 37\n",
      "iteration 38\n",
      "iteration 39\n",
      "iteration 40\n",
      "iteration 41\n",
      "iteration 42\n",
      "iteration 43\n",
      "iteration 44\n",
      "iteration 45\n",
      "iteration 46\n",
      "iteration 47\n"
     ]
    },
    {
     "name": "stderr",
     "output_type": "stream",
     "text": [
      "/home/patrick/anaconda3/lib/python3.7/site-packages/ipykernel_launcher.py:36: DeprecationWarning: Call to deprecated `iter` (Attribute will be removed in 4.0.0, use self.epochs instead).\n"
     ]
    },
    {
     "name": "stdout",
     "output_type": "stream",
     "text": [
      "iteration 48\n",
      "iteration 49\n",
      "iteration 50\n",
      "iteration 51\n",
      "iteration 52\n",
      "iteration 53\n",
      "iteration 54\n",
      "iteration 55\n",
      "iteration 56\n",
      "iteration 57\n",
      "iteration 58\n",
      "iteration 59\n",
      "iteration 60\n",
      "iteration 61\n",
      "iteration 62\n",
      "iteration 63\n",
      "iteration 64\n",
      "iteration 65\n",
      "iteration 66\n",
      "iteration 67\n",
      "iteration 68\n",
      "iteration 69\n",
      "iteration 70\n",
      "iteration 71\n",
      "iteration 72\n",
      "iteration 73\n",
      "iteration 74\n",
      "iteration 75\n",
      "iteration 76\n",
      "iteration 77\n",
      "iteration 78\n",
      "iteration 79\n",
      "iteration 80\n",
      "iteration 81\n",
      "iteration 82\n",
      "iteration 83\n",
      "iteration 84\n",
      "iteration 85\n",
      "iteration 86\n",
      "iteration 87\n",
      "iteration 88\n",
      "iteration 89\n",
      "iteration 90\n",
      "iteration 91\n",
      "iteration 92\n",
      "iteration 93\n",
      "iteration 94\n",
      "iteration 95\n",
      "iteration 96\n",
      "iteration 97\n",
      "iteration 98\n",
      "iteration 99\n",
      "iteration 100\n",
      "iteration 101\n",
      "iteration 102\n",
      "iteration 103\n",
      "iteration 104\n",
      "iteration 105\n",
      "iteration 106\n",
      "iteration 107\n",
      "iteration 108\n",
      "iteration 109\n",
      "iteration 110\n",
      "iteration 111\n",
      "iteration 112\n",
      "iteration 113\n",
      "iteration 114\n",
      "iteration 115\n",
      "iteration 116\n",
      "iteration 117\n",
      "iteration 118\n",
      "iteration 119\n",
      "iteration 120\n",
      "iteration 121\n",
      "iteration 122\n",
      "iteration 123\n",
      "iteration 124\n",
      "iteration 125\n",
      "iteration 126\n",
      "iteration 127\n",
      "iteration 128\n",
      "iteration 129\n",
      "iteration 130\n",
      "iteration 131\n",
      "iteration 132\n",
      "iteration 133\n",
      "iteration 134\n",
      "iteration 135\n",
      "iteration 136\n",
      "iteration 137\n",
      "iteration 138\n",
      "iteration 139\n",
      "iteration 140\n",
      "iteration 141\n",
      "iteration 142\n",
      "iteration 143\n",
      "iteration 144\n",
      "iteration 145\n",
      "iteration 146\n",
      "iteration 147\n",
      "iteration 148\n",
      "iteration 149\n",
      "iteration 150\n",
      "iteration 151\n",
      "iteration 152\n",
      "iteration 153\n",
      "iteration 154\n",
      "iteration 155\n",
      "iteration 156\n",
      "iteration 157\n",
      "iteration 158\n",
      "iteration 159\n",
      "iteration 160\n",
      "iteration 161\n",
      "iteration 162\n",
      "iteration 163\n",
      "iteration 164\n",
      "iteration 165\n",
      "iteration 166\n",
      "iteration 167\n",
      "iteration 168\n",
      "iteration 169\n",
      "iteration 170\n",
      "iteration 171\n",
      "iteration 172\n",
      "iteration 173\n",
      "iteration 174\n",
      "iteration 175\n",
      "iteration 176\n",
      "iteration 177\n",
      "iteration 178\n",
      "iteration 179\n",
      "iteration 180\n",
      "iteration 181\n",
      "iteration 182\n",
      "iteration 183\n",
      "iteration 184\n",
      "iteration 185\n",
      "iteration 186\n",
      "iteration 187\n",
      "iteration 188\n",
      "iteration 189\n",
      "iteration 190\n",
      "iteration 191\n",
      "iteration 192\n",
      "iteration 193\n",
      "iteration 194\n",
      "iteration 195\n",
      "iteration 196\n",
      "iteration 197\n",
      "iteration 198\n",
      "iteration 199\n",
      "Model Saved\n"
     ]
    }
   ],
   "source": [
    "#Import all the dependencies\n",
    "from gensim.models.doc2vec import Doc2Vec, TaggedDocument\n",
    "from nltk.tokenize import word_tokenize\n",
    "import nltk\n",
    "\n",
    "\n",
    "#nltk.download ()\n",
    "#nltk.download('averaged_perceptron_tagger') # indispensable pour word_tokenize ?\n",
    "\n",
    "# on tag\n",
    "\n",
    "data = [\"I love machine learning. Its awesome.\",\n",
    "        \"I love coding in python\",\n",
    "        \"I love building chatbots\",\n",
    "        \"they chat amagingly well\"]\n",
    "\n",
    "tagged_data = [TaggedDocument(words=word_tokenize(_d.lower()), tags=[str(i)]) for i, _d in enumerate(data)]\n",
    "\n",
    "# on  train et on sauve\n",
    "max_epochs = 200\n",
    "vec_size = 20\n",
    "alpha = 0.025\n",
    "\n",
    "model = Doc2Vec(vector_size=vec_size,\n",
    "                alpha=alpha, \n",
    "                min_alpha=0.00025,\n",
    "                min_count=1, # on peur retirer les mots qui se repete peu\n",
    "                dm =1)\n",
    "  \n",
    "model.build_vocab(tagged_data)\n",
    "\n",
    "for epoch in range(max_epochs):\n",
    "    print('iteration {0}'.format(epoch))\n",
    "    model.train(tagged_data,\n",
    "                total_examples=model.corpus_count,\n",
    "                epochs=model.iter)\n",
    "    # decrease the learning rate\n",
    "    model.alpha -= 0.0002\n",
    "    # fix the learning rate, no decay\n",
    "    model.min_alpha = model.alpha\n",
    "\n",
    "model.save(\"d2v.model\")\n",
    "print(\"Model Saved\")"
   ]
  },
  {
   "cell_type": "code",
   "execution_count": 92,
   "id": "passing-backing",
   "metadata": {},
   "outputs": [
    {
     "data": {
      "text/plain": [
       "dict_keys(['i', 'love', 'machine', 'learning', '.', 'its', 'awesome', 'coding', 'in', 'python', 'building', 'chatbots', 'they', 'chat', 'amagingly', 'well'])"
      ]
     },
     "execution_count": 92,
     "metadata": {},
     "output_type": "execute_result"
    }
   ],
   "source": [
    "from gensim.models.doc2vec import Doc2Vec\n",
    "\n",
    "model= Doc2Vec.load(\"d2v.model\")\n",
    "\n",
    "dico = model.wv.vocab\n",
    "\n",
    "\n",
    "dico.keys()"
   ]
  },
  {
   "cell_type": "code",
   "execution_count": 22,
   "id": "residential-registration",
   "metadata": {},
   "outputs": [
    {
     "name": "stdout",
     "output_type": "stream",
     "text": [
      "V1_infer [-0.00564685  0.01462928 -0.01748178 -0.00022416  0.00809241 -0.0129272\n",
      "  0.00882894 -0.01006111  0.01500504 -0.01217108 -0.02726755 -0.00573638\n",
      "  0.01094585 -0.00329853 -0.01772864 -0.0081103  -0.01087801  0.01676391\n",
      " -0.02984307  0.01281742]\n",
      "\n",
      "similar_doc = [('0', 0.9640241861343384), ('2', 0.9434124231338501), ('3', 0.9273204803466797)]\n",
      "\n",
      "[-0.13717967 -0.09493966 -0.06150101 -0.1094641  -0.07383767 -0.0083202\n",
      "  0.06344301  0.12452457 -0.0131894  -0.05017306  0.04211924 -0.0159562\n",
      "  0.05519256  0.02529985 -0.01723339  0.05578071 -0.08192607  0.04602431\n",
      "  0.14798976  0.03867978]\n"
     ]
    }
   ],
   "source": [
    "from gensim.models.doc2vec import Doc2Vec\n",
    "\n",
    "model= Doc2Vec.load(\"d2v.model\")\n",
    "\n",
    "\n",
    "\n",
    "#to find the vector of a document which is not in training data\n",
    "test_data = word_tokenize(\"I love chatbots\".lower())\n",
    "\n",
    "v1 = model.infer_vector(test_data)\n",
    "print(\"V1_infer\", v1)\n",
    "print ()\n",
    "# to find most similar doc using tags\n",
    "similar_doc = model.docvecs.most_similar('1')\n",
    "print('similar_doc =',similar_doc)\n",
    "\n",
    "print ()\n",
    "\n",
    "\n",
    "# to find vector of doc in training data using tags or in other words, printing the vector of document at index 1 in training data\n",
    "print(model.docvecs['1'])"
   ]
  },
  {
   "cell_type": "code",
   "execution_count": 3,
   "id": "lonely-inventory",
   "metadata": {},
   "outputs": [],
   "source": [
    "# pour gagner de la place apres train\n",
    "model.delete_temporary_training_data(keep_doctags_vectors=True, keep_inference=True)"
   ]
  },
  {
   "cell_type": "code",
   "execution_count": null,
   "id": "foreign-template",
   "metadata": {},
   "outputs": [],
   "source": [
    "\"\"\"\n",
    "loading data from a file ???\n",
    "\"\"\"\n",
    "\n",
    "import smart_open\n",
    "\n",
    "def read_corpus(fname, tokens_only=False):\n",
    "    with smart_open.open(fname, encoding=\"iso-8859-1\") as f:\n",
    "        for i, line in enumerate(f):\n",
    "            tokens = gensim.utils.simple_preprocess(line)\n",
    "            if tokens_only:\n",
    "                yield tokens\n",
    "            else:\n",
    "                # For training data, add tags\n",
    "                yield gensim.models.doc2vec.TaggedDocument(tokens, [i])\n",
    "\n",
    "\n",
    "train_corpus = list(read_corpus(lee_train_file))\n",
    "test_corpus = list(read_corpus(lee_test_file, tokens_only=True))"
   ]
  },
  {
   "cell_type": "code",
   "execution_count": 5,
   "id": "automatic-society",
   "metadata": {},
   "outputs": [],
   "source": []
  },
  {
   "cell_type": "code",
   "execution_count": 78,
   "id": "alive-chinese",
   "metadata": {},
   "outputs": [
    {
     "name": "stdout",
     "output_type": "stream",
     "text": [
      "iteration 0\n",
      "iteration 1\n",
      "iteration 2\n",
      "iteration 3\n",
      "iteration 4\n",
      "iteration 5\n",
      "iteration 6\n",
      "iteration 7\n",
      "iteration 8\n",
      "iteration 9\n",
      "iteration 10\n",
      "iteration 11\n",
      "iteration 12\n",
      "iteration 13\n",
      "iteration 14\n",
      "iteration 15\n",
      "iteration 16\n",
      "iteration 17\n",
      "iteration 18\n",
      "iteration 19\n",
      "iteration 20\n",
      "iteration 21\n",
      "iteration 22\n",
      "iteration 23\n",
      "iteration 24\n",
      "iteration 25\n",
      "iteration 26\n",
      "iteration 27\n",
      "iteration 28\n",
      "iteration 29\n",
      "iteration 30\n",
      "iteration 31\n",
      "iteration 32\n",
      "iteration 33\n",
      "iteration 34\n",
      "iteration 35\n",
      "iteration 36\n",
      "iteration 37\n",
      "iteration 38\n",
      "iteration 39\n",
      "iteration 40\n",
      "iteration 41\n",
      "iteration 42\n",
      "iteration 43\n",
      "iteration 44\n",
      "iteration 45\n",
      "iteration 46\n",
      "iteration 47\n",
      "iteration 48\n",
      "iteration 49\n"
     ]
    },
    {
     "name": "stderr",
     "output_type": "stream",
     "text": [
      "/home/patrick/anaconda3/lib/python3.7/site-packages/ipykernel_launcher.py:70: DeprecationWarning: Call to deprecated `iter` (Attribute will be removed in 4.0.0, use self.epochs instead).\n"
     ]
    },
    {
     "name": "stdout",
     "output_type": "stream",
     "text": [
      "iteration 50\n",
      "iteration 51\n",
      "iteration 52\n",
      "iteration 53\n",
      "iteration 54\n",
      "iteration 55\n",
      "iteration 56\n",
      "iteration 57\n",
      "iteration 58\n",
      "iteration 59\n",
      "iteration 60\n",
      "iteration 61\n",
      "iteration 62\n",
      "iteration 63\n",
      "iteration 64\n",
      "iteration 65\n",
      "iteration 66\n",
      "iteration 67\n",
      "iteration 68\n",
      "iteration 69\n",
      "iteration 70\n",
      "iteration 71\n",
      "iteration 72\n",
      "iteration 73\n",
      "iteration 74\n",
      "iteration 75\n",
      "iteration 76\n",
      "iteration 77\n",
      "iteration 78\n",
      "iteration 79\n",
      "iteration 80\n",
      "iteration 81\n",
      "iteration 82\n",
      "iteration 83\n",
      "iteration 84\n",
      "iteration 85\n",
      "iteration 86\n",
      "iteration 87\n",
      "iteration 88\n",
      "iteration 89\n",
      "iteration 90\n",
      "iteration 91\n",
      "iteration 92\n",
      "iteration 93\n",
      "iteration 94\n",
      "iteration 95\n",
      "iteration 96\n",
      "iteration 97\n",
      "iteration 98\n",
      "iteration 99\n",
      "iteration 100\n",
      "iteration 101\n",
      "iteration 102\n",
      "iteration 103\n",
      "iteration 104\n",
      "iteration 105\n",
      "iteration 106\n",
      "iteration 107\n",
      "iteration 108\n",
      "iteration 109\n",
      "iteration 110\n",
      "iteration 111\n",
      "iteration 112\n",
      "iteration 113\n",
      "iteration 114\n",
      "iteration 115\n",
      "iteration 116\n",
      "iteration 117\n",
      "iteration 118\n",
      "iteration 119\n",
      "iteration 120\n",
      "iteration 121\n",
      "iteration 122\n",
      "iteration 123\n",
      "iteration 124\n",
      "iteration 125\n",
      "iteration 126\n",
      "iteration 127\n",
      "iteration 128\n",
      "iteration 129\n",
      "iteration 130\n",
      "iteration 131\n",
      "iteration 132\n",
      "iteration 133\n",
      "iteration 134\n",
      "iteration 135\n",
      "iteration 136\n",
      "iteration 137\n",
      "iteration 138\n",
      "iteration 139\n",
      "iteration 140\n",
      "iteration 141\n",
      "iteration 142\n",
      "iteration 143\n",
      "iteration 144\n",
      "iteration 145\n",
      "iteration 146\n",
      "iteration 147\n",
      "iteration 148\n",
      "iteration 149\n",
      "iteration 150\n",
      "iteration 151\n",
      "iteration 152\n",
      "iteration 153\n",
      "iteration 154\n",
      "iteration 155\n",
      "iteration 156\n",
      "iteration 157\n",
      "iteration 158\n",
      "iteration 159\n",
      "iteration 160\n",
      "iteration 161\n",
      "iteration 162\n",
      "iteration 163\n",
      "iteration 164\n",
      "iteration 165\n",
      "iteration 166\n",
      "iteration 167\n",
      "iteration 168\n",
      "iteration 169\n",
      "iteration 170\n",
      "iteration 171\n",
      "iteration 172\n",
      "iteration 173\n",
      "iteration 174\n",
      "iteration 175\n",
      "iteration 176\n",
      "iteration 177\n",
      "iteration 178\n",
      "iteration 179\n",
      "iteration 180\n",
      "iteration 181\n",
      "iteration 182\n",
      "iteration 183\n",
      "iteration 184\n",
      "iteration 185\n",
      "iteration 186\n",
      "iteration 187\n",
      "iteration 188\n",
      "iteration 189\n",
      "iteration 190\n",
      "iteration 191\n",
      "iteration 192\n",
      "iteration 193\n",
      "iteration 194\n",
      "iteration 195\n",
      "iteration 196\n",
      "iteration 197\n",
      "iteration 198\n",
      "iteration 199\n",
      "iteration 0\n",
      "iteration 1\n",
      "iteration 2\n",
      "iteration 3\n",
      "iteration 4\n",
      "iteration 5\n",
      "iteration 6\n",
      "iteration 7\n",
      "iteration 8\n",
      "iteration 9\n",
      "iteration 10\n",
      "iteration 11\n",
      "iteration 12\n",
      "iteration 13\n",
      "iteration 14\n",
      "iteration 15\n",
      "iteration 16\n",
      "iteration 17\n",
      "iteration 18\n",
      "iteration 19\n",
      "iteration 20\n",
      "iteration 21\n",
      "iteration 22\n",
      "iteration 23\n",
      "iteration 24\n",
      "iteration 25\n",
      "iteration 26\n",
      "iteration 27\n",
      "iteration 28\n",
      "iteration 29\n",
      "iteration 30\n",
      "iteration 31\n",
      "iteration 32\n",
      "iteration 33\n",
      "iteration 34\n",
      "iteration 35\n",
      "iteration 36\n",
      "iteration 37\n",
      "iteration 38\n",
      "iteration 39\n",
      "iteration 40\n",
      "iteration 41\n",
      "iteration 42\n",
      "iteration 43\n",
      "iteration 44\n",
      "iteration 45\n",
      "iteration 46\n",
      "iteration 47\n",
      "iteration 48\n",
      "iteration 49\n",
      "iteration 50\n",
      "iteration 51\n",
      "iteration 52\n",
      "iteration 53\n",
      "iteration 54\n",
      "iteration 55\n",
      "iteration 56\n",
      "iteration 57\n",
      "iteration 58\n",
      "iteration 59\n",
      "iteration 60\n",
      "iteration 61\n",
      "iteration 62\n",
      "iteration 63\n",
      "iteration 64\n",
      "iteration 65\n",
      "iteration 66\n",
      "iteration 67\n",
      "iteration 68\n",
      "iteration 69\n",
      "iteration 70\n",
      "iteration 71\n",
      "iteration 72\n",
      "iteration 73\n",
      "iteration 74\n",
      "iteration 75\n",
      "iteration 76\n",
      "iteration 77\n",
      "iteration 78\n",
      "iteration 79\n",
      "iteration 80\n",
      "iteration 81\n",
      "iteration 82\n",
      "iteration 83\n",
      "iteration 84\n",
      "iteration 85\n",
      "iteration 86\n",
      "iteration 87\n",
      "iteration 88\n",
      "iteration 89\n",
      "iteration 90\n",
      "iteration 91\n",
      "iteration 92\n",
      "iteration 93\n",
      "iteration 94\n",
      "iteration 95\n",
      "iteration 96\n",
      "iteration 97\n",
      "iteration 98\n",
      "iteration 99\n",
      "iteration 100\n",
      "iteration 101\n",
      "iteration 102\n",
      "iteration 103\n",
      "iteration 104\n",
      "iteration 105\n",
      "iteration 106\n",
      "iteration 107\n",
      "iteration 108\n",
      "iteration 109\n",
      "iteration 110\n",
      "iteration 111\n",
      "iteration 112\n",
      "iteration 113\n",
      "iteration 114\n",
      "iteration 115\n",
      "iteration 116\n",
      "iteration 117\n",
      "iteration 118\n",
      "iteration 119\n",
      "iteration 120\n",
      "iteration 121\n",
      "iteration 122\n",
      "iteration 123\n",
      "iteration 124\n",
      "iteration 125\n",
      "iteration 126\n",
      "iteration 127\n",
      "iteration 128\n",
      "iteration 129\n",
      "iteration 130\n",
      "iteration 131\n",
      "iteration 132\n",
      "iteration 133\n",
      "iteration 134\n",
      "iteration 135\n",
      "iteration 136\n",
      "iteration 137\n",
      "iteration 138\n",
      "iteration 139\n",
      "iteration 140\n",
      "iteration 141\n",
      "iteration 142\n",
      "iteration 143\n",
      "iteration 144\n",
      "iteration 145\n",
      "iteration 146\n",
      "iteration 147\n",
      "iteration 148\n",
      "iteration 149\n",
      "iteration 150\n",
      "iteration 151\n",
      "iteration 152\n",
      "iteration 153\n",
      "iteration 154\n",
      "iteration 155\n",
      "iteration 156\n",
      "iteration 157\n",
      "iteration 158\n",
      "iteration 159\n",
      "iteration 160\n",
      "iteration 161\n",
      "iteration 162\n",
      "iteration 163\n",
      "iteration 164\n",
      "iteration 165\n",
      "iteration 166\n",
      "iteration 167\n",
      "iteration 168\n",
      "iteration 169\n",
      "iteration 170\n",
      "iteration 171\n",
      "iteration 172\n",
      "iteration 173\n",
      "iteration 174\n",
      "iteration 175\n",
      "iteration 176\n",
      "iteration 177\n",
      "iteration 178\n",
      "iteration 179\n",
      "iteration 180\n",
      "iteration 181\n",
      "iteration 182\n",
      "iteration 183\n",
      "iteration 184\n",
      "iteration 185\n",
      "iteration 186\n",
      "iteration 187\n",
      "iteration 188\n",
      "iteration 189\n",
      "iteration 190\n",
      "iteration 191\n",
      "iteration 192\n",
      "iteration 193\n",
      "iteration 194\n",
      "iteration 195\n",
      "iteration 196\n",
      "iteration 197\n",
      "iteration 198\n",
      "iteration 199\n",
      "Model Saved\n"
     ]
    }
   ],
   "source": [
    "#Import all the dependencies\n",
    "from gensim.models.doc2vec import Doc2Vec, TaggedDocument\n",
    "from nltk.tokenize import word_tokenize\n",
    "import nltk\n",
    "\n",
    "\n",
    "#nltk.download ()\n",
    "#nltk.download('averaged_perceptron_tagger') # indispensable pour word_tokenize ?\n",
    "\n",
    "# on tag\n",
    "data = [\"I love machine learning. Its awesome.\",\n",
    "        \"I love coding in python\",\n",
    "        \"I love building chatbots\",\n",
    "        \"they chat amagingly well\"]\n",
    "\n",
    "#tagged_data = [TaggedDocument(words=word_tokenize(_d.lower()), tags=[str(i)]) for i, _d in enumerate(data)]\n",
    "\n",
    "def lire_tagged_data (data) :\n",
    "    #liste_tagged_data = []\n",
    "    for i, _d in enumerate(data) :\n",
    "        ligne_tagged = TaggedDocument(words=word_tokenize(_d.lower()), tags=[str(i)])\n",
    "        #liste_tagged_data.append (ligne_tagged)\n",
    "        yield ligne_tagged \n",
    "    return \n",
    "\n",
    "#tagged_data = lire_tagged_data (data)\n",
    "\n",
    "def creation_bloc_tagged_data (data, debut, fin) :\n",
    "    liste_tagged_data = []\n",
    "    fin = min (len(data), fin)\n",
    "    for i in range(debut, fin) :\n",
    "        _d = data [i]\n",
    "        ligne_tagged = TaggedDocument(words=word_tokenize(_d.lower()), tags=[str(i)])\n",
    "        liste_tagged_data.append(ligne_tagged)\n",
    "        continue\n",
    "    return liste_tagged_data\n",
    "      \n",
    "\n",
    "\n",
    "# creation d un model\n",
    "max_epochs = 200\n",
    "vec_size = 20\n",
    "alpha = 0.025\n",
    "\n",
    "model = Doc2Vec(vector_size=vec_size,\n",
    "                alpha=alpha, \n",
    "                min_alpha=0.00025,\n",
    "                min_count=1, # on peur retirer les mots qui se repete peu\n",
    "                dm =1)\n",
    "\n",
    "# calculer le dictionnaire de mot avec un iterateur en entree (lire_tagged_data (data))\n",
    "  \n",
    "model.build_vocab(lire_tagged_data (data))\n",
    "\n",
    "\n",
    "\n",
    " \n",
    "        \n",
    "        \n",
    "    \n",
    "    \n",
    "    \n",
    "    \n",
    "def apprentissage_par_bloc (model, bloc, max_epochs) :\n",
    "\n",
    "    for epoch in range(max_epochs):\n",
    "        print('iteration {0}'.format(epoch))\n",
    "        model.train(bloc,\n",
    "                    total_examples=model.corpus_count,\n",
    "                    epochs=model.iter)\n",
    "        # decrease the learning rate\n",
    "        model.alpha -= 0.0002\n",
    "        # fix the learning rate, no decay\n",
    "        model.min_alpha = model.alpha\n",
    "    return model\n",
    "\n",
    "\n",
    "def data_by_bloc (data, taille_bloc = 2) :\n",
    "    \n",
    "    taille_data = len(data)\n",
    "    \n",
    "    # bouclage pour obtenir une suite de bloc de data\n",
    "    for debut in range (0, taille_data, taille_bloc ) :\n",
    "        fin = debut + taille_bloc\n",
    "        if fin > taille_data :\n",
    "            fin = taille_data\n",
    "        bloc = creation_bloc_tagged_data (data, debut, fin)\n",
    "        yield bloc\n",
    "    return\n",
    "\n",
    "for bloc in data_by_bloc (data, taille_bloc = 2) :\n",
    "    model = apprentissage_par_bloc (model, bloc, max_epochs)\n",
    "    continue   \n",
    "    \n",
    "        \n",
    "    \n",
    "\n",
    "model.save(\"d3v.model\")\n",
    "print(\"Model Saved\")"
   ]
  },
  {
   "cell_type": "code",
   "execution_count": 49,
   "id": "obvious-heating",
   "metadata": {},
   "outputs": [
    {
     "name": "stdout",
     "output_type": "stream",
     "text": [
      "V1_infer [ 0.22569653  0.28750235  0.02401031 -0.0108829   0.17088532  0.04682619\n",
      " -0.11734542 -0.18317683 -0.0057466   0.39737746  0.09157835  0.34125048\n",
      " -0.2888558  -0.40479952 -0.21948878 -0.17755204  0.35153478  0.14097649\n",
      " -0.29146546 -0.07713759]\n",
      "\n",
      "similar_doc = [('2', 0.999789834022522), ('1', -0.9530922174453735), ('0', -0.9607970714569092)]\n",
      "\n",
      "[-0.1070747  -0.11949181 -0.03749743 -0.00871333 -0.07253049  0.01190558\n",
      "  0.07141125  0.09373917  0.03083587 -0.14086495 -0.03564801 -0.07839429\n",
      "  0.10092853  0.10344115  0.0801303   0.08149958 -0.13921219 -0.00826297\n",
      "  0.1290821   0.06467713]\n"
     ]
    }
   ],
   "source": [
    "from gensim.models.doc2vec import Doc2Vec\n",
    "\n",
    "model= Doc2Vec.load(\"d3v.model\")\n",
    "\n",
    "#to find the vector of a document which is not in training data\n",
    "test_data = word_tokenize(\"they chat amagingly well\".lower())\n",
    "\n",
    "v1 = model.infer_vector(test_data)\n",
    "print(\"V1_infer\", v1)\n",
    "print ()\n",
    "# to find most similar doc using tags\n",
    "similar_doc = model.docvecs.most_similar('3')\n",
    "print('similar_doc =',similar_doc)\n",
    "\n",
    "print ()\n",
    "# to find vector of doc in training data using tags or in other words, printing the vector of document at index 1 in training data\n",
    "print(model.docvecs['0'])"
   ]
  },
  {
   "cell_type": "code",
   "execution_count": null,
   "id": "involved-great",
   "metadata": {},
   "outputs": [],
   "source": [
    "'''\n",
    "\n",
    "V1_infer [-0.00564685  0.01462928 -0.01748178 -0.00022416  0.00809241 -0.0129272\n",
    "  0.00882894 -0.01006111  0.01500504 -0.01217108 -0.02726755 -0.00573638\n",
    "  0.01094585 -0.00329853 -0.01772864 -0.0081103  -0.01087801  0.01676391\n",
    " -0.02984307  0.01281742]\n",
    "\n",
    "similar_doc = [('0', 0.9640241861343384), ('2', 0.9434124231338501), ('3', 0.9273204803466797)]\n",
    "\n",
    "[-0.13717967 -0.09493966 -0.06150101 -0.1094641  -0.07383767 -0.0083202\n",
    "  0.06344301  0.12452457 -0.0131894  -0.05017306  0.04211924 -0.0159562\n",
    "  0.05519256  0.02529985 -0.01723339  0.05578071 -0.08192607  0.04602431\n",
    "  0.14798976  0.03867978]\n",
    "  \n",
    "'''\n",
    "''"
   ]
  },
  {
   "cell_type": "code",
   "execution_count": 28,
   "id": "impossible-smile",
   "metadata": {},
   "outputs": [
    {
     "data": {
      "text/plain": [
       "array([[0.00000000e+00, 2.22044605e-16, 5.00000000e-01],\n",
       "       [2.22044605e-16, 0.00000000e+00, 5.00000000e-01],\n",
       "       [5.00000000e-01, 5.00000000e-01, 0.00000000e+00]])"
      ]
     },
     "execution_count": 28,
     "metadata": {},
     "output_type": "execute_result"
    }
   ],
   "source": [
    "import numpy as np\n",
    "from sklearn.metrics import pairwise_distances\n",
    "from scipy.spatial.distance import cosine\n",
    "\n",
    "A = np.array(\n",
    "[[0, 1, 0, 0, 1],\n",
    "[0, 1, 0, 0, 1],\n",
    "[1, 0, 0, 0, 1]])\n",
    "\n",
    "dist_out = pairwise_distances(A, metric=\"cosine\")\n",
    "dist_out"
   ]
  },
  {
   "cell_type": "code",
   "execution_count": 27,
   "id": "senior-delivery",
   "metadata": {},
   "outputs": [
    {
     "data": {
      "text/plain": [
       "array([[0.00000000e+00, 2.22044605e-16, 5.00000000e-01],\n",
       "       [2.22044605e-16, 0.00000000e+00, 5.00000000e-01],\n",
       "       [5.00000000e-01, 5.00000000e-01, 0.00000000e+00]])"
      ]
     },
     "execution_count": 27,
     "metadata": {},
     "output_type": "execute_result"
    }
   ],
   "source": [
    "pairwise_distances(A, metric=\"cosine\")"
   ]
  },
  {
   "cell_type": "code",
   "execution_count": 32,
   "id": "level-roots",
   "metadata": {},
   "outputs": [
    {
     "data": {
      "text/plain": [
       "array([[0., 1.],\n",
       "       [1., 0.]])"
      ]
     },
     "execution_count": 32,
     "metadata": {},
     "output_type": "execute_result"
    }
   ],
   "source": [
    "A = np.array(\n",
    "[[0, 1, ],\n",
    "[1, 0,]])\n",
    "\n",
    "dist_out = pairwise_distances(A, metric=\"cosine\")\n",
    "dist_out"
   ]
  },
  {
   "cell_type": "code",
   "execution_count": 33,
   "id": "occupied-venice",
   "metadata": {},
   "outputs": [
    {
     "data": {
      "text/plain": [
       "array([[0., 2.],\n",
       "       [2., 0.]])"
      ]
     },
     "execution_count": 33,
     "metadata": {},
     "output_type": "execute_result"
    }
   ],
   "source": [
    "A = np.array(\n",
    "[[1, 1, ],\n",
    "[-1, -1,]])\n",
    "\n",
    "dist_out = pairwise_distances(A, metric=\"cosine\")\n",
    "dist_out"
   ]
  },
  {
   "cell_type": "code",
   "execution_count": 34,
   "id": "ambient-visiting",
   "metadata": {},
   "outputs": [
    {
     "data": {
      "text/plain": [
       "array([[0., 2.],\n",
       "       [2., 0.]])"
      ]
     },
     "execution_count": 34,
     "metadata": {},
     "output_type": "execute_result"
    }
   ],
   "source": [
    "A = np.array(\n",
    "[[2, 2, ],\n",
    "[-1, -1,]])\n",
    "\n",
    "dist_out = pairwise_distances(A, metric=\"cosine\")\n",
    "dist_out"
   ]
  },
  {
   "cell_type": "code",
   "execution_count": 35,
   "id": "severe-marathon",
   "metadata": {},
   "outputs": [
    {
     "name": "stdout",
     "output_type": "stream",
     "text": [
      "pairwise dense output:\n",
      " [[1.         0.40824829 0.40824829]\n",
      " [0.40824829 1.         0.33333333]\n",
      " [0.40824829 0.33333333 1.        ]]\n",
      "\n",
      "\n",
      "pairwise sparse output:\n",
      "   (0, 1)\t0.408248290463863\n",
      "  (0, 2)\t0.408248290463863\n",
      "  (0, 0)\t0.9999999999999998\n",
      "  (1, 0)\t0.408248290463863\n",
      "  (1, 2)\t0.3333333333333334\n",
      "  (1, 1)\t1.0000000000000002\n",
      "  (2, 1)\t0.3333333333333334\n",
      "  (2, 0)\t0.408248290463863\n",
      "  (2, 2)\t1.0000000000000002\n",
      "\n"
     ]
    }
   ],
   "source": [
    "from sklearn.metrics.pairwise import cosine_similarity\n",
    "from scipy import sparse\n",
    "\n",
    "A =  np.array([[0, 1, 0, 0, 1], [0, 0, 1, 1, 1],[1, 1, 0, 1, 0]])\n",
    "A_sparse = sparse.csr_matrix(A)\n",
    "\n",
    "similarities = cosine_similarity(A_sparse)\n",
    "print('pairwise dense output:\\n {}\\n'.format(similarities))\n",
    "print ()\n",
    "#also can output sparse matrices\n",
    "similarities_sparse = cosine_similarity(A_sparse,dense_output=False)\n",
    "print('pairwise sparse output:\\n {}\\n'.format(similarities_sparse))"
   ]
  },
  {
   "cell_type": "code",
   "execution_count": 50,
   "id": "north-causing",
   "metadata": {},
   "outputs": [],
   "source": [
    "A = np.array(\n",
    "[[2, 2, 3],\n",
    "[-1, -1, 3]])\n"
   ]
  },
  {
   "cell_type": "code",
   "execution_count": 44,
   "id": "partial-swedish",
   "metadata": {},
   "outputs": [
    {
     "name": "stdout",
     "output_type": "stream",
     "text": [
      "pairwise  output:\n",
      " [[ 1. -1.]\n",
      " [-1.  1.]]\n",
      "\n"
     ]
    }
   ],
   "source": [
    "similarities = cosine_similarity(A,dense_output=False)\n",
    "print('pairwise  output:\\n {}\\n'.format(similarities))"
   ]
  },
  {
   "cell_type": "code",
   "execution_count": null,
   "id": "editorial-cooling",
   "metadata": {},
   "outputs": [],
   "source": [
    "m = np.array([ V1_infer,V2_infer ])\n",
    "A"
   ]
  },
  {
   "cell_type": "code",
   "execution_count": 43,
   "id": "comfortable-approach",
   "metadata": {},
   "outputs": [
    {
     "name": "stdout",
     "output_type": "stream",
     "text": [
      "pairwise sparse output:\n",
      "   (0, 1)\t-0.9999999999999998\n",
      "  (0, 0)\t0.9999999999999998\n",
      "  (1, 1)\t0.9999999999999998\n",
      "  (1, 0)\t-0.9999999999999998\n",
      "\n"
     ]
    }
   ],
   "source": [
    "similarities_sparse = cosine_similarity(A_sparse,dense_output=False)\n",
    "print('pairwise sparse output:\\n {}\\n'.format(similarities_sparse))"
   ]
  },
  {
   "cell_type": "code",
   "execution_count": 41,
   "id": "decreased-vampire",
   "metadata": {},
   "outputs": [
    {
     "data": {
      "text/plain": [
       "<2x2 sparse matrix of type '<class 'numpy.int64'>'\n",
       "\twith 4 stored elements in Compressed Sparse Row format>"
      ]
     },
     "execution_count": 41,
     "metadata": {},
     "output_type": "execute_result"
    }
   ],
   "source": []
  },
  {
   "cell_type": "code",
   "execution_count": 62,
   "id": "controlling-advisory",
   "metadata": {},
   "outputs": [
    {
     "data": {
      "text/plain": [
       "20"
      ]
     },
     "execution_count": 62,
     "metadata": {},
     "output_type": "execute_result"
    }
   ],
   "source": [
    "V1_infer = [ 0.22569653,  0.28750235,  0.02401031, -0.0108829,   0.17088532,  0.04682619,\n",
    " -0.11734542, -0.18317683, -0.0057466,   0.39737746,  0.09157835,  0.34125048,\n",
    " -0.2888558,  -0.40479952, -0.21948878, -0.17755204,  0.35153478,  0.14097649,\n",
    " -0.29146546, -0.07713759,]\n",
    "len(V1_infer)"
   ]
  },
  {
   "cell_type": "code",
   "execution_count": 63,
   "id": "ethical-vegetable",
   "metadata": {},
   "outputs": [
    {
     "data": {
      "text/plain": [
       "20"
      ]
     },
     "execution_count": 63,
     "metadata": {},
     "output_type": "execute_result"
    }
   ],
   "source": [
    "V2_infer = [-0.1070747,  -0.11949181, -0.03749743, -0.00871333, -0.07253049,  0.01190558,\n",
    "  0.07141125,  0.09373917,  0.03083587, -0.14086495, -0.03564801, -0.07839429,\n",
    "  0.10092853,  0.10344115,  0.0801303,   0.08149958, -0.13921219, -0.00826297,\n",
    "  0.1290821,   0.06467713,]\n",
    "\n",
    "len(V2_infer)"
   ]
  },
  {
   "cell_type": "code",
   "execution_count": 68,
   "id": "interpreted-cradle",
   "metadata": {},
   "outputs": [
    {
     "data": {
      "text/plain": [
       "<2x20 sparse matrix of type '<class 'numpy.float64'>'\n",
       "\twith 40 stored elements in Compressed Sparse Row format>"
      ]
     },
     "execution_count": 68,
     "metadata": {},
     "output_type": "execute_result"
    }
   ],
   "source": [
    "m = np.array([ V1_infer,V2_infer ])\n",
    "\n",
    "m_sparse = sparse.csr_matrix(m)\n",
    "\n",
    "m_sparse"
   ]
  },
  {
   "cell_type": "code",
   "execution_count": 73,
   "id": "allied-basis",
   "metadata": {},
   "outputs": [
    {
     "name": "stdout",
     "output_type": "stream",
     "text": [
      "pairwise  output:\n",
      " [[ 1.         -0.95425256]\n",
      " [-0.95425256  1.        ]]\n",
      "\n"
     ]
    }
   ],
   "source": [
    "\n",
    "similarities = cosine_similarity(m,dense_output=True)\n",
    "print('pairwise  output:\\n {}\\n'.format(similarities))"
   ]
  },
  {
   "cell_type": "code",
   "execution_count": 77,
   "id": "chicken-jackson",
   "metadata": {},
   "outputs": [
    {
     "data": {
      "text/plain": [
       "3.3306690738754696e-16"
      ]
     },
     "execution_count": 77,
     "metadata": {},
     "output_type": "execute_result"
    }
   ],
   "source": [
    "V1_infer = [ 0.22569653,  0.28750235,  0.02401031, -0.0108829,   0.17088532,  0.04682619,\n",
    " -0.11734542, -0.18317683, -0.0057466,   0.39737746,  0.09157835,  0.34125048,\n",
    " -0.2888558,  -0.40479952, -0.21948878, -0.17755204,  0.35153478,  0.14097649,\n",
    " -0.29146546, -0.07713759,]\n",
    "\n",
    "V2_infer = [-0.1070747,  -0.11949181, -0.03749743, -0.00871333, -0.07253049,  0.01190558,\n",
    "  0.07141125,  0.09373917,  0.03083587, -0.14086495, -0.03564801, -0.07839429,\n",
    "  0.10092853,  0.10344115,  0.0801303,   0.08149958, -0.13921219, -0.00826297,\n",
    "  0.1290821,   0.06467713,]\n",
    "\n",
    "m = np.array([ V1_infer,V1_infer ])\n",
    "\n",
    "similarities = cosine_similarity(m,dense_output=True)\n",
    "\n",
    "1.0 - similarities [0] [1]"
   ]
  },
  {
   "cell_type": "code",
   "execution_count": 86,
   "id": "impressive-edinburgh",
   "metadata": {},
   "outputs": [
    {
     "name": "stdout",
     "output_type": "stream",
     "text": [
      "caractere  .  OK\n",
      "caractere  '  OK\n",
      "caractere  ?  OK\n",
      "caractere  -  OK\n",
      "caractere  ;  OK\n",
      "caractere  (  OK\n",
      "caractere  )  OK\n",
      "caractere  #  OK\n",
      "caractere  =  OK\n",
      "caractere  !  OK\n",
      "caractere  &  OK\n",
      "caractere  *  OK\n",
      "caractere  @  OK\n",
      "caractere  %  OK\n",
      "caractere  \"  OK\n",
      "caractere  +  OK\n"
     ]
    }
   ],
   "source": [
    "from nltk.tokenize import word_tokenize\n",
    "\n",
    "ponctuation = {\".\" : None,\n",
    "                \"'\" :None,\n",
    "                '?' : None,\n",
    "                '-'  : None,\n",
    "                \";\"  :None,\n",
    "                '(' : None,\n",
    "                ')' : None,\n",
    "                '#' : None,\n",
    "                '=' : None,\n",
    "                '!' : None,\n",
    "                '&' : None,\n",
    "                '*' : None,\n",
    "                '@' : None,\n",
    "                '%' : None,\n",
    "                '\"' : None,\n",
    "                '+' : None,\n",
    "\n",
    "               }\n",
    "mot1 = \"test\"\n",
    "mot2 = \"du_test\"\n",
    "\n",
    "for caractere in ponctuation.keys() :\n",
    "    motTest = mot1+caractere+mot2\n",
    "    r = word_tokenize (mot)\n",
    "    isFind = False\n",
    "    for n in r :\n",
    "        if n in ponctuation :\n",
    "            print (\"caractere \", caractere, ' OK')\n",
    "            isFind = True\n",
    "            continue\n",
    "        continue\n",
    "    if not isFind :\n",
    "        print (\"caractere \", caractere, ' KO ###################')\n",
    "        \n",
    "    continue\n",
    "    \n",
    "\n",
    "        \n",
    "        \n",
    "            "
   ]
  },
  {
   "cell_type": "code",
   "execution_count": 83,
   "id": "popular-combining",
   "metadata": {},
   "outputs": [
    {
     "data": {
      "text/plain": [
       "['test', 'et']"
      ]
     },
     "execution_count": 83,
     "metadata": {},
     "output_type": "execute_result"
    }
   ],
   "source": [
    "word_tokenize ('test et')"
   ]
  },
  {
   "cell_type": "code",
   "execution_count": 88,
   "id": "chemical-liechtenstein",
   "metadata": {},
   "outputs": [
    {
     "name": "stdout",
     "output_type": "stream",
     "text": [
      "CPU times: user 2 µs, sys: 0 ns, total: 2 µs\n",
      "Wall time: 4.53 µs\n"
     ]
    }
   ],
   "source": [
    "t1 =  \"t1\"\n",
    "t2 = 't2'\n",
    "t3 = 't3'\n",
    "t4 = 't4'\n",
    "t5 = 't5'\n",
    "\n",
    "%time t = t1+t2+t3+t4+t5"
   ]
  },
  {
   "cell_type": "code",
   "execution_count": 89,
   "id": "interior-convention",
   "metadata": {},
   "outputs": [
    {
     "name": "stdout",
     "output_type": "stream",
     "text": [
      "CPU times: user 3 µs, sys: 1 µs, total: 4 µs\n",
      "Wall time: 5.72 µs\n"
     ]
    }
   ],
   "source": [
    "l = [t1, t2, t3, t4, t5]\n",
    "%time t = ''.join (l)"
   ]
  },
  {
   "cell_type": "code",
   "execution_count": null,
   "id": "finnish-senior",
   "metadata": {},
   "outputs": [],
   "source": []
  }
 ],
 "metadata": {
  "kernelspec": {
   "display_name": "Python 3",
   "language": "python",
   "name": "python3"
  },
  "language_info": {
   "codemirror_mode": {
    "name": "ipython",
    "version": 3
   },
   "file_extension": ".py",
   "mimetype": "text/x-python",
   "name": "python",
   "nbconvert_exporter": "python",
   "pygments_lexer": "ipython3",
   "version": "3.9.1"
  }
 },
 "nbformat": 4,
 "nbformat_minor": 5
}
