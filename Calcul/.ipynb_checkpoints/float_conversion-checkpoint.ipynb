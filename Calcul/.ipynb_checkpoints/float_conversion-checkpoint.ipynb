{
 "cells": [
  {
   "cell_type": "code",
   "execution_count": 37,
   "id": "hollywood-mistress",
   "metadata": {},
   "outputs": [],
   "source": [
    "#%save Convert.py 35"
   ]
  },
  {
   "cell_type": "code",
   "execution_count": 35,
   "id": "alike-setup",
   "metadata": {},
   "outputs": [],
   "source": [
    "import locale\n",
    "from locale import atof\n",
    "\n",
    "class Convert():\n",
    "    def __init__ (self,abbr = ''):\n",
    "        locale.setlocale(locale.LC_ALL, abbr)\n",
    "        self.info = locale.localeconv()\n",
    "        return\n",
    "    \n",
    "    def float(self, val):\n",
    "        \"\"\"\n",
    "        Parse a string to a floating point number. Uses locale.atof(),\n",
    "        in future with ICU present will use icu.NumberFormat.parse().\n",
    "        renvoie None if error\n",
    "        \"\"\"\n",
    "        try:\n",
    "            return locale.atof(val)\n",
    "        except ValueError:\n",
    "            point = locale.localeconv()['decimal_point']\n",
    "            sep = locale.localeconv()['thousands_sep']\n",
    "            try:\n",
    "                if point == ',':\n",
    "                    return locale.atof(val.replace(' ', sep).replace('.', sep))\n",
    "                elif point == '.':\n",
    "                    return locale.atof(val.replace(' ', sep).replace(',', sep))\n",
    "                else:\n",
    "                    return None\n",
    "            except ValueError:\n",
    "                return None\n",
    "            \n",
    "            \n"
   ]
  },
  {
   "cell_type": "code",
   "execution_count": null,
   "id": "proper-shock",
   "metadata": {},
   "outputs": [],
   "source": []
  },
  {
   "cell_type": "code",
   "execution_count": 46,
   "id": "dramatic-royalty",
   "metadata": {},
   "outputs": [
    {
     "data": {
      "text/plain": [
       "'1817907.08'"
      ]
     },
     "execution_count": 46,
     "metadata": {},
     "output_type": "execute_result"
    }
   ],
   "source": [
    "C = Convert()\n",
    "number = C.float('18.17 907,08')\n",
    "\n",
    "repr(number)"
   ]
  },
  {
   "cell_type": "code",
   "execution_count": 17,
   "id": "greatest-positive",
   "metadata": {},
   "outputs": [
    {
     "data": {
      "text/plain": [
       "{'int_curr_symbol': 'EUR ',\n",
       " 'currency_symbol': '€',\n",
       " 'mon_decimal_point': ',',\n",
       " 'mon_thousands_sep': '\\u202f',\n",
       " 'mon_grouping': [3, 0],\n",
       " 'positive_sign': '',\n",
       " 'negative_sign': '-',\n",
       " 'int_frac_digits': 2,\n",
       " 'frac_digits': 2,\n",
       " 'p_cs_precedes': 0,\n",
       " 'p_sep_by_space': 1,\n",
       " 'n_cs_precedes': 0,\n",
       " 'n_sep_by_space': 1,\n",
       " 'p_sign_posn': 1,\n",
       " 'n_sign_posn': 1,\n",
       " 'decimal_point': ',',\n",
       " 'thousands_sep': '\\u202f',\n",
       " 'grouping': [3, 0]}"
      ]
     },
     "execution_count": 17,
     "metadata": {},
     "output_type": "execute_result"
    }
   ],
   "source": [
    "locale.localeconv()"
   ]
  },
  {
   "cell_type": "code",
   "execution_count": null,
   "id": "comprehensive-worthy",
   "metadata": {},
   "outputs": [],
   "source": []
  }
 ],
 "metadata": {
  "kernelspec": {
   "display_name": "Python 3",
   "language": "python",
   "name": "python3"
  },
  "language_info": {
   "codemirror_mode": {
    "name": "ipython",
    "version": 3
   },
   "file_extension": ".py",
   "mimetype": "text/x-python",
   "name": "python",
   "nbconvert_exporter": "python",
   "pygments_lexer": "ipython3",
   "version": "3.9.1"
  }
 },
 "nbformat": 4,
 "nbformat_minor": 5
}
